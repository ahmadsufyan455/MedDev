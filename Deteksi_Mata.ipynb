{
  "nbformat": 4,
  "nbformat_minor": 0,
  "metadata": {
    "colab": {
      "name": "Deteksi Mata.ipynb",
      "provenance": []
    },
    "kernelspec": {
      "display_name": "Python 3",
      "name": "python3"
    },
    "language_info": {
      "name": "python"
    },
    "widgets": {
      "application/vnd.jupyter.widget-state+json": {
        "eef69fb635e2413fb280dee2d562c58d": {
          "model_module": "@jupyter-widgets/controls",
          "model_name": "HBoxModel",
          "state": {
            "_view_name": "HBoxView",
            "_dom_classes": [],
            "_model_name": "HBoxModel",
            "_view_module": "@jupyter-widgets/controls",
            "_model_module_version": "1.5.0",
            "_view_count": null,
            "_view_module_version": "1.5.0",
            "box_style": "",
            "layout": "IPY_MODEL_abd8a2772f5f41f98774d3e9d179bd86",
            "_model_module": "@jupyter-widgets/controls",
            "children": [
              "IPY_MODEL_39fe5892b02f4859abd4754a3c068398",
              "IPY_MODEL_e09b944f7a3041f2a736b43f0c997ab3"
            ]
          }
        },
        "abd8a2772f5f41f98774d3e9d179bd86": {
          "model_module": "@jupyter-widgets/base",
          "model_name": "LayoutModel",
          "state": {
            "_view_name": "LayoutView",
            "grid_template_rows": null,
            "right": null,
            "justify_content": null,
            "_view_module": "@jupyter-widgets/base",
            "overflow": null,
            "_model_module_version": "1.2.0",
            "_view_count": null,
            "flex_flow": null,
            "width": null,
            "min_width": null,
            "border": null,
            "align_items": null,
            "bottom": null,
            "_model_module": "@jupyter-widgets/base",
            "top": null,
            "grid_column": null,
            "overflow_y": null,
            "overflow_x": null,
            "grid_auto_flow": null,
            "grid_area": null,
            "grid_template_columns": null,
            "flex": null,
            "_model_name": "LayoutModel",
            "justify_items": null,
            "grid_row": null,
            "max_height": null,
            "align_content": null,
            "visibility": null,
            "align_self": null,
            "height": null,
            "min_height": null,
            "padding": null,
            "grid_auto_rows": null,
            "grid_gap": null,
            "max_width": null,
            "order": null,
            "_view_module_version": "1.2.0",
            "grid_template_areas": null,
            "object_position": null,
            "object_fit": null,
            "grid_auto_columns": null,
            "margin": null,
            "display": null,
            "left": null
          }
        },
        "39fe5892b02f4859abd4754a3c068398": {
          "model_module": "@jupyter-widgets/controls",
          "model_name": "FloatProgressModel",
          "state": {
            "_view_name": "ProgressView",
            "style": "IPY_MODEL_a376f36043154d97bf0a943bab5af2f0",
            "_dom_classes": [],
            "description": "",
            "_model_name": "FloatProgressModel",
            "bar_style": "success",
            "max": 1,
            "_view_module": "@jupyter-widgets/controls",
            "_model_module_version": "1.5.0",
            "value": 1,
            "_view_count": null,
            "_view_module_version": "1.5.0",
            "orientation": "horizontal",
            "min": 0,
            "description_tooltip": null,
            "_model_module": "@jupyter-widgets/controls",
            "layout": "IPY_MODEL_b2f90aa65df144ba98962d4a56faddff"
          }
        },
        "e09b944f7a3041f2a736b43f0c997ab3": {
          "model_module": "@jupyter-widgets/controls",
          "model_name": "HTMLModel",
          "state": {
            "_view_name": "HTMLView",
            "style": "IPY_MODEL_5ac25abe0a6e4abf8d7241409896d51b",
            "_dom_classes": [],
            "description": "",
            "_model_name": "HTMLModel",
            "placeholder": "​",
            "_view_module": "@jupyter-widgets/controls",
            "_model_module_version": "1.5.0",
            "value": " 601/? [00:52&lt;00:00, 11.50it/s]",
            "_view_count": null,
            "_view_module_version": "1.5.0",
            "description_tooltip": null,
            "_model_module": "@jupyter-widgets/controls",
            "layout": "IPY_MODEL_cd92919a1fa44ab0af34767643b5e72b"
          }
        },
        "a376f36043154d97bf0a943bab5af2f0": {
          "model_module": "@jupyter-widgets/controls",
          "model_name": "ProgressStyleModel",
          "state": {
            "_view_name": "StyleView",
            "_model_name": "ProgressStyleModel",
            "description_width": "initial",
            "_view_module": "@jupyter-widgets/base",
            "_model_module_version": "1.5.0",
            "_view_count": null,
            "_view_module_version": "1.2.0",
            "bar_color": null,
            "_model_module": "@jupyter-widgets/controls"
          }
        },
        "b2f90aa65df144ba98962d4a56faddff": {
          "model_module": "@jupyter-widgets/base",
          "model_name": "LayoutModel",
          "state": {
            "_view_name": "LayoutView",
            "grid_template_rows": null,
            "right": null,
            "justify_content": null,
            "_view_module": "@jupyter-widgets/base",
            "overflow": null,
            "_model_module_version": "1.2.0",
            "_view_count": null,
            "flex_flow": null,
            "width": null,
            "min_width": null,
            "border": null,
            "align_items": null,
            "bottom": null,
            "_model_module": "@jupyter-widgets/base",
            "top": null,
            "grid_column": null,
            "overflow_y": null,
            "overflow_x": null,
            "grid_auto_flow": null,
            "grid_area": null,
            "grid_template_columns": null,
            "flex": null,
            "_model_name": "LayoutModel",
            "justify_items": null,
            "grid_row": null,
            "max_height": null,
            "align_content": null,
            "visibility": null,
            "align_self": null,
            "height": null,
            "min_height": null,
            "padding": null,
            "grid_auto_rows": null,
            "grid_gap": null,
            "max_width": null,
            "order": null,
            "_view_module_version": "1.2.0",
            "grid_template_areas": null,
            "object_position": null,
            "object_fit": null,
            "grid_auto_columns": null,
            "margin": null,
            "display": null,
            "left": null
          }
        },
        "5ac25abe0a6e4abf8d7241409896d51b": {
          "model_module": "@jupyter-widgets/controls",
          "model_name": "DescriptionStyleModel",
          "state": {
            "_view_name": "StyleView",
            "_model_name": "DescriptionStyleModel",
            "description_width": "",
            "_view_module": "@jupyter-widgets/base",
            "_model_module_version": "1.5.0",
            "_view_count": null,
            "_view_module_version": "1.2.0",
            "_model_module": "@jupyter-widgets/controls"
          }
        },
        "cd92919a1fa44ab0af34767643b5e72b": {
          "model_module": "@jupyter-widgets/base",
          "model_name": "LayoutModel",
          "state": {
            "_view_name": "LayoutView",
            "grid_template_rows": null,
            "right": null,
            "justify_content": null,
            "_view_module": "@jupyter-widgets/base",
            "overflow": null,
            "_model_module_version": "1.2.0",
            "_view_count": null,
            "flex_flow": null,
            "width": null,
            "min_width": null,
            "border": null,
            "align_items": null,
            "bottom": null,
            "_model_module": "@jupyter-widgets/base",
            "top": null,
            "grid_column": null,
            "overflow_y": null,
            "overflow_x": null,
            "grid_auto_flow": null,
            "grid_area": null,
            "grid_template_columns": null,
            "flex": null,
            "_model_name": "LayoutModel",
            "justify_items": null,
            "grid_row": null,
            "max_height": null,
            "align_content": null,
            "visibility": null,
            "align_self": null,
            "height": null,
            "min_height": null,
            "padding": null,
            "grid_auto_rows": null,
            "grid_gap": null,
            "max_width": null,
            "order": null,
            "_view_module_version": "1.2.0",
            "grid_template_areas": null,
            "object_position": null,
            "object_fit": null,
            "grid_auto_columns": null,
            "margin": null,
            "display": null,
            "left": null
          }
        }
      }
    }
  },
  "cells": [
    {
      "cell_type": "code",
      "metadata": {
        "colab": {
          "base_uri": "https://localhost:8080/"
        },
        "id": "eudCjPIxwV6G",
        "outputId": "7514baaa-a39c-4999-b96d-83bf78c01175"
      },
      "source": [
        "# Cek Versi Tensorflow\n",
        "import tensorflow as tf\n",
        "print(tf.__version__)"
      ],
      "execution_count": 13,
      "outputs": [
        {
          "output_type": "stream",
          "text": [
            "2.4.1\n"
          ],
          "name": "stdout"
        }
      ]
    },
    {
      "cell_type": "code",
      "metadata": {
        "colab": {
          "base_uri": "https://localhost:8080/"
        },
        "id": "JG2-jVwizTq8",
        "outputId": "02b722b3-50ca-4b10-8c42-fdffa6d0b2b5"
      },
      "source": [
        "# Download Dataset Katarak\n",
        "! KAGGLE_CONFIG_DIR=/content/ kaggle datasets download jr2ngb/cataractdataset\n",
        "! chmod 600 kaggle.json\n",
        "! ls ~/.kaggle 2>/dev/null || mkdir ~/.kaggle\n",
        "! mv kaggle.json ~/.kaggle\n",
        "! kaggle datasets download jr2ngb/cataractdataset"
      ],
      "execution_count": 14,
      "outputs": [
        {
          "output_type": "stream",
          "text": [
            "Traceback (most recent call last):\n",
            "  File \"/usr/local/bin/kaggle\", line 5, in <module>\n",
            "    from kaggle.cli import main\n",
            "  File \"/usr/local/lib/python2.7/dist-packages/kaggle/__init__.py\", line 23, in <module>\n",
            "    api.authenticate()\n",
            "  File \"/usr/local/lib/python2.7/dist-packages/kaggle/api/kaggle_api_extended.py\", line 146, in authenticate\n",
            "    self.config_file, self.config_dir))\n",
            "IOError: Could not find kaggle.json. Make sure it's located in /content/. Or use the environment method.\n",
            "chmod: cannot access 'kaggle.json': No such file or directory\n",
            "kaggle.json\n",
            "mv: cannot stat 'kaggle.json': No such file or directory\n",
            "Downloading cataractdataset.zip to /content\n",
            "100% 3.34G/3.34G [00:38<00:00, 53.7MB/s]\n",
            "100% 3.34G/3.34G [00:38<00:00, 93.7MB/s]\n"
          ],
          "name": "stdout"
        }
      ]
    },
    {
      "cell_type": "code",
      "metadata": {
        "id": "Hju48lg_0lfU"
      },
      "source": [
        "# Proses Ekstrak Dataset\n",
        "import zipfile\n",
        "import os\n",
        "\n",
        "with zipfile.ZipFile('cataractdataset.zip','r') as z:\n",
        "  z.extractall('./')\n",
        "\n",
        "os.listdir()"
      ],
      "execution_count": null,
      "outputs": []
    },
    {
      "cell_type": "code",
      "metadata": {
        "id": "qGqtQGwEwbzN"
      },
      "source": [
        "import shutil\n",
        "dir_path = '/content/repository'\n",
        "\n",
        "shutil.rmtree(dir_path)"
      ],
      "execution_count": 19,
      "outputs": []
    },
    {
      "cell_type": "code",
      "metadata": {
        "id": "KVNPr99izo7K"
      },
      "source": [
        "base_dir = '/content/dataset'\n",
        "\n",
        "file_name = []\n",
        "tag = []\n",
        "full_path = []\n",
        "for path, subdirs, files in os.walk(base_dir):\n",
        "    for name in files:\n",
        "        full_path.append(os.path.join(path, name)) \n",
        "        tag.append(path.split('/')[-1])        \n",
        "        file_name.append(name)"
      ],
      "execution_count": 21,
      "outputs": []
    },
    {
      "cell_type": "code",
      "metadata": {
        "id": "9TDZbZRs4ArR"
      },
      "source": [
        "class myCallback(tf.keras.callbacks.Callback):\n",
        "    def on_epoch_end(self, epoch, logs={}):\n",
        "        if(logs.get('accuracy')>0.85 and logs.get('val_accuracy')>0.85):\n",
        "            print(\"\\nAkurasi telah mencapai lebih dari 85%, proses dihentikan!\")\n",
        "            self.model.stop_training = True"
      ],
      "execution_count": 22,
      "outputs": []
    },
    {
      "cell_type": "code",
      "metadata": {
        "id": "bJmuA5aY4Ir0"
      },
      "source": [
        "import pandas as pd\n",
        "df = pd.DataFrame({\"path\":full_path,'file_name':file_name,\"tag\":tag})\n",
        "df.groupby(['tag']).size()"
      ],
      "execution_count": null,
      "outputs": []
    },
    {
      "cell_type": "code",
      "metadata": {
        "colab": {
          "base_uri": "https://localhost:8080/",
          "height": 366
        },
        "id": "XdVUIVKX4Kse",
        "outputId": "ffc01811-b3fc-4554-85e3-62e2e2f28de6"
      },
      "source": [
        "from sklearn.model_selection import train_test_split\n",
        "\n",
        "X = df['path']\n",
        "y = df['tag']\n",
        "\n",
        "X_train, X_val, y_train, y_val = train_test_split(X, y, test_size=0.1, random_state=300)\n",
        "\n",
        "df_tr = pd.DataFrame({'path':X_train, 'tag':y_train, 'set':'train'})\n",
        "df_val = pd.DataFrame({'path':X_val, 'tag':y_val, 'set':'validation'})\n",
        "\n",
        "print('train size', len(df_tr))\n",
        "print('val size', len(df_val))\n",
        "\n",
        "df_all = df_tr.append([df_val]).reset_index(drop=1)\n",
        "print(df_all.groupby(['set','tag']).size(),'\\n')\n",
        "\n",
        "df_all.sample(3)"
      ],
      "execution_count": 24,
      "outputs": [
        {
          "output_type": "stream",
          "text": [
            "train size 540\n",
            "val size 61\n",
            "set         tag             \n",
            "train       1_normal            268\n",
            "            2_cataract           88\n",
            "            2_glaucoma           93\n",
            "            3_retina_disease     91\n",
            "validation  1_normal             32\n",
            "            2_cataract           12\n",
            "            2_glaucoma            8\n",
            "            3_retina_disease      9\n",
            "dtype: int64 \n",
            "\n"
          ],
          "name": "stdout"
        },
        {
          "output_type": "execute_result",
          "data": {
            "text/html": [
              "<div>\n",
              "<style scoped>\n",
              "    .dataframe tbody tr th:only-of-type {\n",
              "        vertical-align: middle;\n",
              "    }\n",
              "\n",
              "    .dataframe tbody tr th {\n",
              "        vertical-align: top;\n",
              "    }\n",
              "\n",
              "    .dataframe thead th {\n",
              "        text-align: right;\n",
              "    }\n",
              "</style>\n",
              "<table border=\"1\" class=\"dataframe\">\n",
              "  <thead>\n",
              "    <tr style=\"text-align: right;\">\n",
              "      <th></th>\n",
              "      <th>path</th>\n",
              "      <th>tag</th>\n",
              "      <th>set</th>\n",
              "    </tr>\n",
              "  </thead>\n",
              "  <tbody>\n",
              "    <tr>\n",
              "      <th>322</th>\n",
              "      <td>/content/dataset/1_normal/NL_289.png</td>\n",
              "      <td>1_normal</td>\n",
              "      <td>train</td>\n",
              "    </tr>\n",
              "    <tr>\n",
              "      <th>227</th>\n",
              "      <td>/content/dataset/2_glaucoma/Glaucoma_004.png</td>\n",
              "      <td>2_glaucoma</td>\n",
              "      <td>train</td>\n",
              "    </tr>\n",
              "    <tr>\n",
              "      <th>479</th>\n",
              "      <td>/content/dataset/2_glaucoma/Glaucoma_019.png</td>\n",
              "      <td>2_glaucoma</td>\n",
              "      <td>train</td>\n",
              "    </tr>\n",
              "  </tbody>\n",
              "</table>\n",
              "</div>"
            ],
            "text/plain": [
              "                                             path         tag    set\n",
              "322          /content/dataset/1_normal/NL_289.png    1_normal  train\n",
              "227  /content/dataset/2_glaucoma/Glaucoma_004.png  2_glaucoma  train\n",
              "479  /content/dataset/2_glaucoma/Glaucoma_019.png  2_glaucoma  train"
            ]
          },
          "metadata": {
            "tags": []
          },
          "execution_count": 24
        }
      ]
    },
    {
      "cell_type": "code",
      "metadata": {
        "colab": {
          "base_uri": "https://localhost:8080/",
          "height": 66,
          "referenced_widgets": [
            "eef69fb635e2413fb280dee2d562c58d",
            "abd8a2772f5f41f98774d3e9d179bd86",
            "39fe5892b02f4859abd4754a3c068398",
            "e09b944f7a3041f2a736b43f0c997ab3",
            "a376f36043154d97bf0a943bab5af2f0",
            "b2f90aa65df144ba98962d4a56faddff",
            "5ac25abe0a6e4abf8d7241409896d51b",
            "cd92919a1fa44ab0af34767643b5e72b"
          ]
        },
        "id": "HYYY4xkH4Wii",
        "outputId": "afcad3be-3f92-4a8b-b62c-8a11a8f2efea"
      },
      "source": [
        "import shutil\n",
        "from tqdm.notebook import tqdm as tq\n",
        "datasource_path = base_dir\n",
        "dataset_path = \"content/dataset/dataset/\"\n",
        "\n",
        "for index, row in tq(df_all.iterrows()):\n",
        "    \n",
        "    #detect filepath\n",
        "    file_path = row['path']            \n",
        "    if os.path.exists(file_path) == False:\n",
        "            file_path = os.path.join(datasource_path,row['tag'],row['image'].split('.')[0])  \n",
        "    \n",
        "    #make folder destination dirs\n",
        "    if os.path.exists(os.path.join(dataset_path,row['set'],row['tag'])) == False:\n",
        "        os.makedirs(os.path.join(dataset_path,row['set'],row['tag']))\n",
        "    \n",
        "    #define file dest\n",
        "    destination_file_name = file_path.split('/')[-1]\n",
        "    file_dest = os.path.join(dataset_path,row['set'],row['tag'],destination_file_name)\n",
        "    \n",
        "    #copy file from source to dest\n",
        "    if os.path.exists(file_dest) == False:\n",
        "        shutil.copy2(file_path,file_dest)"
      ],
      "execution_count": 25,
      "outputs": [
        {
          "output_type": "display_data",
          "data": {
            "application/vnd.jupyter.widget-view+json": {
              "model_id": "eef69fb635e2413fb280dee2d562c58d",
              "version_minor": 0,
              "version_major": 2
            },
            "text/plain": [
              "HBox(children=(FloatProgress(value=1.0, bar_style='info', max=1.0), HTML(value='')))"
            ]
          },
          "metadata": {
            "tags": []
          }
        },
        {
          "output_type": "stream",
          "text": [
            "\n"
          ],
          "name": "stdout"
        }
      ]
    },
    {
      "cell_type": "code",
      "metadata": {
        "colab": {
          "base_uri": "https://localhost:8080/"
        },
        "id": "t8ETiU7m4dJk",
        "outputId": "c8499241-2d19-4373-9714-00e57c24129e"
      },
      "source": [
        "#Image Augmentation\n",
        "from keras.preprocessing.image import ImageDataGenerator\n",
        "train_dir = \"content/dataset/dataset/train\"\n",
        "val_dir = \"content/dataset/dataset/validation\"\n",
        "\n",
        "train_datagen = ImageDataGenerator(\n",
        "                  rescale=1./255,\n",
        "                  rotation_range=40,\n",
        "                  vertical_flip=True,\n",
        "                  shear_range = 0.2,\n",
        "                  zoom_range=0.2,\n",
        "                  fill_mode = 'nearest')\n",
        "\n",
        "val_datagen = ImageDataGenerator(\n",
        "                  rescale=1./255,\n",
        "                  rotation_range=40,\n",
        "                  vertical_flip=True,\n",
        "                  shear_range = 0.2,\n",
        "                  zoom_range=0.2,\n",
        "                  fill_mode = 'nearest')\n",
        "\n",
        "train_generator = train_datagen.flow_from_directory(\n",
        "        train_dir,  # direktori data latih\n",
        "        target_size=(150,150),  \n",
        "        batch_size=4,\n",
        "        class_mode='categorical')\n",
        " \n",
        "validation_generator = val_datagen.flow_from_directory(\n",
        "        val_dir, # direktori data validasi\n",
        "        target_size=(150, 150), \n",
        "        batch_size=4, \n",
        "        class_mode='categorical')\n",
        "\n",
        "#Model\n",
        "model = tf.keras.models.Sequential([\n",
        "    tf.keras.layers.Conv2D(32, (3,3), activation='relu', input_shape=(150, 150, 3)),\n",
        "    tf.keras.layers.MaxPooling2D(2, 2),\n",
        "    tf.keras.layers.Conv2D(64, (3,3), activation='relu'),\n",
        "    tf.keras.layers.MaxPooling2D(2,2),\n",
        "    tf.keras.layers.Conv2D(128, (3,3), activation='relu'),\n",
        "    tf.keras.layers.MaxPooling2D(2,2),\n",
        "    tf.keras.layers.Flatten(),\n",
        "    tf.keras.layers.Dense(128, activation='relu'),\n",
        "    tf.keras.layers.Dense(4, activation='softmax')\n",
        "])\n",
        "\n",
        "model.compile(loss='categorical_crossentropy',\n",
        "              optimizer=tf.optimizers.Adam(),\n",
        "              metrics=['accuracy'])\n",
        "\n",
        "callbacks = myCallback()\n",
        "history = model.fit(\n",
        "    train_generator,\n",
        "    steps_per_epoch = 100,\n",
        "    epochs = 20,\n",
        "    validation_data = validation_generator,\n",
        "    validation_steps = 5,\n",
        "    verbose =2,\n",
        "    callbacks=[callbacks]\n",
        ")"
      ],
      "execution_count": 28,
      "outputs": [
        {
          "output_type": "stream",
          "text": [
            "Found 540 images belonging to 4 classes.\n",
            "Found 61 images belonging to 4 classes.\n",
            "Epoch 1/20\n",
            "100/100 - 54s - loss: 1.3075 - accuracy: 0.5000 - val_loss: 1.0132 - val_accuracy: 0.6500\n",
            "Epoch 2/20\n",
            "100/100 - 53s - loss: 1.2626 - accuracy: 0.5075 - val_loss: 1.1870 - val_accuracy: 0.5500\n",
            "Epoch 3/20\n",
            "100/100 - 53s - loss: 1.2600 - accuracy: 0.5000 - val_loss: 1.2887 - val_accuracy: 0.4500\n",
            "Epoch 4/20\n",
            "100/100 - 54s - loss: 1.2744 - accuracy: 0.4800 - val_loss: 1.2416 - val_accuracy: 0.5000\n",
            "Epoch 5/20\n",
            "100/100 - 58s - loss: 1.2457 - accuracy: 0.5075 - val_loss: 0.9658 - val_accuracy: 0.7500\n",
            "Epoch 6/20\n",
            "100/100 - 53s - loss: 1.2516 - accuracy: 0.5050 - val_loss: 1.3019 - val_accuracy: 0.4500\n",
            "Epoch 7/20\n",
            "100/100 - 53s - loss: 1.2758 - accuracy: 0.4775 - val_loss: 1.1005 - val_accuracy: 0.6500\n",
            "Epoch 8/20\n",
            "100/100 - 53s - loss: 1.2848 - accuracy: 0.4650 - val_loss: 1.3648 - val_accuracy: 0.3500\n",
            "Epoch 9/20\n",
            "100/100 - 53s - loss: 1.2611 - accuracy: 0.5000 - val_loss: 1.1474 - val_accuracy: 0.6000\n",
            "Epoch 10/20\n",
            "100/100 - 53s - loss: 1.2664 - accuracy: 0.5075 - val_loss: 1.4976 - val_accuracy: 0.3500\n",
            "Epoch 11/20\n",
            "100/100 - 53s - loss: 1.2479 - accuracy: 0.5125 - val_loss: 1.0886 - val_accuracy: 0.6500\n",
            "Epoch 12/20\n",
            "100/100 - 53s - loss: 1.2519 - accuracy: 0.5025 - val_loss: 1.2855 - val_accuracy: 0.4500\n",
            "Epoch 13/20\n",
            "100/100 - 53s - loss: 1.2385 - accuracy: 0.5050 - val_loss: 1.2287 - val_accuracy: 0.5000\n",
            "Epoch 14/20\n",
            "100/100 - 53s - loss: 1.2491 - accuracy: 0.5050 - val_loss: 1.2439 - val_accuracy: 0.5000\n",
            "Epoch 15/20\n",
            "100/100 - 53s - loss: 1.2390 - accuracy: 0.5075 - val_loss: 1.2375 - val_accuracy: 0.5000\n",
            "Epoch 16/20\n",
            "100/100 - 53s - loss: 1.2514 - accuracy: 0.4875 - val_loss: 1.2694 - val_accuracy: 0.5000\n",
            "Epoch 17/20\n",
            "100/100 - 56s - loss: 1.2647 - accuracy: 0.4975 - val_loss: 1.1863 - val_accuracy: 0.5500\n",
            "Epoch 18/20\n",
            "100/100 - 53s - loss: 1.2534 - accuracy: 0.4975 - val_loss: 1.3028 - val_accuracy: 0.4500\n",
            "Epoch 19/20\n",
            "100/100 - 53s - loss: 1.2244 - accuracy: 0.5150 - val_loss: 1.2620 - val_accuracy: 0.5000\n",
            "Epoch 20/20\n",
            "100/100 - 53s - loss: 1.2673 - accuracy: 0.4825 - val_loss: 1.1009 - val_accuracy: 0.6500\n"
          ],
          "name": "stdout"
        }
      ]
    }
  ]
}