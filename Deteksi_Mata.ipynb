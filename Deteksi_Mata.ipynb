{
  "nbformat": 4,
  "nbformat_minor": 0,
  "metadata": {
    "colab": {
      "name": "Deteksi_Mata.ipynb",
      "provenance": [],
      "collapsed_sections": []
    },
    "kernelspec": {
      "display_name": "Python 3",
      "name": "python3"
    },
    "language_info": {
      "name": "python"
    },
    "widgets": {
      "application/vnd.jupyter.widget-state+json": {
        "e0374b672e3943039e27cec224880e33": {
          "model_module": "@jupyter-widgets/controls",
          "model_name": "HBoxModel",
          "state": {
            "_view_name": "HBoxView",
            "_dom_classes": [],
            "_model_name": "HBoxModel",
            "_view_module": "@jupyter-widgets/controls",
            "_model_module_version": "1.5.0",
            "_view_count": null,
            "_view_module_version": "1.5.0",
            "box_style": "",
            "layout": "IPY_MODEL_7860ed66212f4444822b5b0254a433a9",
            "_model_module": "@jupyter-widgets/controls",
            "children": [
              "IPY_MODEL_d1609032e8e54639bb445797ca09664d",
              "IPY_MODEL_786c6070a0d64f8cb2364d4eaad7729f"
            ]
          }
        },
        "7860ed66212f4444822b5b0254a433a9": {
          "model_module": "@jupyter-widgets/base",
          "model_name": "LayoutModel",
          "state": {
            "_view_name": "LayoutView",
            "grid_template_rows": null,
            "right": null,
            "justify_content": null,
            "_view_module": "@jupyter-widgets/base",
            "overflow": null,
            "_model_module_version": "1.2.0",
            "_view_count": null,
            "flex_flow": null,
            "width": null,
            "min_width": null,
            "border": null,
            "align_items": null,
            "bottom": null,
            "_model_module": "@jupyter-widgets/base",
            "top": null,
            "grid_column": null,
            "overflow_y": null,
            "overflow_x": null,
            "grid_auto_flow": null,
            "grid_area": null,
            "grid_template_columns": null,
            "flex": null,
            "_model_name": "LayoutModel",
            "justify_items": null,
            "grid_row": null,
            "max_height": null,
            "align_content": null,
            "visibility": null,
            "align_self": null,
            "height": null,
            "min_height": null,
            "padding": null,
            "grid_auto_rows": null,
            "grid_gap": null,
            "max_width": null,
            "order": null,
            "_view_module_version": "1.2.0",
            "grid_template_areas": null,
            "object_position": null,
            "object_fit": null,
            "grid_auto_columns": null,
            "margin": null,
            "display": null,
            "left": null
          }
        },
        "d1609032e8e54639bb445797ca09664d": {
          "model_module": "@jupyter-widgets/controls",
          "model_name": "FloatProgressModel",
          "state": {
            "_view_name": "ProgressView",
            "style": "IPY_MODEL_8f5485c24ba746718e788e66a8b1b057",
            "_dom_classes": [],
            "description": "",
            "_model_name": "FloatProgressModel",
            "bar_style": "success",
            "max": 1,
            "_view_module": "@jupyter-widgets/controls",
            "_model_module_version": "1.5.0",
            "value": 1,
            "_view_count": null,
            "_view_module_version": "1.5.0",
            "orientation": "horizontal",
            "min": 0,
            "description_tooltip": null,
            "_model_module": "@jupyter-widgets/controls",
            "layout": "IPY_MODEL_1ba234c390cf47cda7e401d6cda6c4f5"
          }
        },
        "786c6070a0d64f8cb2364d4eaad7729f": {
          "model_module": "@jupyter-widgets/controls",
          "model_name": "HTMLModel",
          "state": {
            "_view_name": "HTMLView",
            "style": "IPY_MODEL_97df5b48187e4c569b0bc23bb61e9303",
            "_dom_classes": [],
            "description": "",
            "_model_name": "HTMLModel",
            "placeholder": "​",
            "_view_module": "@jupyter-widgets/controls",
            "_model_module_version": "1.5.0",
            "value": " 601/? [00:27&lt;00:00, 22.03it/s]",
            "_view_count": null,
            "_view_module_version": "1.5.0",
            "description_tooltip": null,
            "_model_module": "@jupyter-widgets/controls",
            "layout": "IPY_MODEL_2f5c4e7ab46b41bb9fa488220dad678c"
          }
        },
        "8f5485c24ba746718e788e66a8b1b057": {
          "model_module": "@jupyter-widgets/controls",
          "model_name": "ProgressStyleModel",
          "state": {
            "_view_name": "StyleView",
            "_model_name": "ProgressStyleModel",
            "description_width": "initial",
            "_view_module": "@jupyter-widgets/base",
            "_model_module_version": "1.5.0",
            "_view_count": null,
            "_view_module_version": "1.2.0",
            "bar_color": null,
            "_model_module": "@jupyter-widgets/controls"
          }
        },
        "1ba234c390cf47cda7e401d6cda6c4f5": {
          "model_module": "@jupyter-widgets/base",
          "model_name": "LayoutModel",
          "state": {
            "_view_name": "LayoutView",
            "grid_template_rows": null,
            "right": null,
            "justify_content": null,
            "_view_module": "@jupyter-widgets/base",
            "overflow": null,
            "_model_module_version": "1.2.0",
            "_view_count": null,
            "flex_flow": null,
            "width": null,
            "min_width": null,
            "border": null,
            "align_items": null,
            "bottom": null,
            "_model_module": "@jupyter-widgets/base",
            "top": null,
            "grid_column": null,
            "overflow_y": null,
            "overflow_x": null,
            "grid_auto_flow": null,
            "grid_area": null,
            "grid_template_columns": null,
            "flex": null,
            "_model_name": "LayoutModel",
            "justify_items": null,
            "grid_row": null,
            "max_height": null,
            "align_content": null,
            "visibility": null,
            "align_self": null,
            "height": null,
            "min_height": null,
            "padding": null,
            "grid_auto_rows": null,
            "grid_gap": null,
            "max_width": null,
            "order": null,
            "_view_module_version": "1.2.0",
            "grid_template_areas": null,
            "object_position": null,
            "object_fit": null,
            "grid_auto_columns": null,
            "margin": null,
            "display": null,
            "left": null
          }
        },
        "97df5b48187e4c569b0bc23bb61e9303": {
          "model_module": "@jupyter-widgets/controls",
          "model_name": "DescriptionStyleModel",
          "state": {
            "_view_name": "StyleView",
            "_model_name": "DescriptionStyleModel",
            "description_width": "",
            "_view_module": "@jupyter-widgets/base",
            "_model_module_version": "1.5.0",
            "_view_count": null,
            "_view_module_version": "1.2.0",
            "_model_module": "@jupyter-widgets/controls"
          }
        },
        "2f5c4e7ab46b41bb9fa488220dad678c": {
          "model_module": "@jupyter-widgets/base",
          "model_name": "LayoutModel",
          "state": {
            "_view_name": "LayoutView",
            "grid_template_rows": null,
            "right": null,
            "justify_content": null,
            "_view_module": "@jupyter-widgets/base",
            "overflow": null,
            "_model_module_version": "1.2.0",
            "_view_count": null,
            "flex_flow": null,
            "width": null,
            "min_width": null,
            "border": null,
            "align_items": null,
            "bottom": null,
            "_model_module": "@jupyter-widgets/base",
            "top": null,
            "grid_column": null,
            "overflow_y": null,
            "overflow_x": null,
            "grid_auto_flow": null,
            "grid_area": null,
            "grid_template_columns": null,
            "flex": null,
            "_model_name": "LayoutModel",
            "justify_items": null,
            "grid_row": null,
            "max_height": null,
            "align_content": null,
            "visibility": null,
            "align_self": null,
            "height": null,
            "min_height": null,
            "padding": null,
            "grid_auto_rows": null,
            "grid_gap": null,
            "max_width": null,
            "order": null,
            "_view_module_version": "1.2.0",
            "grid_template_areas": null,
            "object_position": null,
            "object_fit": null,
            "grid_auto_columns": null,
            "margin": null,
            "display": null,
            "left": null
          }
        }
      }
    }
  },
  "cells": [
    {
      "cell_type": "code",
      "metadata": {
        "id": "1RCVsxwPBSIn"
      },
      "source": [
        "# Import Semua Fungsi\n",
        "import tensorflow as tf\n",
        "import pandas as pd\n",
        "import zipfile, os, shutil\n",
        "from sklearn.model_selection import train_test_split\n",
        "from tqdm.notebook import tqdm as tq\n",
        "from keras.preprocessing.image import ImageDataGenerator"
      ],
      "execution_count": null,
      "outputs": []
    },
    {
      "cell_type": "code",
      "metadata": {
        "colab": {
          "base_uri": "https://localhost:8080/"
        },
        "id": "zCphn8iOA5Ru",
        "outputId": "74d41dc3-110b-41f1-d04a-7f0294ec7a8d"
      },
      "source": [
        "# Cek Versi Tensorflow\n",
        "print(tf.__version__)"
      ],
      "execution_count": null,
      "outputs": [
        {
          "output_type": "stream",
          "text": [
            "2.5.0\n"
          ],
          "name": "stdout"
        }
      ]
    },
    {
      "cell_type": "code",
      "metadata": {
        "colab": {
          "base_uri": "https://localhost:8080/"
        },
        "id": "BwLpG53rA7uW",
        "outputId": "4e14a86f-93f3-4c25-d24f-2ba55d08bb63"
      },
      "source": [
        "# Download Dataset Katarak\n",
        "! KAGGLE_CONFIG_DIR=/content/ kaggle datasets download jr2ngb/cataractdataset\n",
        "! chmod 600 kaggle.json\n",
        "! ls ~/.kaggle 2>/dev/null || mkdir ~/.kaggle\n",
        "! mv kaggle.json ~/.kaggle\n",
        "! kaggle datasets download jr2ngb/cataractdataset"
      ],
      "execution_count": null,
      "outputs": [
        {
          "output_type": "stream",
          "text": [
            "Warning: Your Kaggle API key is readable by other users on this system! To fix this, you can run 'chmod 600 /content/kaggle.json'\n",
            "Downloading cataractdataset.zip to /content\n",
            "100% 3.33G/3.34G [00:38<00:00, 100MB/s] \n",
            "100% 3.34G/3.34G [00:38<00:00, 93.3MB/s]\n",
            "cataractdataset.zip: Skipping, found more recently modified local copy (use --force to force download)\n"
          ],
          "name": "stdout"
        }
      ]
    },
    {
      "cell_type": "code",
      "metadata": {
        "colab": {
          "base_uri": "https://localhost:8080/"
        },
        "id": "xm225cGlA9cw",
        "outputId": "2dc6c6c9-e2ef-4749-d999-d9813c7970b0"
      },
      "source": [
        "# Proses Ekstrak Dataset\n",
        "with zipfile.ZipFile('cataractdataset.zip','r') as z:\n",
        "  z.extractall('./')\n",
        "\n",
        "os.listdir()"
      ],
      "execution_count": null,
      "outputs": [
        {
          "output_type": "execute_result",
          "data": {
            "text/plain": [
              "['.config',\n",
              " 'repository',\n",
              " 'cataractdataset.zip',\n",
              " 'README.md',\n",
              " 'dataset',\n",
              " 'sample_data']"
            ]
          },
          "metadata": {
            "tags": []
          },
          "execution_count": 4
        }
      ]
    },
    {
      "cell_type": "code",
      "metadata": {
        "id": "gNafB3bQA_YC"
      },
      "source": [
        "# Hapus Direktori yang Tidak Digunakan\n",
        "dir_path = '/content/repository'\n",
        "\n",
        "shutil.rmtree(dir_path)"
      ],
      "execution_count": null,
      "outputs": []
    },
    {
      "cell_type": "code",
      "metadata": {
        "id": "C2wSsq7FBBiX"
      },
      "source": [
        "base_dir = '/content/dataset'\n",
        "\n",
        "file_name = []\n",
        "tag = []\n",
        "full_path = []\n",
        "for path, subdirs, files in os.walk(base_dir):\n",
        "    for name in files:\n",
        "        full_path.append(os.path.join(path, name)) \n",
        "        tag.append(path.split('/')[-1])        \n",
        "        file_name.append(name)"
      ],
      "execution_count": null,
      "outputs": []
    },
    {
      "cell_type": "code",
      "metadata": {
        "id": "v7Ac6AwbBECy"
      },
      "source": [
        "# Menerapkan Fungsi Callback\n",
        "class myCallback(tf.keras.callbacks.Callback):\n",
        "    def on_epoch_end(self, epoch, logs={}):\n",
        "        if(logs.get('accuracy')>0.75 and logs.get('val_accuracy')>0.75):\n",
        "            print(\"\\nAkurasi telah mencapai lebih dari 75%, proses dihentikan!\")\n",
        "            self.model.stop_training = True"
      ],
      "execution_count": null,
      "outputs": []
    },
    {
      "cell_type": "code",
      "metadata": {
        "colab": {
          "base_uri": "https://localhost:8080/",
          "height": 366
        },
        "id": "gejA7ed8BJvH",
        "outputId": "9349ec71-aeb0-4b41-ba37-ab3e67f8beb0"
      },
      "source": [
        "# Proses Split Dataset\n",
        "df = pd.DataFrame({\"path\":full_path,'file_name':file_name,\"tag\":tag})\n",
        "df.groupby(['tag']).size()\n",
        "\n",
        "X = df['path']\n",
        "y = df['tag']\n",
        "\n",
        "X_train, X_val, y_train, y_val = train_test_split(X, y, test_size=0.1, random_state=300)\n",
        "\n",
        "df_tr = pd.DataFrame({'path':X_train, 'tag':y_train, 'set':'train'})\n",
        "df_val = pd.DataFrame({'path':X_val, 'tag':y_val, 'set':'validation'})\n",
        "\n",
        "print('train size', len(df_tr))\n",
        "print('val size', len(df_val))\n",
        "\n",
        "df_all = df_tr.append([df_val]).reset_index(drop=1)\n",
        "print(df_all.groupby(['set','tag']).size(),'\\n')\n",
        "\n",
        "df_all.sample(3)"
      ],
      "execution_count": null,
      "outputs": [
        {
          "output_type": "stream",
          "text": [
            "train size 540\n",
            "val size 61\n",
            "set         tag             \n",
            "train       1_normal            268\n",
            "            2_cataract           92\n",
            "            2_glaucoma           89\n",
            "            3_retina_disease     91\n",
            "validation  1_normal             32\n",
            "            2_cataract            8\n",
            "            2_glaucoma           12\n",
            "            3_retina_disease      9\n",
            "dtype: int64 \n",
            "\n"
          ],
          "name": "stdout"
        },
        {
          "output_type": "execute_result",
          "data": {
            "text/html": [
              "<div>\n",
              "<style scoped>\n",
              "    .dataframe tbody tr th:only-of-type {\n",
              "        vertical-align: middle;\n",
              "    }\n",
              "\n",
              "    .dataframe tbody tr th {\n",
              "        vertical-align: top;\n",
              "    }\n",
              "\n",
              "    .dataframe thead th {\n",
              "        text-align: right;\n",
              "    }\n",
              "</style>\n",
              "<table border=\"1\" class=\"dataframe\">\n",
              "  <thead>\n",
              "    <tr style=\"text-align: right;\">\n",
              "      <th></th>\n",
              "      <th>path</th>\n",
              "      <th>tag</th>\n",
              "      <th>set</th>\n",
              "    </tr>\n",
              "  </thead>\n",
              "  <tbody>\n",
              "    <tr>\n",
              "      <th>544</th>\n",
              "      <td>/content/dataset/2_cataract/cataract_007.png</td>\n",
              "      <td>2_cataract</td>\n",
              "      <td>validation</td>\n",
              "    </tr>\n",
              "    <tr>\n",
              "      <th>325</th>\n",
              "      <td>/content/dataset/1_normal/NL_119.png</td>\n",
              "      <td>1_normal</td>\n",
              "      <td>train</td>\n",
              "    </tr>\n",
              "    <tr>\n",
              "      <th>80</th>\n",
              "      <td>/content/dataset/3_retina_disease/Retina_049.png</td>\n",
              "      <td>3_retina_disease</td>\n",
              "      <td>train</td>\n",
              "    </tr>\n",
              "  </tbody>\n",
              "</table>\n",
              "</div>"
            ],
            "text/plain": [
              "                                                 path  ...         set\n",
              "544      /content/dataset/2_cataract/cataract_007.png  ...  validation\n",
              "325              /content/dataset/1_normal/NL_119.png  ...       train\n",
              "80   /content/dataset/3_retina_disease/Retina_049.png  ...       train\n",
              "\n",
              "[3 rows x 3 columns]"
            ]
          },
          "metadata": {
            "tags": []
          },
          "execution_count": 8
        }
      ]
    },
    {
      "cell_type": "code",
      "metadata": {
        "colab": {
          "base_uri": "https://localhost:8080/",
          "height": 67,
          "referenced_widgets": [
            "e0374b672e3943039e27cec224880e33",
            "7860ed66212f4444822b5b0254a433a9",
            "d1609032e8e54639bb445797ca09664d",
            "786c6070a0d64f8cb2364d4eaad7729f",
            "8f5485c24ba746718e788e66a8b1b057",
            "1ba234c390cf47cda7e401d6cda6c4f5",
            "97df5b48187e4c569b0bc23bb61e9303",
            "2f5c4e7ab46b41bb9fa488220dad678c"
          ]
        },
        "id": "Uhs6p3FVBMY8",
        "outputId": "c8df8bce-9229-4547-969c-806181f96b63"
      },
      "source": [
        "datasource_path = base_dir\n",
        "dataset_path = \"content/dataset/dataset/\"\n",
        "\n",
        "for index, row in tq(df_all.iterrows()):\n",
        "    \n",
        "    # Deteksi path\n",
        "    file_path = row['path']            \n",
        "    if os.path.exists(file_path) == False:\n",
        "            file_path = os.path.join(datasource_path,row['tag'],row['image'].split('.')[0])  \n",
        "    \n",
        "    # Membuat direktori tujuan\n",
        "    if os.path.exists(os.path.join(dataset_path,row['set'],row['tag'])) == False:\n",
        "        os.makedirs(os.path.join(dataset_path,row['set'],row['tag']))\n",
        "    \n",
        "    # Mendefinisikan variable dest\n",
        "    destination_file_name = file_path.split('/')[-1]\n",
        "    file_dest = os.path.join(dataset_path,row['set'],row['tag'],destination_file_name)\n",
        "    \n",
        "    # copy file dari direktori source ke direktori dest\n",
        "    if os.path.exists(file_dest) == False:\n",
        "        shutil.copy2(file_path,file_dest)"
      ],
      "execution_count": null,
      "outputs": [
        {
          "output_type": "display_data",
          "data": {
            "application/vnd.jupyter.widget-view+json": {
              "model_id": "e0374b672e3943039e27cec224880e33",
              "version_minor": 0,
              "version_major": 2
            },
            "text/plain": [
              "HBox(children=(FloatProgress(value=1.0, bar_style='info', max=1.0), HTML(value='')))"
            ]
          },
          "metadata": {
            "tags": []
          }
        },
        {
          "output_type": "stream",
          "text": [
            "\n"
          ],
          "name": "stdout"
        }
      ]
    },
    {
      "cell_type": "code",
      "metadata": {
        "colab": {
          "base_uri": "https://localhost:8080/"
        },
        "id": "2oGuE-OwBM7z",
        "outputId": "1b5abd4b-6cbe-4799-83a3-ed75361c499f"
      },
      "source": [
        "# Image Augmentation\n",
        "train_dir = \"content/dataset/dataset/train\"\n",
        "val_dir = \"content/dataset/dataset/validation\"\n",
        "\n",
        "train_datagen = ImageDataGenerator(\n",
        "                  rescale=1./255,\n",
        "                  rotation_range=40,\n",
        "                  vertical_flip=True,\n",
        "                  shear_range = 0.2,\n",
        "                  zoom_range=0.2,\n",
        "                  fill_mode = 'nearest')\n",
        "\n",
        "val_datagen = ImageDataGenerator(\n",
        "                  rescale=1./255,\n",
        "                  rotation_range=40,\n",
        "                  vertical_flip=True,\n",
        "                  shear_range = 0.2,\n",
        "                  zoom_range=0.2,\n",
        "                  fill_mode = 'nearest')\n",
        "\n",
        "train_generator = train_datagen.flow_from_directory(\n",
        "        train_dir,  # direktori data latih\n",
        "        target_size=(150,150),          \n",
        "        class_mode='categorical')\n",
        " \n",
        "validation_generator = val_datagen.flow_from_directory(\n",
        "        val_dir, # direktori data validasi\n",
        "        target_size=(150, 150), \n",
        "        class_mode='categorical')"
      ],
      "execution_count": null,
      "outputs": [
        {
          "output_type": "stream",
          "text": [
            "Found 540 images belonging to 4 classes.\n",
            "Found 61 images belonging to 4 classes.\n"
          ],
          "name": "stdout"
        }
      ]
    },
    {
      "cell_type": "code",
      "metadata": {
        "colab": {
          "base_uri": "https://localhost:8080/"
        },
        "id": "4KRbQ0tBBmno",
        "outputId": "6c1e0760-6753-47d1-916a-f63e6c315b11"
      },
      "source": [
        "# Simple Model CNN\n",
        "model = tf.keras.models.Sequential([\n",
        "    tf.keras.layers.Conv2D(32, (3,3), activation='relu', input_shape=(150, 150, 3)),\n",
        "    tf.keras.layers.MaxPooling2D(2, 2),\n",
        "    tf.keras.layers.Conv2D(64, (3,3), activation='relu'),\n",
        "    tf.keras.layers.MaxPooling2D(2,2),\n",
        "    tf.keras.layers.Conv2D(64, (3,3), activation='relu'),\n",
        "    tf.keras.layers.MaxPooling2D(2,2),\n",
        "    tf.keras.layers.Conv2D(128, (3,3), activation='relu'),\n",
        "    tf.keras.layers.MaxPooling2D(2,2),\n",
        "    tf.keras.layers.Conv2D(128, (3,3), activation='relu'),\n",
        "    tf.keras.layers.MaxPooling2D(2,2),\n",
        "    tf.keras.layers.Flatten(),\n",
        "    tf.keras.layers.Dropout(0.5),\n",
        "    tf.keras.layers.Dense(512, activation='relu'),\n",
        "    tf.keras.layers.Dense(4, activation='softmax')\n",
        "])\n",
        "\n",
        "model.compile(loss='categorical_crossentropy',\n",
        "              optimizer='rmsprop',\n",
        "              metrics=['accuracy'])\n",
        "\n",
        "model.summary()"
      ],
      "execution_count": null,
      "outputs": [
        {
          "output_type": "stream",
          "text": [
            "Model: \"sequential\"\n",
            "_________________________________________________________________\n",
            "Layer (type)                 Output Shape              Param #   \n",
            "=================================================================\n",
            "conv2d (Conv2D)              (None, 148, 148, 32)      896       \n",
            "_________________________________________________________________\n",
            "max_pooling2d (MaxPooling2D) (None, 74, 74, 32)        0         \n",
            "_________________________________________________________________\n",
            "conv2d_1 (Conv2D)            (None, 72, 72, 64)        18496     \n",
            "_________________________________________________________________\n",
            "max_pooling2d_1 (MaxPooling2 (None, 36, 36, 64)        0         \n",
            "_________________________________________________________________\n",
            "conv2d_2 (Conv2D)            (None, 34, 34, 64)        36928     \n",
            "_________________________________________________________________\n",
            "max_pooling2d_2 (MaxPooling2 (None, 17, 17, 64)        0         \n",
            "_________________________________________________________________\n",
            "conv2d_3 (Conv2D)            (None, 15, 15, 128)       73856     \n",
            "_________________________________________________________________\n",
            "max_pooling2d_3 (MaxPooling2 (None, 7, 7, 128)         0         \n",
            "_________________________________________________________________\n",
            "conv2d_4 (Conv2D)            (None, 5, 5, 128)         147584    \n",
            "_________________________________________________________________\n",
            "max_pooling2d_4 (MaxPooling2 (None, 2, 2, 128)         0         \n",
            "_________________________________________________________________\n",
            "flatten (Flatten)            (None, 512)               0         \n",
            "_________________________________________________________________\n",
            "dropout (Dropout)            (None, 512)               0         \n",
            "_________________________________________________________________\n",
            "dense (Dense)                (None, 512)               262656    \n",
            "_________________________________________________________________\n",
            "dense_1 (Dense)              (None, 4)                 2052      \n",
            "=================================================================\n",
            "Total params: 542,468\n",
            "Trainable params: 542,468\n",
            "Non-trainable params: 0\n",
            "_________________________________________________________________\n"
          ],
          "name": "stdout"
        }
      ]
    },
    {
      "cell_type": "code",
      "metadata": {
        "colab": {
          "base_uri": "https://localhost:8080/"
        },
        "id": "vgYGUazTBPf_",
        "outputId": "c38a6143-44ba-434e-f0fb-031c41059de2"
      },
      "source": [
        "callbacks = myCallback()\n",
        "history = model.fit(\n",
        "    train_generator,\n",
        "    steps_per_epoch = 15,\n",
        "    epochs = 50,\n",
        "    validation_data = validation_generator,\n",
        "    validation_steps = 2,\n",
        "    verbose =1,\n",
        "    callbacks=[callbacks]\n",
        ")"
      ],
      "execution_count": null,
      "outputs": [
        {
          "output_type": "stream",
          "text": [
            "Epoch 1/50\n",
            "15/15 [==============================] - 74s 5s/step - loss: 1.3536 - accuracy: 0.4517 - val_loss: 1.2547 - val_accuracy: 0.5246\n",
            "Epoch 2/50\n",
            "15/15 [==============================] - 69s 5s/step - loss: 1.2903 - accuracy: 0.4769 - val_loss: 1.2291 - val_accuracy: 0.5246\n",
            "Epoch 3/50\n",
            "15/15 [==============================] - 69s 5s/step - loss: 1.2721 - accuracy: 0.4832 - val_loss: 1.2327 - val_accuracy: 0.5246\n",
            "Epoch 4/50\n",
            "15/15 [==============================] - 69s 5s/step - loss: 1.2891 - accuracy: 0.4895 - val_loss: 1.2319 - val_accuracy: 0.5246\n",
            "Epoch 5/50\n",
            "15/15 [==============================] - 69s 5s/step - loss: 1.2335 - accuracy: 0.5125 - val_loss: 1.2598 - val_accuracy: 0.5246\n",
            "Epoch 6/50\n",
            "15/15 [==============================] - 69s 5s/step - loss: 1.2465 - accuracy: 0.4895 - val_loss: 1.2001 - val_accuracy: 0.5246\n",
            "Epoch 7/50\n",
            "15/15 [==============================] - 69s 5s/step - loss: 1.2363 - accuracy: 0.5021 - val_loss: 1.1606 - val_accuracy: 0.5738\n",
            "Epoch 8/50\n",
            "15/15 [==============================] - 69s 5s/step - loss: 1.2046 - accuracy: 0.4979 - val_loss: 1.1528 - val_accuracy: 0.5246\n",
            "Epoch 9/50\n",
            "15/15 [==============================] - 69s 5s/step - loss: 1.1922 - accuracy: 0.4853 - val_loss: 1.9078 - val_accuracy: 0.1639\n",
            "Epoch 10/50\n",
            "15/15 [==============================] - 69s 5s/step - loss: 1.1564 - accuracy: 0.4937 - val_loss: 1.0598 - val_accuracy: 0.5738\n",
            "Epoch 11/50\n",
            "15/15 [==============================] - 69s 5s/step - loss: 1.1592 - accuracy: 0.5294 - val_loss: 1.0779 - val_accuracy: 0.5738\n",
            "Epoch 12/50\n",
            "15/15 [==============================] - 68s 5s/step - loss: 1.1506 - accuracy: 0.5315 - val_loss: 1.1139 - val_accuracy: 0.5738\n",
            "Epoch 13/50\n",
            "15/15 [==============================] - 69s 5s/step - loss: 1.1248 - accuracy: 0.5210 - val_loss: 1.0931 - val_accuracy: 0.6066\n",
            "Epoch 14/50\n",
            "15/15 [==============================] - 69s 5s/step - loss: 1.0896 - accuracy: 0.5567 - val_loss: 1.3080 - val_accuracy: 0.3607\n",
            "Epoch 15/50\n",
            "15/15 [==============================] - 69s 5s/step - loss: 1.0950 - accuracy: 0.5336 - val_loss: 0.9785 - val_accuracy: 0.6393\n",
            "Epoch 16/50\n",
            "15/15 [==============================] - 68s 5s/step - loss: 1.0871 - accuracy: 0.5315 - val_loss: 1.0157 - val_accuracy: 0.5902\n",
            "Epoch 17/50\n",
            "15/15 [==============================] - 69s 5s/step - loss: 1.0537 - accuracy: 0.5483 - val_loss: 1.0328 - val_accuracy: 0.5902\n",
            "Epoch 18/50\n",
            "15/15 [==============================] - 69s 5s/step - loss: 1.0683 - accuracy: 0.5357 - val_loss: 1.0145 - val_accuracy: 0.5902\n",
            "Epoch 19/50\n",
            "15/15 [==============================] - 69s 5s/step - loss: 1.0414 - accuracy: 0.5420 - val_loss: 1.0144 - val_accuracy: 0.5902\n",
            "Epoch 20/50\n",
            "15/15 [==============================] - 69s 5s/step - loss: 1.0328 - accuracy: 0.5777 - val_loss: 1.0558 - val_accuracy: 0.5902\n",
            "Epoch 21/50\n",
            "15/15 [==============================] - 69s 5s/step - loss: 1.0657 - accuracy: 0.5693 - val_loss: 0.9339 - val_accuracy: 0.6393\n",
            "Epoch 22/50\n",
            "15/15 [==============================] - 69s 5s/step - loss: 1.0478 - accuracy: 0.5441 - val_loss: 0.9644 - val_accuracy: 0.6230\n",
            "Epoch 23/50\n",
            "15/15 [==============================] - 69s 5s/step - loss: 1.0220 - accuracy: 0.5588 - val_loss: 1.0225 - val_accuracy: 0.6230\n",
            "Epoch 24/50\n",
            "15/15 [==============================] - 69s 5s/step - loss: 0.9812 - accuracy: 0.6092 - val_loss: 0.8862 - val_accuracy: 0.6721\n",
            "Epoch 25/50\n",
            "15/15 [==============================] - 69s 5s/step - loss: 1.0145 - accuracy: 0.5777 - val_loss: 0.9506 - val_accuracy: 0.6393\n",
            "Epoch 26/50\n",
            "15/15 [==============================] - 69s 5s/step - loss: 0.9708 - accuracy: 0.5903 - val_loss: 0.9831 - val_accuracy: 0.6066\n",
            "Epoch 27/50\n",
            "15/15 [==============================] - 69s 5s/step - loss: 0.9842 - accuracy: 0.5693 - val_loss: 0.9706 - val_accuracy: 0.6557\n",
            "Epoch 28/50\n",
            "15/15 [==============================] - 69s 5s/step - loss: 0.9870 - accuracy: 0.5798 - val_loss: 0.9323 - val_accuracy: 0.6557\n",
            "Epoch 29/50\n",
            "15/15 [==============================] - 69s 5s/step - loss: 0.9728 - accuracy: 0.6134 - val_loss: 0.9841 - val_accuracy: 0.5902\n",
            "Epoch 30/50\n",
            "15/15 [==============================] - 69s 5s/step - loss: 0.9582 - accuracy: 0.5924 - val_loss: 1.0336 - val_accuracy: 0.5082\n",
            "Epoch 31/50\n",
            "15/15 [==============================] - 69s 5s/step - loss: 0.9604 - accuracy: 0.5945 - val_loss: 1.0531 - val_accuracy: 0.5574\n",
            "Epoch 32/50\n",
            "15/15 [==============================] - 69s 5s/step - loss: 0.9526 - accuracy: 0.6167 - val_loss: 0.9518 - val_accuracy: 0.5738\n",
            "Epoch 33/50\n",
            "15/15 [==============================] - 68s 5s/step - loss: 0.9533 - accuracy: 0.6134 - val_loss: 0.9074 - val_accuracy: 0.6721\n",
            "Epoch 34/50\n",
            "15/15 [==============================] - 68s 5s/step - loss: 0.9740 - accuracy: 0.5672 - val_loss: 0.9676 - val_accuracy: 0.5902\n",
            "Epoch 35/50\n",
            "15/15 [==============================] - 69s 5s/step - loss: 0.9383 - accuracy: 0.6008 - val_loss: 0.9210 - val_accuracy: 0.6721\n",
            "Epoch 36/50\n",
            "15/15 [==============================] - 69s 5s/step - loss: 0.9555 - accuracy: 0.6092 - val_loss: 0.9482 - val_accuracy: 0.6066\n",
            "Epoch 37/50\n",
            "15/15 [==============================] - 69s 5s/step - loss: 0.9448 - accuracy: 0.6008 - val_loss: 0.9833 - val_accuracy: 0.5574\n",
            "Epoch 38/50\n",
            "15/15 [==============================] - 68s 5s/step - loss: 0.9477 - accuracy: 0.6029 - val_loss: 0.9420 - val_accuracy: 0.6230\n",
            "Epoch 39/50\n",
            "15/15 [==============================] - 69s 5s/step - loss: 0.9518 - accuracy: 0.5987 - val_loss: 0.9603 - val_accuracy: 0.5902\n",
            "Epoch 40/50\n",
            "15/15 [==============================] - 69s 5s/step - loss: 0.9175 - accuracy: 0.6029 - val_loss: 0.9588 - val_accuracy: 0.5902\n",
            "Epoch 41/50\n",
            "15/15 [==============================] - 69s 5s/step - loss: 0.8794 - accuracy: 0.6345 - val_loss: 0.9572 - val_accuracy: 0.5902\n",
            "Epoch 42/50\n",
            "15/15 [==============================] - 69s 5s/step - loss: 0.9303 - accuracy: 0.6197 - val_loss: 1.0084 - val_accuracy: 0.5738\n",
            "Epoch 43/50\n",
            "15/15 [==============================] - 70s 5s/step - loss: 0.9234 - accuracy: 0.6333 - val_loss: 0.8949 - val_accuracy: 0.6557\n",
            "Epoch 44/50\n",
            "15/15 [==============================] - 69s 5s/step - loss: 0.8706 - accuracy: 0.6366 - val_loss: 1.2410 - val_accuracy: 0.5082\n",
            "Epoch 45/50\n",
            "15/15 [==============================] - 69s 5s/step - loss: 0.9469 - accuracy: 0.5945 - val_loss: 1.0541 - val_accuracy: 0.5574\n",
            "Epoch 46/50\n",
            "15/15 [==============================] - 69s 5s/step - loss: 0.9120 - accuracy: 0.6197 - val_loss: 1.1288 - val_accuracy: 0.4918\n",
            "Epoch 47/50\n",
            "15/15 [==============================] - 69s 5s/step - loss: 0.9000 - accuracy: 0.6313 - val_loss: 0.9084 - val_accuracy: 0.6230\n",
            "Epoch 48/50\n",
            "15/15 [==============================] - 69s 5s/step - loss: 0.8868 - accuracy: 0.6239 - val_loss: 0.9011 - val_accuracy: 0.6393\n",
            "Epoch 49/50\n",
            "15/15 [==============================] - 69s 5s/step - loss: 0.9233 - accuracy: 0.6113 - val_loss: 0.8834 - val_accuracy: 0.6066\n",
            "Epoch 50/50\n",
            "15/15 [==============================] - 69s 5s/step - loss: 0.8543 - accuracy: 0.6366 - val_loss: 1.0978 - val_accuracy: 0.5574\n"
          ],
          "name": "stdout"
        }
      ]
    },
    {
      "cell_type": "code",
      "metadata": {
        "id": "gIKJPMhbI1_b",
        "colab": {
          "base_uri": "https://localhost:8080/",
          "height": 295
        },
        "outputId": "69cf95bd-bd4a-41c3-c689-f2dfa1de23cc"
      },
      "source": [
        "# Grafik untuk Loss Train dan Loss Validation..\n",
        "from matplotlib import pyplot as plt\n",
        "\n",
        "plt.plot(history.history['loss'], label ='Training loss')\n",
        "plt.plot(history.history['val_loss'], label = 'Validation loss')\n",
        "plt.title('Loss Plot')\n",
        "plt.ylabel('Value')\n",
        "plt.xlabel('Epoch')\n",
        "plt.legend(loc='upper right')\n",
        "plt.show()"
      ],
      "execution_count": null,
      "outputs": [
        {
          "output_type": "display_data",
          "data": {
            "image/png": "[encoded data removed]",
            "text/plain": [
              "<Figure size 432x288 with 1 Axes>"
            ]
          },
          "metadata": {
            "tags": [],
            "needs_background": "light"
          }
        }
      ]
    },
    {
      "cell_type": "code",
      "metadata": {
        "id": "s0yc48RUI2kM",
        "colab": {
          "base_uri": "https://localhost:8080/",
          "height": 295
        },
        "outputId": "386acd6f-4738-48c4-9a93-10b9efbecab1"
      },
      "source": [
        "# Grafik untuk Akurasi Train dan Akurasi validation..\n",
        "plt.plot(history.history['accuracy'], label = 'Train Accuracy')\n",
        "plt.plot(history.history['val_accuracy'], label = 'Validation Accuracy')\n",
        "plt.title('Accuracy Plot')\n",
        "plt.ylabel('Value')\n",
        "plt.xlabel('Epoch')\n",
        "plt.legend(loc='lower right')\n",
        "plt.show()"
      ],
      "execution_count": null,
      "outputs": [
        {
          "output_type": "display_data",
          "data": {
            "image/png": "[encoded data removed]",
            "text/plain": [
              "<Figure size 432x288 with 1 Axes>"
            ]
          },
          "metadata": {
            "tags": [],
            "needs_background": "light"
          }
        }
      ]
    },
    {
      "cell_type": "code",
      "metadata": {
        "id": "c6gjHWJ7JQll"
      },
      "source": [
        "tf.keras.models.save_model(model,'my_model.hdf5')"
      ],
      "execution_count": null,
      "outputs": []
    },
    {
      "cell_type": "code",
      "metadata": {
        "id": "3skDAXDd5_KT",
        "colab": {
          "base_uri": "https://localhost:8080/"
        },
        "outputId": "94db0446-1367-47ad-c5a3-c4a558e995e7"
      },
      "source": [
        "# Konversi model.\n",
        "converter = tf.lite.TFLiteConverter.from_keras_model(model)\n",
        "tflite_model = converter.convert()\n",
        "\n",
        "with tf.io.gfile.GFile('model.tflite', 'wb') as f:\n",
        "  f.write(tflite_model)"
      ],
      "execution_count": null,
      "outputs": [
        {
          "output_type": "stream",
          "text": [
            "INFO:tensorflow:Assets written to: /tmp/tmpmwemt9iz/assets\n"
          ],
          "name": "stdout"
        },
        {
          "output_type": "stream",
          "text": [
            "INFO:tensorflow:Assets written to: /tmp/tmpmwemt9iz/assets\n"
          ],
          "name": "stderr"
        }
      ]
    }
  ]
}