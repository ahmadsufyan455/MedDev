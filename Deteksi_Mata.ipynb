{
  "nbformat": 4,
  "nbformat_minor": 0,
  "metadata": {
    "colab": {
      "name": "Deteksi_Mata.ipynb",
      "provenance": [],
      "collapsed_sections": []
    },
    "kernelspec": {
      "display_name": "Python 3",
      "name": "python3"
    },
    "language_info": {
      "name": "python"
    },
    "widgets": {
      "application/vnd.jupyter.widget-state+json": {
        "ad693decfff242568c0d239a01013392": {
          "model_module": "@jupyter-widgets/controls",
          "model_name": "HBoxModel",
          "state": {
            "_view_name": "HBoxView",
            "_dom_classes": [],
            "_model_name": "HBoxModel",
            "_view_module": "@jupyter-widgets/controls",
            "_model_module_version": "1.5.0",
            "_view_count": null,
            "_view_module_version": "1.5.0",
            "box_style": "",
            "layout": "IPY_MODEL_e6f27b905a92470c90510e63cc91e954",
            "_model_module": "@jupyter-widgets/controls",
            "children": [
              "IPY_MODEL_1e2c87d06e124cfeb5c2c812e28677b9",
              "IPY_MODEL_86accfce89284796bbf56786d88a7485"
            ]
          }
        },
        "e6f27b905a92470c90510e63cc91e954": {
          "model_module": "@jupyter-widgets/base",
          "model_name": "LayoutModel",
          "state": {
            "_view_name": "LayoutView",
            "grid_template_rows": null,
            "right": null,
            "justify_content": null,
            "_view_module": "@jupyter-widgets/base",
            "overflow": null,
            "_model_module_version": "1.2.0",
            "_view_count": null,
            "flex_flow": null,
            "width": null,
            "min_width": null,
            "border": null,
            "align_items": null,
            "bottom": null,
            "_model_module": "@jupyter-widgets/base",
            "top": null,
            "grid_column": null,
            "overflow_y": null,
            "overflow_x": null,
            "grid_auto_flow": null,
            "grid_area": null,
            "grid_template_columns": null,
            "flex": null,
            "_model_name": "LayoutModel",
            "justify_items": null,
            "grid_row": null,
            "max_height": null,
            "align_content": null,
            "visibility": null,
            "align_self": null,
            "height": null,
            "min_height": null,
            "padding": null,
            "grid_auto_rows": null,
            "grid_gap": null,
            "max_width": null,
            "order": null,
            "_view_module_version": "1.2.0",
            "grid_template_areas": null,
            "object_position": null,
            "object_fit": null,
            "grid_auto_columns": null,
            "margin": null,
            "display": null,
            "left": null
          }
        },
        "1e2c87d06e124cfeb5c2c812e28677b9": {
          "model_module": "@jupyter-widgets/controls",
          "model_name": "FloatProgressModel",
          "state": {
            "_view_name": "ProgressView",
            "style": "IPY_MODEL_a2af00c21b894b55954a55d31f803024",
            "_dom_classes": [],
            "description": "",
            "_model_name": "FloatProgressModel",
            "bar_style": "success",
            "max": 1,
            "_view_module": "@jupyter-widgets/controls",
            "_model_module_version": "1.5.0",
            "value": 1,
            "_view_count": null,
            "_view_module_version": "1.5.0",
            "orientation": "horizontal",
            "min": 0,
            "description_tooltip": null,
            "_model_module": "@jupyter-widgets/controls",
            "layout": "IPY_MODEL_a6a34e42b16c43c28d7d7525861c78f9"
          }
        },
        "86accfce89284796bbf56786d88a7485": {
          "model_module": "@jupyter-widgets/controls",
          "model_name": "HTMLModel",
          "state": {
            "_view_name": "HTMLView",
            "style": "IPY_MODEL_03d7ac1f466b4b5a8986de14856a412e",
            "_dom_classes": [],
            "description": "",
            "_model_name": "HTMLModel",
            "placeholder": "​",
            "_view_module": "@jupyter-widgets/controls",
            "_model_module_version": "1.5.0",
            "value": " 601/? [00:26&lt;00:00, 22.61it/s]",
            "_view_count": null,
            "_view_module_version": "1.5.0",
            "description_tooltip": null,
            "_model_module": "@jupyter-widgets/controls",
            "layout": "IPY_MODEL_23fb2be7ada24cd6b1328edd6bb06b60"
          }
        },
        "a2af00c21b894b55954a55d31f803024": {
          "model_module": "@jupyter-widgets/controls",
          "model_name": "ProgressStyleModel",
          "state": {
            "_view_name": "StyleView",
            "_model_name": "ProgressStyleModel",
            "description_width": "initial",
            "_view_module": "@jupyter-widgets/base",
            "_model_module_version": "1.5.0",
            "_view_count": null,
            "_view_module_version": "1.2.0",
            "bar_color": null,
            "_model_module": "@jupyter-widgets/controls"
          }
        },
        "a6a34e42b16c43c28d7d7525861c78f9": {
          "model_module": "@jupyter-widgets/base",
          "model_name": "LayoutModel",
          "state": {
            "_view_name": "LayoutView",
            "grid_template_rows": null,
            "right": null,
            "justify_content": null,
            "_view_module": "@jupyter-widgets/base",
            "overflow": null,
            "_model_module_version": "1.2.0",
            "_view_count": null,
            "flex_flow": null,
            "width": null,
            "min_width": null,
            "border": null,
            "align_items": null,
            "bottom": null,
            "_model_module": "@jupyter-widgets/base",
            "top": null,
            "grid_column": null,
            "overflow_y": null,
            "overflow_x": null,
            "grid_auto_flow": null,
            "grid_area": null,
            "grid_template_columns": null,
            "flex": null,
            "_model_name": "LayoutModel",
            "justify_items": null,
            "grid_row": null,
            "max_height": null,
            "align_content": null,
            "visibility": null,
            "align_self": null,
            "height": null,
            "min_height": null,
            "padding": null,
            "grid_auto_rows": null,
            "grid_gap": null,
            "max_width": null,
            "order": null,
            "_view_module_version": "1.2.0",
            "grid_template_areas": null,
            "object_position": null,
            "object_fit": null,
            "grid_auto_columns": null,
            "margin": null,
            "display": null,
            "left": null
          }
        },
        "03d7ac1f466b4b5a8986de14856a412e": {
          "model_module": "@jupyter-widgets/controls",
          "model_name": "DescriptionStyleModel",
          "state": {
            "_view_name": "StyleView",
            "_model_name": "DescriptionStyleModel",
            "description_width": "",
            "_view_module": "@jupyter-widgets/base",
            "_model_module_version": "1.5.0",
            "_view_count": null,
            "_view_module_version": "1.2.0",
            "_model_module": "@jupyter-widgets/controls"
          }
        },
        "23fb2be7ada24cd6b1328edd6bb06b60": {
          "model_module": "@jupyter-widgets/base",
          "model_name": "LayoutModel",
          "state": {
            "_view_name": "LayoutView",
            "grid_template_rows": null,
            "right": null,
            "justify_content": null,
            "_view_module": "@jupyter-widgets/base",
            "overflow": null,
            "_model_module_version": "1.2.0",
            "_view_count": null,
            "flex_flow": null,
            "width": null,
            "min_width": null,
            "border": null,
            "align_items": null,
            "bottom": null,
            "_model_module": "@jupyter-widgets/base",
            "top": null,
            "grid_column": null,
            "overflow_y": null,
            "overflow_x": null,
            "grid_auto_flow": null,
            "grid_area": null,
            "grid_template_columns": null,
            "flex": null,
            "_model_name": "LayoutModel",
            "justify_items": null,
            "grid_row": null,
            "max_height": null,
            "align_content": null,
            "visibility": null,
            "align_self": null,
            "height": null,
            "min_height": null,
            "padding": null,
            "grid_auto_rows": null,
            "grid_gap": null,
            "max_width": null,
            "order": null,
            "_view_module_version": "1.2.0",
            "grid_template_areas": null,
            "object_position": null,
            "object_fit": null,
            "grid_auto_columns": null,
            "margin": null,
            "display": null,
            "left": null
          }
        }
      }
    }
  },
  "cells": [
    {
      "cell_type": "code",
      "metadata": {
        "id": "1RCVsxwPBSIn"
      },
      "source": [
        "import tensorflow as tf\n",
        "import pandas as pd\n",
        "import zipfile, os, shutil\n",
        "from sklearn.model_selection import train_test_split\n",
        "from tqdm.notebook import tqdm as tq\n",
        "from keras.preprocessing.image import ImageDataGenerator"
      ],
      "execution_count": null,
      "outputs": []
    },
    {
      "cell_type": "code",
      "metadata": {
        "colab": {
          "base_uri": "https://localhost:8080/"
        },
        "id": "zCphn8iOA5Ru",
        "outputId": "b84bf68b-122e-4df8-ca48-92ffb50ba322"
      },
      "source": [
        "# Cek Versi Tensorflow\n",
        "print(tf.__version__)"
      ],
      "execution_count": null,
      "outputs": [
        {
          "output_type": "stream",
          "text": [
            "2.5.0\n"
          ],
          "name": "stdout"
        }
      ]
    },
    {
      "cell_type": "code",
      "metadata": {
        "colab": {
          "base_uri": "https://localhost:8080/"
        },
        "id": "BwLpG53rA7uW",
        "outputId": "dcf2a9c1-f590-4e85-83c1-60a1ad4bc3f5"
      },
      "source": [
        "# Download Dataset Katarak\n",
        "! KAGGLE_CONFIG_DIR=/content/ kaggle datasets download jr2ngb/cataractdataset\n",
        "! chmod 600 kaggle.json\n",
        "! ls ~/.kaggle 2>/dev/null || mkdir ~/.kaggle\n",
        "! mv kaggle.json ~/.kaggle\n",
        "! kaggle datasets download jr2ngb/cataractdataset"
      ],
      "execution_count": null,
      "outputs": [
        {
          "output_type": "stream",
          "text": [
            "Warning: Your Kaggle API key is readable by other users on this system! To fix this, you can run 'chmod 600 /content/kaggle.json'\n",
            "Downloading cataractdataset.zip to /content\n",
            "100% 3.33G/3.34G [00:39<00:00, 109MB/s] \n",
            "100% 3.34G/3.34G [00:39<00:00, 90.3MB/s]\n",
            "cataractdataset.zip: Skipping, found more recently modified local copy (use --force to force download)\n"
          ],
          "name": "stdout"
        }
      ]
    },
    {
      "cell_type": "code",
      "metadata": {
        "colab": {
          "base_uri": "https://localhost:8080/"
        },
        "id": "xm225cGlA9cw",
        "outputId": "6d570257-8c5f-4f18-fab8-2bbd3d07870b"
      },
      "source": [
        "# Proses Ekstrak Dataset\n",
        "with zipfile.ZipFile('cataractdataset.zip','r') as z:\n",
        "  z.extractall('./')\n",
        "\n",
        "os.listdir()"
      ],
      "execution_count": null,
      "outputs": [
        {
          "output_type": "execute_result",
          "data": {
            "text/plain": [
              "['.config',\n",
              " 'dataset',\n",
              " 'README.md',\n",
              " 'cataractdataset.zip',\n",
              " 'repository',\n",
              " 'sample_data']"
            ]
          },
          "metadata": {
            "tags": []
          },
          "execution_count": 4
        }
      ]
    },
    {
      "cell_type": "code",
      "metadata": {
        "id": "gNafB3bQA_YC"
      },
      "source": [
        "# Hapus Direktori yang Tidak Digunakan\n",
        "dir_path = '/content/repository'\n",
        "\n",
        "shutil.rmtree(dir_path)"
      ],
      "execution_count": null,
      "outputs": []
    },
    {
      "cell_type": "code",
      "metadata": {
        "id": "C2wSsq7FBBiX"
      },
      "source": [
        "base_dir = '/content/dataset'\n",
        "\n",
        "file_name = []\n",
        "tag = []\n",
        "full_path = []\n",
        "for path, subdirs, files in os.walk(base_dir):\n",
        "    for name in files:\n",
        "        full_path.append(os.path.join(path, name)) \n",
        "        tag.append(path.split('/')[-1])        \n",
        "        file_name.append(name)"
      ],
      "execution_count": null,
      "outputs": []
    },
    {
      "cell_type": "code",
      "metadata": {
        "id": "v7Ac6AwbBECy"
      },
      "source": [
        "# Menerapkan Fungsi Callback\n",
        "class myCallback(tf.keras.callbacks.Callback):\n",
        "    def on_epoch_end(self, epoch, logs={}):\n",
        "        if(logs.get('accuracy')>0.60 and logs.get('val_accuracy')>0.60):\n",
        "            print(\"\\nAkurasi telah mencapai lebih dari 60%, proses dihentikan!\")\n",
        "            self.model.stop_training = True"
      ],
      "execution_count": null,
      "outputs": []
    },
    {
      "cell_type": "code",
      "metadata": {
        "colab": {
          "base_uri": "https://localhost:8080/",
          "height": 366
        },
        "id": "gejA7ed8BJvH",
        "outputId": "2ede2371-fd46-4a31-a2d0-892b780fc27d"
      },
      "source": [
        "# Proses Split Dataset\n",
        "df = pd.DataFrame({\"path\":full_path,'file_name':file_name,\"tag\":tag})\n",
        "df.groupby(['tag']).size()\n",
        "\n",
        "X = df['path']\n",
        "y = df['tag']\n",
        "\n",
        "X_train, X_val, y_train, y_val = train_test_split(X, y, test_size=0.1, random_state=300)\n",
        "\n",
        "df_tr = pd.DataFrame({'path':X_train, 'tag':y_train, 'set':'train'})\n",
        "df_val = pd.DataFrame({'path':X_val, 'tag':y_val, 'set':'validation'})\n",
        "\n",
        "print('train size', len(df_tr))\n",
        "print('val size', len(df_val))\n",
        "\n",
        "df_all = df_tr.append([df_val]).reset_index(drop=1)\n",
        "print(df_all.groupby(['set','tag']).size(),'\\n')\n",
        "\n",
        "df_all.sample(3)"
      ],
      "execution_count": null,
      "outputs": [
        {
          "output_type": "stream",
          "text": [
            "train size 540\n",
            "val size 61\n",
            "set         tag             \n",
            "train       1_normal            266\n",
            "            2_cataract           92\n",
            "            2_glaucoma           92\n",
            "            3_retina_disease     90\n",
            "validation  1_normal             34\n",
            "            2_cataract            8\n",
            "            2_glaucoma            9\n",
            "            3_retina_disease     10\n",
            "dtype: int64 \n",
            "\n"
          ],
          "name": "stdout"
        },
        {
          "output_type": "execute_result",
          "data": {
            "text/html": [
              "<div>\n",
              "<style scoped>\n",
              "    .dataframe tbody tr th:only-of-type {\n",
              "        vertical-align: middle;\n",
              "    }\n",
              "\n",
              "    .dataframe tbody tr th {\n",
              "        vertical-align: top;\n",
              "    }\n",
              "\n",
              "    .dataframe thead th {\n",
              "        text-align: right;\n",
              "    }\n",
              "</style>\n",
              "<table border=\"1\" class=\"dataframe\">\n",
              "  <thead>\n",
              "    <tr style=\"text-align: right;\">\n",
              "      <th></th>\n",
              "      <th>path</th>\n",
              "      <th>tag</th>\n",
              "      <th>set</th>\n",
              "    </tr>\n",
              "  </thead>\n",
              "  <tbody>\n",
              "    <tr>\n",
              "      <th>260</th>\n",
              "      <td>/content/dataset/1_normal/NL_136.png</td>\n",
              "      <td>1_normal</td>\n",
              "      <td>train</td>\n",
              "    </tr>\n",
              "    <tr>\n",
              "      <th>329</th>\n",
              "      <td>/content/dataset/1_normal/NL_080.png</td>\n",
              "      <td>1_normal</td>\n",
              "      <td>train</td>\n",
              "    </tr>\n",
              "    <tr>\n",
              "      <th>442</th>\n",
              "      <td>/content/dataset/2_glaucoma/Glaucoma_060.png</td>\n",
              "      <td>2_glaucoma</td>\n",
              "      <td>train</td>\n",
              "    </tr>\n",
              "  </tbody>\n",
              "</table>\n",
              "</div>"
            ],
            "text/plain": [
              "                                             path         tag    set\n",
              "260          /content/dataset/1_normal/NL_136.png    1_normal  train\n",
              "329          /content/dataset/1_normal/NL_080.png    1_normal  train\n",
              "442  /content/dataset/2_glaucoma/Glaucoma_060.png  2_glaucoma  train"
            ]
          },
          "metadata": {
            "tags": []
          },
          "execution_count": 8
        }
      ]
    },
    {
      "cell_type": "code",
      "metadata": {
        "colab": {
          "base_uri": "https://localhost:8080/",
          "height": 67,
          "referenced_widgets": [
            "ad693decfff242568c0d239a01013392",
            "e6f27b905a92470c90510e63cc91e954",
            "1e2c87d06e124cfeb5c2c812e28677b9",
            "86accfce89284796bbf56786d88a7485",
            "a2af00c21b894b55954a55d31f803024",
            "a6a34e42b16c43c28d7d7525861c78f9",
            "03d7ac1f466b4b5a8986de14856a412e",
            "23fb2be7ada24cd6b1328edd6bb06b60"
          ]
        },
        "id": "Uhs6p3FVBMY8",
        "outputId": "ada7d8c4-5f4b-46c7-b534-f68e7f0f0cfc"
      },
      "source": [
        "datasource_path = base_dir\n",
        "dataset_path = \"content/dataset/dataset/\"\n",
        "\n",
        "for index, row in tq(df_all.iterrows()):\n",
        "    \n",
        "    #detect filepath\n",
        "    file_path = row['path']            \n",
        "    if os.path.exists(file_path) == False:\n",
        "            file_path = os.path.join(datasource_path,row['tag'],row['image'].split('.')[0])  \n",
        "    \n",
        "    #make folder destination dirs\n",
        "    if os.path.exists(os.path.join(dataset_path,row['set'],row['tag'])) == False:\n",
        "        os.makedirs(os.path.join(dataset_path,row['set'],row['tag']))\n",
        "    \n",
        "    #define file dest\n",
        "    destination_file_name = file_path.split('/')[-1]\n",
        "    file_dest = os.path.join(dataset_path,row['set'],row['tag'],destination_file_name)\n",
        "    \n",
        "    #copy file from source to dest\n",
        "    if os.path.exists(file_dest) == False:\n",
        "        shutil.copy2(file_path,file_dest)"
      ],
      "execution_count": null,
      "outputs": [
        {
          "output_type": "display_data",
          "data": {
            "application/vnd.jupyter.widget-view+json": {
              "model_id": "ad693decfff242568c0d239a01013392",
              "version_minor": 0,
              "version_major": 2
            },
            "text/plain": [
              "HBox(children=(FloatProgress(value=1.0, bar_style='info', max=1.0), HTML(value='')))"
            ]
          },
          "metadata": {
            "tags": []
          }
        },
        {
          "output_type": "stream",
          "text": [
            "\n"
          ],
          "name": "stdout"
        }
      ]
    },
    {
      "cell_type": "code",
      "metadata": {
        "colab": {
          "base_uri": "https://localhost:8080/"
        },
        "id": "2oGuE-OwBM7z",
        "outputId": "17e48e80-36ce-4cc2-e563-4ae958184460"
      },
      "source": [
        "# Image Augmentation\n",
        "train_dir = \"content/dataset/dataset/train\"\n",
        "val_dir = \"content/dataset/dataset/validation\"\n",
        "\n",
        "train_datagen = ImageDataGenerator(\n",
        "                  rescale=1./255,\n",
        "                  rotation_range=40,\n",
        "                  vertical_flip=True,\n",
        "                  shear_range = 0.2,\n",
        "                  zoom_range=0.2,\n",
        "                  fill_mode = 'nearest')\n",
        "\n",
        "val_datagen = ImageDataGenerator(\n",
        "                  rescale=1./255,\n",
        "                  rotation_range=40,\n",
        "                  vertical_flip=True,\n",
        "                  shear_range = 0.2,\n",
        "                  zoom_range=0.2,\n",
        "                  fill_mode = 'nearest')\n",
        "\n",
        "train_generator = train_datagen.flow_from_directory(\n",
        "        train_dir,  # direktori data latih\n",
        "        target_size=(150,150),          \n",
        "        class_mode='categorical')\n",
        " \n",
        "validation_generator = val_datagen.flow_from_directory(\n",
        "        val_dir, # direktori data validasi\n",
        "        target_size=(150, 150), \n",
        "        class_mode='categorical')"
      ],
      "execution_count": null,
      "outputs": [
        {
          "output_type": "stream",
          "text": [
            "Found 540 images belonging to 4 classes.\n",
            "Found 61 images belonging to 4 classes.\n"
          ],
          "name": "stdout"
        }
      ]
    },
    {
      "cell_type": "code",
      "metadata": {
        "id": "4KRbQ0tBBmno",
        "colab": {
          "base_uri": "https://localhost:8080/"
        },
        "outputId": "75da1fd5-1a46-4f59-edb7-3ee6f461ae3b"
      },
      "source": [
        "# Simple Model CNN\n",
        "model = tf.keras.models.Sequential([\n",
        "    tf.keras.layers.Conv2D(32, (3,3), activation='relu', input_shape=(150, 150, 3)),\n",
        "    tf.keras.layers.MaxPooling2D(2, 2),\n",
        "    tf.keras.layers.Conv2D(64, (3,3), activation='relu'),\n",
        "    tf.keras.layers.MaxPooling2D(2,2),\n",
        "    tf.keras.layers.Conv2D(64, (3,3), activation='relu'),\n",
        "    tf.keras.layers.MaxPooling2D(2,2),\n",
        "    tf.keras.layers.Conv2D(128, (3,3), activation='relu'),\n",
        "    tf.keras.layers.MaxPooling2D(2,2),\n",
        "    tf.keras.layers.Conv2D(128, (3,3), activation='relu'),\n",
        "    tf.keras.layers.MaxPooling2D(2,2),\n",
        "    tf.keras.layers.Flatten(),\n",
        "    tf.keras.layers.Dropout(0.5),\n",
        "    tf.keras.layers.Dense(512, activation='relu'),\n",
        "    tf.keras.layers.Dense(4, activation='softmax')\n",
        "])\n",
        "\n",
        "model.compile(loss='categorical_crossentropy',\n",
        "              optimizer='rmsprop',\n",
        "              metrics=['accuracy'])\n",
        "\n",
        "model.summary()"
      ],
      "execution_count": null,
      "outputs": [
        {
          "output_type": "stream",
          "text": [
            "Model: \"sequential_1\"\n",
            "_________________________________________________________________\n",
            "Layer (type)                 Output Shape              Param #   \n",
            "=================================================================\n",
            "conv2d_5 (Conv2D)            (None, 148, 148, 32)      896       \n",
            "_________________________________________________________________\n",
            "max_pooling2d_5 (MaxPooling2 (None, 74, 74, 32)        0         \n",
            "_________________________________________________________________\n",
            "conv2d_6 (Conv2D)            (None, 72, 72, 64)        18496     \n",
            "_________________________________________________________________\n",
            "max_pooling2d_6 (MaxPooling2 (None, 36, 36, 64)        0         \n",
            "_________________________________________________________________\n",
            "conv2d_7 (Conv2D)            (None, 34, 34, 64)        36928     \n",
            "_________________________________________________________________\n",
            "max_pooling2d_7 (MaxPooling2 (None, 17, 17, 64)        0         \n",
            "_________________________________________________________________\n",
            "conv2d_8 (Conv2D)            (None, 15, 15, 128)       73856     \n",
            "_________________________________________________________________\n",
            "max_pooling2d_8 (MaxPooling2 (None, 7, 7, 128)         0         \n",
            "_________________________________________________________________\n",
            "conv2d_9 (Conv2D)            (None, 5, 5, 128)         147584    \n",
            "_________________________________________________________________\n",
            "max_pooling2d_9 (MaxPooling2 (None, 2, 2, 128)         0         \n",
            "_________________________________________________________________\n",
            "flatten_1 (Flatten)          (None, 512)               0         \n",
            "_________________________________________________________________\n",
            "dropout_1 (Dropout)          (None, 512)               0         \n",
            "_________________________________________________________________\n",
            "dense_2 (Dense)              (None, 512)               262656    \n",
            "_________________________________________________________________\n",
            "dense_3 (Dense)              (None, 4)                 2052      \n",
            "=================================================================\n",
            "Total params: 542,468\n",
            "Trainable params: 542,468\n",
            "Non-trainable params: 0\n",
            "_________________________________________________________________\n"
          ],
          "name": "stdout"
        }
      ]
    },
    {
      "cell_type": "code",
      "metadata": {
        "colab": {
          "base_uri": "https://localhost:8080/"
        },
        "id": "vgYGUazTBPf_",
        "outputId": "dcbe588f-5091-4f5a-ac0e-744c73a59e11"
      },
      "source": [
        "callbacks = myCallback()\n",
        "history = model.fit(\n",
        "    train_generator,\n",
        "    steps_per_epoch = 15,\n",
        "    epochs = 100,\n",
        "    validation_data = validation_generator,\n",
        "    validation_steps = 2,\n",
        "    verbose =1,\n",
        "    callbacks=[callbacks]\n",
        ")"
      ],
      "execution_count": null,
      "outputs": [
        {
          "output_type": "stream",
          "text": [
            "Epoch 1/100\n",
            "15/15 [==============================] - 75s 5s/step - loss: 1.3397 - accuracy: 0.4559 - val_loss: 1.2624 - val_accuracy: 0.5574\n",
            "Epoch 2/100\n",
            "15/15 [==============================] - 70s 5s/step - loss: 1.3077 - accuracy: 0.4937 - val_loss: 1.2731 - val_accuracy: 0.5574\n",
            "Epoch 3/100\n",
            "15/15 [==============================] - 70s 5s/step - loss: 1.2709 - accuracy: 0.4958 - val_loss: 1.2505 - val_accuracy: 0.5574\n",
            "Epoch 4/100\n",
            "15/15 [==============================] - 70s 5s/step - loss: 1.2473 - accuracy: 0.4979 - val_loss: 1.2162 - val_accuracy: 0.5574\n",
            "Epoch 5/100\n",
            "15/15 [==============================] - 72s 5s/step - loss: 1.2563 - accuracy: 0.4916 - val_loss: 1.2323 - val_accuracy: 0.5574\n",
            "Epoch 6/100\n",
            "15/15 [==============================] - 72s 5s/step - loss: 1.2807 - accuracy: 0.4937 - val_loss: 1.1693 - val_accuracy: 0.5574\n",
            "Epoch 7/100\n",
            "15/15 [==============================] - 70s 5s/step - loss: 1.2326 - accuracy: 0.4896 - val_loss: 1.1446 - val_accuracy: 0.5574\n",
            "Epoch 8/100\n",
            "15/15 [==============================] - 69s 5s/step - loss: 1.2234 - accuracy: 0.5000 - val_loss: 1.0508 - val_accuracy: 0.5902\n",
            "Epoch 9/100\n",
            "15/15 [==============================] - 69s 5s/step - loss: 1.1648 - accuracy: 0.5273 - val_loss: 1.1355 - val_accuracy: 0.5574\n",
            "Epoch 10/100\n",
            "15/15 [==============================] - 70s 5s/step - loss: 1.1908 - accuracy: 0.5084 - val_loss: 1.0593 - val_accuracy: 0.5738\n",
            "Epoch 11/100\n",
            "15/15 [==============================] - 70s 5s/step - loss: 1.1394 - accuracy: 0.5378 - val_loss: 1.0415 - val_accuracy: 0.5738\n",
            "Epoch 12/100\n",
            "15/15 [==============================] - 69s 5s/step - loss: 1.1286 - accuracy: 0.5483 - val_loss: 1.0742 - val_accuracy: 0.5574\n",
            "Epoch 13/100\n",
            "15/15 [==============================] - 72s 5s/step - loss: 1.1171 - accuracy: 0.5336 - val_loss: 1.0378 - val_accuracy: 0.5738\n",
            "Epoch 14/100\n",
            "15/15 [==============================] - 70s 5s/step - loss: 1.1127 - accuracy: 0.5525 - val_loss: 1.0026 - val_accuracy: 0.5738\n",
            "Epoch 15/100\n",
            "15/15 [==============================] - 70s 5s/step - loss: 1.0926 - accuracy: 0.5588 - val_loss: 1.0607 - val_accuracy: 0.5574\n",
            "Epoch 16/100\n",
            "15/15 [==============================] - 69s 5s/step - loss: 1.1132 - accuracy: 0.5357 - val_loss: 1.1557 - val_accuracy: 0.5082\n",
            "Epoch 17/100\n",
            "15/15 [==============================] - 70s 5s/step - loss: 1.0460 - accuracy: 0.5777 - val_loss: 0.9794 - val_accuracy: 0.5574\n",
            "Epoch 18/100\n",
            "15/15 [==============================] - 69s 5s/step - loss: 1.0360 - accuracy: 0.5756 - val_loss: 1.1122 - val_accuracy: 0.5574\n",
            "Epoch 19/100\n",
            "15/15 [==============================] - 70s 5s/step - loss: 1.0648 - accuracy: 0.5399 - val_loss: 0.9468 - val_accuracy: 0.5902\n",
            "Epoch 20/100\n",
            "15/15 [==============================] - 70s 5s/step - loss: 1.0375 - accuracy: 0.5672 - val_loss: 0.9457 - val_accuracy: 0.6066\n",
            "Epoch 21/100\n",
            "15/15 [==============================] - 72s 5s/step - loss: 1.0482 - accuracy: 0.5441 - val_loss: 1.0778 - val_accuracy: 0.5082\n",
            "Epoch 22/100\n",
            "15/15 [==============================] - 70s 5s/step - loss: 1.0188 - accuracy: 0.5861 - val_loss: 1.0485 - val_accuracy: 0.5082\n",
            "Epoch 23/100\n",
            "15/15 [==============================] - 70s 5s/step - loss: 1.0064 - accuracy: 0.5735 - val_loss: 0.9616 - val_accuracy: 0.6066\n",
            "Epoch 24/100\n",
            "15/15 [==============================] - 69s 5s/step - loss: 1.0124 - accuracy: 0.5987 - val_loss: 1.0745 - val_accuracy: 0.5082\n",
            "Epoch 25/100\n",
            "15/15 [==============================] - 69s 5s/step - loss: 1.0134 - accuracy: 0.5693 - val_loss: 1.0472 - val_accuracy: 0.5246\n",
            "Epoch 26/100\n",
            "15/15 [==============================] - 70s 5s/step - loss: 1.0083 - accuracy: 0.5735 - val_loss: 0.9902 - val_accuracy: 0.5738\n",
            "Epoch 27/100\n",
            "15/15 [==============================] - 69s 5s/step - loss: 0.9930 - accuracy: 0.6050 - val_loss: 0.9555 - val_accuracy: 0.6066\n",
            "\n",
            "Akurasi telah mencapai lebih dari 70%, proses dihentikan!\n"
          ],
          "name": "stdout"
        }
      ]
    },
    {
      "cell_type": "code",
      "metadata": {
        "id": "gIKJPMhbI1_b"
      },
      "source": [
        "# Grafik untuk Loss Train dan Loss Validation..\n",
        "from matplotlib import pyplot as plt\n",
        "\n",
        "plt.plot(history.history['loss'], label ='Training loss')\n",
        "plt.plot(history.history['val_loss'], label = 'Validation loss')\n",
        "plt.title('Loss Plot')\n",
        "plt.ylabel('Value')\n",
        "plt.xlabel('Epoch')\n",
        "plt.legend(loc='upper right')\n",
        "plt.show()"
      ],
      "execution_count": null,
      "outputs": []
    },
    {
      "cell_type": "code",
      "metadata": {
        "id": "s0yc48RUI2kM"
      },
      "source": [
        "# Grafik untuk Akurasi Train dan Akurasi validation..\n",
        "plt.plot(history.history['accuracy'], label = 'Train Accuracy')\n",
        "plt.plot(history.history['val_accuracy'], label = 'Validation Accuracy')\n",
        "plt.title('Accuracy Plot')\n",
        "plt.ylabel('Value')\n",
        "plt.xlabel('Epoch')\n",
        "plt.legend(loc='lower right')\n",
        "plt.show()"
      ],
      "execution_count": null,
      "outputs": []
    },
    {
      "cell_type": "code",
      "metadata": {
        "id": "c6gjHWJ7JQll"
      },
      "source": [
        "tf.keras.models.save_model(model,'my_model.hdf5')"
      ],
      "execution_count": null,
      "outputs": []
    },
    {
      "cell_type": "code",
      "metadata": {
        "colab": {
          "base_uri": "https://localhost:8080/"
        },
        "id": "3skDAXDd5_KT",
        "outputId": "28469b96-6620-480c-db99-a4e6e127e225"
      },
      "source": [
        "# Konversi model.\n",
        "converter = tf.lite.TFLiteConverter.from_keras_model(model)\n",
        "tflite_model = converter.convert()\n",
        "\n",
        "with tf.io.gfile.GFile('model.tflite', 'wb') as f:\n",
        "  f.write(tflite_model)"
      ],
      "execution_count": null,
      "outputs": [
        {
          "output_type": "stream",
          "text": [
            "INFO:tensorflow:Assets written to: /tmp/tmpl9497g1v/assets\n"
          ],
          "name": "stdout"
        }
      ]
    }
  ]
}