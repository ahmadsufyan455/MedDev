{
  "nbformat": 4,
  "nbformat_minor": 0,
  "metadata": {
    "colab": {
      "name": "Deteksi_Mata.ipynb",
      "provenance": [],
      "collapsed_sections": []
    },
    "kernelspec": {
      "display_name": "Python 3",
      "name": "python3"
    },
    "language_info": {
      "name": "python"
    }
  },
  "cells": [
    {
      "cell_type": "code",
      "metadata": {
        "id": "1RCVsxwPBSIn"
      },
      "source": [
        "import tensorflow as tf\n",
        "import pandas as pd\n",
        "import zipfile, os, shutil\n",
        "from sklearn.model_selection import train_test_split\n",
        "from tqdm.notebook import tqdm as tq\n",
        "from keras.preprocessing.image import ImageDataGenerator"
      ],
      "execution_count": 1,
      "outputs": []
    },
    {
      "cell_type": "code",
      "metadata": {
        "id": "zCphn8iOA5Ru",
        "colab": {
          "base_uri": "https://localhost:8080/"
        },
        "outputId": "f3c01b0b-b2e9-439b-c51d-a08a7ca7b2da"
      },
      "source": [
        "# Cek Versi Tensorflow\n",
        "print(tf.__version__)"
      ],
      "execution_count": 2,
      "outputs": [
        {
          "output_type": "stream",
          "text": [
            "2.4.1\n"
          ],
          "name": "stdout"
        }
      ]
    },
    {
      "cell_type": "code",
      "metadata": {
        "id": "BwLpG53rA7uW",
        "colab": {
          "base_uri": "https://localhost:8080/"
        },
        "outputId": "75f5fa93-8a1d-4d61-f8aa-59a251cf249b"
      },
      "source": [
        "# Download Dataset Katarak\n",
        "! KAGGLE_CONFIG_DIR=/content/ kaggle datasets download jr2ngb/cataractdataset\n",
        "! chmod 600 kaggle.json\n",
        "! ls ~/.kaggle 2>/dev/null || mkdir ~/.kaggle\n",
        "! mv kaggle.json ~/.kaggle\n",
        "! kaggle datasets download jr2ngb/cataractdataset"
      ],
      "execution_count": 3,
      "outputs": [
        {
          "output_type": "stream",
          "text": [
            "Warning: Your Kaggle API key is readable by other users on this system! To fix this, you can run 'chmod 600 /content/kaggle.json'\n",
            "Downloading cataractdataset.zip to /content\n",
            "100% 3.33G/3.34G [00:39<00:00, 84.3MB/s]\n",
            "100% 3.34G/3.34G [00:39<00:00, 90.7MB/s]\n",
            "cataractdataset.zip: Skipping, found more recently modified local copy (use --force to force download)\n"
          ],
          "name": "stdout"
        }
      ]
    },
    {
      "cell_type": "code",
      "metadata": {
        "id": "xm225cGlA9cw",
        "colab": {
          "base_uri": "https://localhost:8080/"
        },
        "outputId": "16805454-ad48-40a2-c65f-2429bb17b081"
      },
      "source": [
        "# Proses Ekstrak Dataset\n",
        "with zipfile.ZipFile('cataractdataset.zip','r') as z:\n",
        "  z.extractall('./')\n",
        "\n",
        "os.listdir()"
      ],
      "execution_count": 4,
      "outputs": [
        {
          "output_type": "execute_result",
          "data": {
            "text/plain": [
              "['.config',\n",
              " 'README.md',\n",
              " 'dataset',\n",
              " 'repository',\n",
              " 'cataractdataset.zip',\n",
              " 'sample_data']"
            ]
          },
          "metadata": {
            "tags": []
          },
          "execution_count": 4
        }
      ]
    },
    {
      "cell_type": "code",
      "metadata": {
        "id": "gNafB3bQA_YC"
      },
      "source": [
        "# Hapus Direktori yang Tidak Digunakan\n",
        "dir_path = '/content/repository'\n",
        "\n",
        "shutil.rmtree(dir_path)"
      ],
      "execution_count": 5,
      "outputs": []
    },
    {
      "cell_type": "code",
      "metadata": {
        "id": "C2wSsq7FBBiX"
      },
      "source": [
        "base_dir = '/content/dataset'\n",
        "\n",
        "file_name = []\n",
        "tag = []\n",
        "full_path = []\n",
        "for path, subdirs, files in os.walk(base_dir):\n",
        "    for name in files:\n",
        "        full_path.append(os.path.join(path, name)) \n",
        "        tag.append(path.split('/')[-1])        \n",
        "        file_name.append(name)"
      ],
      "execution_count": 6,
      "outputs": []
    },
    {
      "cell_type": "code",
      "metadata": {
        "id": "v7Ac6AwbBECy"
      },
      "source": [
        "# Menerapkan Fungsi Callback\n",
        "class myCallback(tf.keras.callbacks.Callback):\n",
        "    def on_epoch_end(self, epoch, logs={}):\n",
        "        if(logs.get('accuracy')>0.85 and logs.get('val_accuracy')>0.85):\n",
        "            print(\"\\nAkurasi telah mencapai lebih dari 85%, proses dihentikan!\")\n",
        "            self.model.stop_training = True"
      ],
      "execution_count": 7,
      "outputs": []
    },
    {
      "cell_type": "code",
      "metadata": {
        "id": "gejA7ed8BJvH",
        "colab": {
          "base_uri": "https://localhost:8080/",
          "height": 367
        },
        "outputId": "76456c18-7109-4dfd-aa09-7deb6191df19"
      },
      "source": [
        "# Proses Split Dataset\n",
        "df = pd.DataFrame({\"path\":full_path,'file_name':file_name,\"tag\":tag})\n",
        "df.groupby(['tag']).size()\n",
        "\n",
        "X = df['path']\n",
        "y = df['tag']\n",
        "\n",
        "X_train, X_val, y_train, y_val = train_test_split(X, y, test_size=0.1, random_state=300)\n",
        "\n",
        "df_tr = pd.DataFrame({'path':X_train, 'tag':y_train, 'set':'train'})\n",
        "df_val = pd.DataFrame({'path':X_val, 'tag':y_val, 'set':'validation'})\n",
        "\n",
        "print('train size', len(df_tr))\n",
        "print('val size', len(df_val))\n",
        "\n",
        "df_all = df_tr.append([df_val]).reset_index(drop=1)\n",
        "print(df_all.groupby(['set','tag']).size(),'\\n')\n",
        "\n",
        "df_all.sample(3)"
      ],
      "execution_count": 8,
      "outputs": [
        {
          "output_type": "stream",
          "text": [
            "train size 540\n",
            "val size 61\n",
            "set         tag             \n",
            "train       1_normal            272\n",
            "            2_cataract           87\n",
            "            2_glaucoma           89\n",
            "            3_retina_disease     92\n",
            "validation  1_normal             28\n",
            "            2_cataract           13\n",
            "            2_glaucoma           12\n",
            "            3_retina_disease      8\n",
            "dtype: int64 \n",
            "\n"
          ],
          "name": "stdout"
        },
        {
          "output_type": "execute_result",
          "data": {
            "text/html": [
              "<div>\n",
              "<style scoped>\n",
              "    .dataframe tbody tr th:only-of-type {\n",
              "        vertical-align: middle;\n",
              "    }\n",
              "\n",
              "    .dataframe tbody tr th {\n",
              "        vertical-align: top;\n",
              "    }\n",
              "\n",
              "    .dataframe thead th {\n",
              "        text-align: right;\n",
              "    }\n",
              "</style>\n",
              "<table border=\"1\" class=\"dataframe\">\n",
              "  <thead>\n",
              "    <tr style=\"text-align: right;\">\n",
              "      <th></th>\n",
              "      <th>path</th>\n",
              "      <th>tag</th>\n",
              "      <th>set</th>\n",
              "    </tr>\n",
              "  </thead>\n",
              "  <tbody>\n",
              "    <tr>\n",
              "      <th>458</th>\n",
              "      <td>/content/dataset/2_cataract/cataract_034.png</td>\n",
              "      <td>2_cataract</td>\n",
              "      <td>train</td>\n",
              "    </tr>\n",
              "    <tr>\n",
              "      <th>201</th>\n",
              "      <td>/content/dataset/3_retina_disease/Retina_061.png</td>\n",
              "      <td>3_retina_disease</td>\n",
              "      <td>train</td>\n",
              "    </tr>\n",
              "    <tr>\n",
              "      <th>80</th>\n",
              "      <td>/content/dataset/1_normal/NL_113.png</td>\n",
              "      <td>1_normal</td>\n",
              "      <td>train</td>\n",
              "    </tr>\n",
              "  </tbody>\n",
              "</table>\n",
              "</div>"
            ],
            "text/plain": [
              "                                                 path               tag    set\n",
              "458      /content/dataset/2_cataract/cataract_034.png        2_cataract  train\n",
              "201  /content/dataset/3_retina_disease/Retina_061.png  3_retina_disease  train\n",
              "80               /content/dataset/1_normal/NL_113.png          1_normal  train"
            ]
          },
          "metadata": {
            "tags": []
          },
          "execution_count": 8
        }
      ]
    },
    {
      "cell_type": "code",
      "metadata": {
        "id": "Uhs6p3FVBMY8"
      },
      "source": [
        "datasource_path = base_dir\n",
        "dataset_path = \"content/dataset/dataset/\"\n",
        "\n",
        "for index, row in tq(df_all.iterrows()):\n",
        "    \n",
        "    #detect filepath\n",
        "    file_path = row['path']            \n",
        "    if os.path.exists(file_path) == False:\n",
        "            file_path = os.path.join(datasource_path,row['tag'],row['image'].split('.')[0])  \n",
        "    \n",
        "    #make folder destination dirs\n",
        "    if os.path.exists(os.path.join(dataset_path,row['set'],row['tag'])) == False:\n",
        "        os.makedirs(os.path.join(dataset_path,row['set'],row['tag']))\n",
        "    \n",
        "    #define file dest\n",
        "    destination_file_name = file_path.split('/')[-1]\n",
        "    file_dest = os.path.join(dataset_path,row['set'],row['tag'],destination_file_name)\n",
        "    \n",
        "    #copy file from source to dest\n",
        "    if os.path.exists(file_dest) == False:\n",
        "        shutil.copy2(file_path,file_dest)"
      ],
      "execution_count": null,
      "outputs": []
    },
    {
      "cell_type": "code",
      "metadata": {
        "id": "2oGuE-OwBM7z",
        "colab": {
          "base_uri": "https://localhost:8080/"
        },
        "outputId": "e30a79bb-dd02-4aae-df00-5082d18256bb"
      },
      "source": [
        "# Image Augmentation\n",
        "train_dir = \"content/dataset/dataset/train\"\n",
        "val_dir = \"content/dataset/dataset/validation\"\n",
        "\n",
        "train_datagen = ImageDataGenerator(\n",
        "                  rescale=1./255,\n",
        "                  rotation_range=40,\n",
        "                  vertical_flip=True,\n",
        "                  shear_range = 0.2,\n",
        "                  zoom_range=0.2,\n",
        "                  fill_mode = 'nearest')\n",
        "\n",
        "val_datagen = ImageDataGenerator(\n",
        "                  rescale=1./255,\n",
        "                  rotation_range=40,\n",
        "                  vertical_flip=True,\n",
        "                  shear_range = 0.2,\n",
        "                  zoom_range=0.2,\n",
        "                  fill_mode = 'nearest')\n",
        "\n",
        "train_generator = train_datagen.flow_from_directory(\n",
        "        train_dir,  # direktori data latih\n",
        "        target_size=(150,150),  \n",
        "        batch_size=32,\n",
        "        class_mode='categorical')\n",
        " \n",
        "validation_generator = val_datagen.flow_from_directory(\n",
        "        val_dir, # direktori data validasi\n",
        "        target_size=(150, 150), \n",
        "        batch_size=32, \n",
        "        class_mode='categorical')"
      ],
      "execution_count": 14,
      "outputs": [
        {
          "output_type": "stream",
          "text": [
            "Found 540 images belonging to 4 classes.\n",
            "Found 61 images belonging to 4 classes.\n"
          ],
          "name": "stdout"
        }
      ]
    },
    {
      "cell_type": "code",
      "metadata": {
        "id": "4KRbQ0tBBmno",
        "colab": {
          "base_uri": "https://localhost:8080/"
        },
        "outputId": "86a4e932-117c-40de-a88c-16f2e3500c22"
      },
      "source": [
        "# Model\n",
        "model = tf.keras.models.Sequential([\n",
        "    tf.keras.layers.Conv2D(64, (3,3), activation='relu', input_shape=(150, 150, 3)),\n",
        "    tf.keras.layers.MaxPooling2D(2, 2),\n",
        "    tf.keras.layers.Conv2D(64, (3,3), activation='relu'),\n",
        "    tf.keras.layers.MaxPooling2D(2,2),\n",
        "    tf.keras.layers.Conv2D(128, (3,3), activation='relu'),\n",
        "    tf.keras.layers.MaxPooling2D(2,2),\n",
        "    tf.keras.layers.Conv2D(128, (3,3), activation='relu'),\n",
        "    tf.keras.layers.MaxPooling2D(2,2),\n",
        "    tf.keras.layers.Flatten(),\n",
        "    tf.keras.layers.Dropout(0.5),\n",
        "    tf.keras.layers.Dense(512, activation='relu'),\n",
        "    tf.keras.layers.Dense(4, activation='softmax')\n",
        "])\n",
        "\n",
        "model.compile(loss='categorical_crossentropy',\n",
        "              optimizer=tf.optimizers.Adam(),\n",
        "              metrics=['accuracy'])\n",
        "\n",
        "model.summary()"
      ],
      "execution_count": 15,
      "outputs": [
        {
          "output_type": "stream",
          "text": [
            "Model: \"sequential_1\"\n",
            "_________________________________________________________________\n",
            "Layer (type)                 Output Shape              Param #   \n",
            "=================================================================\n",
            "conv2d_4 (Conv2D)            (None, 148, 148, 64)      1792      \n",
            "_________________________________________________________________\n",
            "max_pooling2d_4 (MaxPooling2 (None, 74, 74, 64)        0         \n",
            "_________________________________________________________________\n",
            "conv2d_5 (Conv2D)            (None, 72, 72, 64)        36928     \n",
            "_________________________________________________________________\n",
            "max_pooling2d_5 (MaxPooling2 (None, 36, 36, 64)        0         \n",
            "_________________________________________________________________\n",
            "conv2d_6 (Conv2D)            (None, 34, 34, 128)       73856     \n",
            "_________________________________________________________________\n",
            "max_pooling2d_6 (MaxPooling2 (None, 17, 17, 128)       0         \n",
            "_________________________________________________________________\n",
            "conv2d_7 (Conv2D)            (None, 15, 15, 128)       147584    \n",
            "_________________________________________________________________\n",
            "max_pooling2d_7 (MaxPooling2 (None, 7, 7, 128)         0         \n",
            "_________________________________________________________________\n",
            "flatten_1 (Flatten)          (None, 6272)              0         \n",
            "_________________________________________________________________\n",
            "dropout_1 (Dropout)          (None, 6272)              0         \n",
            "_________________________________________________________________\n",
            "dense_2 (Dense)              (None, 512)               3211776   \n",
            "_________________________________________________________________\n",
            "dense_3 (Dense)              (None, 4)                 2052      \n",
            "=================================================================\n",
            "Total params: 3,473,988\n",
            "Trainable params: 3,473,988\n",
            "Non-trainable params: 0\n",
            "_________________________________________________________________\n"
          ],
          "name": "stdout"
        }
      ]
    },
    {
      "cell_type": "code",
      "metadata": {
        "id": "vgYGUazTBPf_",
        "colab": {
          "base_uri": "https://localhost:8080/"
        },
        "outputId": "f8b032e4-cf07-4394-f1d5-7047d29db64e"
      },
      "source": [
        "callbacks = myCallback()\n",
        "history = model.fit(\n",
        "    train_generator,\n",
        "    steps_per_epoch = 540/32,\n",
        "    epochs = 20,\n",
        "    validation_data = validation_generator,\n",
        "    validation_steps = 61/32,\n",
        "    verbose =2,\n",
        "    callbacks=[callbacks]\n",
        ")"
      ],
      "execution_count": 16,
      "outputs": [
        {
          "output_type": "stream",
          "text": [
            "Epoch 1/20\n",
            "16/16 - 93s - loss: 1.3714 - accuracy: 0.4741 - val_loss: 1.3488 - val_accuracy: 0.4590\n",
            "Epoch 2/20\n",
            "16/16 - 92s - loss: 1.2580 - accuracy: 0.5037 - val_loss: 1.2884 - val_accuracy: 0.4590\n",
            "Epoch 3/20\n",
            "16/16 - 92s - loss: 1.2419 - accuracy: 0.5037 - val_loss: 1.2515 - val_accuracy: 0.4590\n",
            "Epoch 4/20\n",
            "16/16 - 92s - loss: 1.2128 - accuracy: 0.5130 - val_loss: 1.1540 - val_accuracy: 0.5410\n",
            "Epoch 5/20\n",
            "16/16 - 91s - loss: 1.2056 - accuracy: 0.5278 - val_loss: 1.1185 - val_accuracy: 0.5902\n",
            "Epoch 6/20\n",
            "16/16 - 91s - loss: 1.1582 - accuracy: 0.5481 - val_loss: 1.0640 - val_accuracy: 0.5902\n",
            "Epoch 7/20\n",
            "16/16 - 92s - loss: 1.1766 - accuracy: 0.5315 - val_loss: 1.3059 - val_accuracy: 0.4590\n",
            "Epoch 8/20\n",
            "16/16 - 91s - loss: 1.1581 - accuracy: 0.5000 - val_loss: 1.1186 - val_accuracy: 0.5246\n",
            "Epoch 9/20\n",
            "16/16 - 92s - loss: 1.1017 - accuracy: 0.5500 - val_loss: 1.0740 - val_accuracy: 0.5738\n",
            "Epoch 10/20\n",
            "16/16 - 92s - loss: 1.0870 - accuracy: 0.5574 - val_loss: 1.0125 - val_accuracy: 0.5410\n",
            "Epoch 11/20\n",
            "16/16 - 90s - loss: 1.0751 - accuracy: 0.5537 - val_loss: 1.0910 - val_accuracy: 0.5574\n",
            "Epoch 12/20\n",
            "16/16 - 93s - loss: 1.0459 - accuracy: 0.5630 - val_loss: 0.9662 - val_accuracy: 0.6230\n",
            "Epoch 13/20\n",
            "16/16 - 92s - loss: 1.0176 - accuracy: 0.5759 - val_loss: 0.9609 - val_accuracy: 0.6230\n",
            "Epoch 14/20\n",
            "16/16 - 92s - loss: 1.0283 - accuracy: 0.5593 - val_loss: 0.8963 - val_accuracy: 0.6557\n",
            "Epoch 15/20\n",
            "16/16 - 91s - loss: 0.9995 - accuracy: 0.5759 - val_loss: 0.9501 - val_accuracy: 0.5574\n",
            "Epoch 16/20\n",
            "16/16 - 91s - loss: 1.0337 - accuracy: 0.5667 - val_loss: 0.9754 - val_accuracy: 0.5738\n",
            "Epoch 17/20\n",
            "16/16 - 93s - loss: 0.9869 - accuracy: 0.5759 - val_loss: 0.9261 - val_accuracy: 0.6557\n",
            "Epoch 18/20\n",
            "16/16 - 91s - loss: 0.9798 - accuracy: 0.6000 - val_loss: 0.9024 - val_accuracy: 0.6721\n",
            "Epoch 19/20\n",
            "16/16 - 93s - loss: 0.9459 - accuracy: 0.5926 - val_loss: 0.9131 - val_accuracy: 0.6721\n",
            "Epoch 20/20\n",
            "16/16 - 92s - loss: 0.9254 - accuracy: 0.6056 - val_loss: 1.1456 - val_accuracy: 0.5902\n"
          ],
          "name": "stdout"
        }
      ]
    },
    {
      "cell_type": "code",
      "metadata": {
        "colab": {
          "base_uri": "https://localhost:8080/",
          "height": 295
        },
        "id": "gIKJPMhbI1_b",
        "outputId": "ee0d96b9-d387-41b0-9a0a-ff52868a9b04"
      },
      "source": [
        "# Grafik untuk Loss Train dan Loss Validation..\n",
        "from matplotlib import pyplot as plt\n",
        "\n",
        "plt.plot(history.history['loss'], label ='Training loss')\n",
        "plt.plot(history.history['val_loss'], label = 'Validation loss')\n",
        "plt.title('Loss Plot')\n",
        "plt.ylabel('Value')\n",
        "plt.xlabel('Epoch')\n",
        "plt.legend(loc='upper right')\n",
        "plt.show()"
      ],
      "execution_count": 17,
      "outputs": [
        {
          "output_type": "display_data",
          "data": {
            "image/png": "[encoded data removed]",
            "text/plain": [
              "<Figure size 432x288 with 1 Axes>"
            ]
          },
          "metadata": {
            "tags": [],
            "needs_background": "light"
          }
        }
      ]
    },
    {
      "cell_type": "code",
      "metadata": {
        "colab": {
          "base_uri": "https://localhost:8080/",
          "height": 295
        },
        "id": "s0yc48RUI2kM",
        "outputId": "14fcf69f-be5d-47a4-924d-ea83e43fe0d2"
      },
      "source": [
        "# Grafik untuk Akurasi Train dan Akurasi validation..\n",
        "plt.plot(history.history['accuracy'], label = 'Train Accuracy')\n",
        "plt.plot(history.history['val_accuracy'], label = 'Validation Accuracy')\n",
        "plt.title('Accuracy Plot')\n",
        "plt.ylabel('Value')\n",
        "plt.xlabel('Epoch')\n",
        "plt.legend(loc='lower right')\n",
        "plt.show()"
      ],
      "execution_count": 18,
      "outputs": [
        {
          "output_type": "display_data",
          "data": {
            "image/png": "[encoded data removed]",
            "text/plain": [
              "<Figure size 432x288 with 1 Axes>"
            ]
          },
          "metadata": {
            "tags": [],
            "needs_background": "light"
          }
        }
      ]
    }
  ]
}