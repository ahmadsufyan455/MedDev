{
  "nbformat": 4,
  "nbformat_minor": 0,
  "metadata": {
    "colab": {
      "name": "Deteksi Mata.ipynb",
      "provenance": []
    },
    "kernelspec": {
      "name": "python3",
      "display_name": "Python 3"
    },
    "language_info": {
      "name": "python"
    }
  },
  "cells": [
    {
      "cell_type": "code",
      "metadata": {
        "colab": {
          "base_uri": "https://localhost:8080/"
        },
        "id": "JG2-jVwizTq8",
        "outputId": "33946357-70b3-46bc-bd2b-59525f9362aa"
      },
      "source": [
        "# Download Dataset Katarak\n",
        "! KAGGLE_CONFIG_DIR=/content/ kaggle datasets download jr2ngb/cataractdataset\n",
        "! chmod 600 kaggle.json\n",
        "! ls ~/.kaggle 2>/dev/null || mkdir ~/.kaggle\n",
        "! mv kaggle.json ~/.kaggle\n",
        "! kaggle datasets download jr2ngb/cataractdataset"
      ],
      "execution_count": null,
      "outputs": [
        {
          "output_type": "stream",
          "text": [
            "Warning: Your Kaggle API key is readable by other users on this system! To fix this, you can run 'chmod 600 /content/kaggle.json'\n",
            "Downloading cataractdataset.zip to /content\n",
            "100% 3.34G/3.34G [00:41<00:00, 56.8MB/s]\n",
            "100% 3.34G/3.34G [00:41<00:00, 85.6MB/s]\n",
            "cataractdataset.zip: Skipping, found more recently modified local copy (use --force to force download)\n"
          ],
          "name": "stdout"
        }
      ]
    },
    {
      "cell_type": "code",
      "metadata": {
        "id": "Hju48lg_0lfU"
      },
      "source": [
        "# Proses Ekstrak Dataset\n",
        "import zipfile\n",
        "import os\n",
        "\n",
        "with zipfile.ZipFile('cataractdataset.zip','r') as z:\n",
        "  z.extractall('./')\n",
        "\n",
        "os.listdir()"
      ],
      "execution_count": null,
      "outputs": []
    }
  ]
}