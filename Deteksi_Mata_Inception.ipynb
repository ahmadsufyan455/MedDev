{
  "nbformat": 4,
  "nbformat_minor": 0,
  "metadata": {
    "colab": {
      "name": "Deteksi_Mata_Inception.ipynb",
      "provenance": []
    },
    "kernelspec": {
      "name": "python3",
      "display_name": "Python 3"
    },
    "language_info": {
      "name": "python"
    },
    "widgets": {
      "application/vnd.jupyter.widget-state+json": {
        "316c6190edb641488929e6d0d660414d": {
          "model_module": "@jupyter-widgets/controls",
          "model_name": "HBoxModel",
          "state": {
            "_view_name": "HBoxView",
            "_dom_classes": [],
            "_model_name": "HBoxModel",
            "_view_module": "@jupyter-widgets/controls",
            "_model_module_version": "1.5.0",
            "_view_count": null,
            "_view_module_version": "1.5.0",
            "box_style": "",
            "layout": "IPY_MODEL_e6058f5778b347858c2bf0f930e92bfc",
            "_model_module": "@jupyter-widgets/controls",
            "children": [
              "IPY_MODEL_0e07c915ec7b4f5aae9f615d043c70ec",
              "IPY_MODEL_b758775654ee4276b5d7f5336e7735b5"
            ]
          }
        },
        "e6058f5778b347858c2bf0f930e92bfc": {
          "model_module": "@jupyter-widgets/base",
          "model_name": "LayoutModel",
          "state": {
            "_view_name": "LayoutView",
            "grid_template_rows": null,
            "right": null,
            "justify_content": null,
            "_view_module": "@jupyter-widgets/base",
            "overflow": null,
            "_model_module_version": "1.2.0",
            "_view_count": null,
            "flex_flow": null,
            "width": null,
            "min_width": null,
            "border": null,
            "align_items": null,
            "bottom": null,
            "_model_module": "@jupyter-widgets/base",
            "top": null,
            "grid_column": null,
            "overflow_y": null,
            "overflow_x": null,
            "grid_auto_flow": null,
            "grid_area": null,
            "grid_template_columns": null,
            "flex": null,
            "_model_name": "LayoutModel",
            "justify_items": null,
            "grid_row": null,
            "max_height": null,
            "align_content": null,
            "visibility": null,
            "align_self": null,
            "height": null,
            "min_height": null,
            "padding": null,
            "grid_auto_rows": null,
            "grid_gap": null,
            "max_width": null,
            "order": null,
            "_view_module_version": "1.2.0",
            "grid_template_areas": null,
            "object_position": null,
            "object_fit": null,
            "grid_auto_columns": null,
            "margin": null,
            "display": null,
            "left": null
          }
        },
        "0e07c915ec7b4f5aae9f615d043c70ec": {
          "model_module": "@jupyter-widgets/controls",
          "model_name": "FloatProgressModel",
          "state": {
            "_view_name": "ProgressView",
            "style": "IPY_MODEL_f591af4808db464ab125c5a4473bb219",
            "_dom_classes": [],
            "description": "",
            "_model_name": "FloatProgressModel",
            "bar_style": "success",
            "max": 1,
            "_view_module": "@jupyter-widgets/controls",
            "_model_module_version": "1.5.0",
            "value": 1,
            "_view_count": null,
            "_view_module_version": "1.5.0",
            "orientation": "horizontal",
            "min": 0,
            "description_tooltip": null,
            "_model_module": "@jupyter-widgets/controls",
            "layout": "IPY_MODEL_be29c2e36c71407880dab76e97907fbc"
          }
        },
        "b758775654ee4276b5d7f5336e7735b5": {
          "model_module": "@jupyter-widgets/controls",
          "model_name": "HTMLModel",
          "state": {
            "_view_name": "HTMLView",
            "style": "IPY_MODEL_c4683023e86e45bbbf9cf3f83e9d6cf2",
            "_dom_classes": [],
            "description": "",
            "_model_name": "HTMLModel",
            "placeholder": "​",
            "_view_module": "@jupyter-widgets/controls",
            "_model_module_version": "1.5.0",
            "value": " 601/? [00:27&lt;00:00, 22.20it/s]",
            "_view_count": null,
            "_view_module_version": "1.5.0",
            "description_tooltip": null,
            "_model_module": "@jupyter-widgets/controls",
            "layout": "IPY_MODEL_0cb88a7c23e042bbace7627865cfb678"
          }
        },
        "f591af4808db464ab125c5a4473bb219": {
          "model_module": "@jupyter-widgets/controls",
          "model_name": "ProgressStyleModel",
          "state": {
            "_view_name": "StyleView",
            "_model_name": "ProgressStyleModel",
            "description_width": "initial",
            "_view_module": "@jupyter-widgets/base",
            "_model_module_version": "1.5.0",
            "_view_count": null,
            "_view_module_version": "1.2.0",
            "bar_color": null,
            "_model_module": "@jupyter-widgets/controls"
          }
        },
        "be29c2e36c71407880dab76e97907fbc": {
          "model_module": "@jupyter-widgets/base",
          "model_name": "LayoutModel",
          "state": {
            "_view_name": "LayoutView",
            "grid_template_rows": null,
            "right": null,
            "justify_content": null,
            "_view_module": "@jupyter-widgets/base",
            "overflow": null,
            "_model_module_version": "1.2.0",
            "_view_count": null,
            "flex_flow": null,
            "width": null,
            "min_width": null,
            "border": null,
            "align_items": null,
            "bottom": null,
            "_model_module": "@jupyter-widgets/base",
            "top": null,
            "grid_column": null,
            "overflow_y": null,
            "overflow_x": null,
            "grid_auto_flow": null,
            "grid_area": null,
            "grid_template_columns": null,
            "flex": null,
            "_model_name": "LayoutModel",
            "justify_items": null,
            "grid_row": null,
            "max_height": null,
            "align_content": null,
            "visibility": null,
            "align_self": null,
            "height": null,
            "min_height": null,
            "padding": null,
            "grid_auto_rows": null,
            "grid_gap": null,
            "max_width": null,
            "order": null,
            "_view_module_version": "1.2.0",
            "grid_template_areas": null,
            "object_position": null,
            "object_fit": null,
            "grid_auto_columns": null,
            "margin": null,
            "display": null,
            "left": null
          }
        },
        "c4683023e86e45bbbf9cf3f83e9d6cf2": {
          "model_module": "@jupyter-widgets/controls",
          "model_name": "DescriptionStyleModel",
          "state": {
            "_view_name": "StyleView",
            "_model_name": "DescriptionStyleModel",
            "description_width": "",
            "_view_module": "@jupyter-widgets/base",
            "_model_module_version": "1.5.0",
            "_view_count": null,
            "_view_module_version": "1.2.0",
            "_model_module": "@jupyter-widgets/controls"
          }
        },
        "0cb88a7c23e042bbace7627865cfb678": {
          "model_module": "@jupyter-widgets/base",
          "model_name": "LayoutModel",
          "state": {
            "_view_name": "LayoutView",
            "grid_template_rows": null,
            "right": null,
            "justify_content": null,
            "_view_module": "@jupyter-widgets/base",
            "overflow": null,
            "_model_module_version": "1.2.0",
            "_view_count": null,
            "flex_flow": null,
            "width": null,
            "min_width": null,
            "border": null,
            "align_items": null,
            "bottom": null,
            "_model_module": "@jupyter-widgets/base",
            "top": null,
            "grid_column": null,
            "overflow_y": null,
            "overflow_x": null,
            "grid_auto_flow": null,
            "grid_area": null,
            "grid_template_columns": null,
            "flex": null,
            "_model_name": "LayoutModel",
            "justify_items": null,
            "grid_row": null,
            "max_height": null,
            "align_content": null,
            "visibility": null,
            "align_self": null,
            "height": null,
            "min_height": null,
            "padding": null,
            "grid_auto_rows": null,
            "grid_gap": null,
            "max_width": null,
            "order": null,
            "_view_module_version": "1.2.0",
            "grid_template_areas": null,
            "object_position": null,
            "object_fit": null,
            "grid_auto_columns": null,
            "margin": null,
            "display": null,
            "left": null
          }
        }
      }
    }
  },
  "cells": [
    {
      "cell_type": "code",
      "metadata": {
        "id": "TPR00mwgzUY4"
      },
      "source": [
        "# Import Semua Fungsi\n",
        "import tensorflow as tf\n",
        "import pandas as pd\n",
        "import zipfile, os, shutil\n",
        "from tensorflow.keras import layers\n",
        "from sklearn.model_selection import train_test_split\n",
        "from tqdm.notebook import tqdm as tq\n",
        "from keras.preprocessing.image import ImageDataGenerator\n",
        "from tensorflow.keras.applications.inception_v3 import InceptionV3\n",
        "from tensorflow.keras.optimizers import RMSprop"
      ],
      "execution_count": 1,
      "outputs": []
    },
    {
      "cell_type": "code",
      "metadata": {
        "colab": {
          "base_uri": "https://localhost:8080/"
        },
        "id": "4NqDGqD9zVCE",
        "outputId": "cf20ab43-c18c-40c4-c8e9-f2d3ee1f5682"
      },
      "source": [
        "# Cek Versi Tensorflow\n",
        "print(tf.__version__)"
      ],
      "execution_count": 2,
      "outputs": [
        {
          "output_type": "stream",
          "text": [
            "2.5.0\n"
          ],
          "name": "stdout"
        }
      ]
    },
    {
      "cell_type": "code",
      "metadata": {
        "colab": {
          "base_uri": "https://localhost:8080/"
        },
        "id": "TSy35s6RzWkV",
        "outputId": "3552af01-94e4-4a52-bbc7-9dbabb23b7ed"
      },
      "source": [
        "# Download Dataset Katarak\n",
        "! KAGGLE_CONFIG_DIR=/content/ kaggle datasets download jr2ngb/cataractdataset\n",
        "! chmod 600 kaggle.json\n",
        "! ls ~/.kaggle 2>/dev/null || mkdir ~/.kaggle\n",
        "! mv kaggle.json ~/.kaggle\n",
        "! kaggle datasets download jr2ngb/cataractdataset"
      ],
      "execution_count": 3,
      "outputs": [
        {
          "output_type": "stream",
          "text": [
            "Warning: Your Kaggle API key is readable by other users on this system! To fix this, you can run 'chmod 600 /content/kaggle.json'\n",
            "Downloading cataractdataset.zip to /content\n",
            "100% 3.34G/3.34G [00:38<00:00, 49.8MB/s]\n",
            "100% 3.34G/3.34G [00:38<00:00, 92.8MB/s]\n",
            "cataractdataset.zip: Skipping, found more recently modified local copy (use --force to force download)\n"
          ],
          "name": "stdout"
        }
      ]
    },
    {
      "cell_type": "code",
      "metadata": {
        "colab": {
          "base_uri": "https://localhost:8080/"
        },
        "id": "mQO2p7PvzYkh",
        "outputId": "63136093-b231-49c0-ae19-a9f398fbbddb"
      },
      "source": [
        "# Proses Ekstrak Dataset\n",
        "with zipfile.ZipFile('cataractdataset.zip','r') as z:\n",
        "  z.extractall('./')\n",
        "\n",
        "os.listdir()"
      ],
      "execution_count": 4,
      "outputs": [
        {
          "output_type": "execute_result",
          "data": {
            "text/plain": [
              "['.config',\n",
              " 'repository',\n",
              " 'cataractdataset.zip',\n",
              " 'README.md',\n",
              " 'dataset',\n",
              " 'sample_data']"
            ]
          },
          "metadata": {
            "tags": []
          },
          "execution_count": 4
        }
      ]
    },
    {
      "cell_type": "code",
      "metadata": {
        "id": "aZPxJTIqBAbB"
      },
      "source": [
        "# Hapus Direktori yang Tidak Digunakan\n",
        "dir_path = '/content/repository'\n",
        "\n",
        "shutil.rmtree(dir_path)"
      ],
      "execution_count": 5,
      "outputs": []
    },
    {
      "cell_type": "code",
      "metadata": {
        "id": "Safphv6wzcsN"
      },
      "source": [
        "base_dir = '/content/dataset'\n",
        "\n",
        "file_name = []\n",
        "tag = []\n",
        "full_path = []\n",
        "for path, subdirs, files in os.walk(base_dir):\n",
        "    for name in files:\n",
        "        full_path.append(os.path.join(path, name)) \n",
        "        tag.append(path.split('/')[-1])        \n",
        "        file_name.append(name)"
      ],
      "execution_count": 6,
      "outputs": []
    },
    {
      "cell_type": "code",
      "metadata": {
        "id": "9d-7bu-9zjXB"
      },
      "source": [
        "# Menerapkan Fungsi Callback\n",
        "class myCallback(tf.keras.callbacks.Callback):\n",
        "    def on_epoch_end(self, epoch, logs={}):\n",
        "        if(logs.get('accuracy')>0.75 and logs.get('val_accuracy')>0.75):\n",
        "            print(\"\\nAkurasi telah mencapai lebih dari 75%, proses dihentikan!\")\n",
        "            self.model.stop_training = True"
      ],
      "execution_count": 7,
      "outputs": []
    },
    {
      "cell_type": "code",
      "metadata": {
        "colab": {
          "base_uri": "https://localhost:8080/",
          "height": 366
        },
        "id": "JRYFCF9TzlAt",
        "outputId": "cbf9deee-c1d0-48eb-e809-761124dadad4"
      },
      "source": [
        "# Proses Split Dataset\n",
        "df = pd.DataFrame({\"path\":full_path,'file_name':file_name,\"tag\":tag})\n",
        "df.groupby(['tag']).size()\n",
        "\n",
        "X = df['path']\n",
        "y = df['tag']\n",
        "\n",
        "X_train, X_val, y_train, y_val = train_test_split(X, y, test_size=0.1, random_state=300)\n",
        "\n",
        "df_tr = pd.DataFrame({'path':X_train, 'tag':y_train, 'set':'train'})\n",
        "df_val = pd.DataFrame({'path':X_val, 'tag':y_val, 'set':'validation'})\n",
        "\n",
        "print('train size', len(df_tr))\n",
        "print('val size', len(df_val))\n",
        "\n",
        "df_all = df_tr.append([df_val]).reset_index(drop=1)\n",
        "print(df_all.groupby(['set','tag']).size(),'\\n')\n",
        "\n",
        "df_all.sample(3)"
      ],
      "execution_count": 8,
      "outputs": [
        {
          "output_type": "stream",
          "text": [
            "train size 540\n",
            "val size 61\n",
            "set         tag             \n",
            "train       1_normal            268\n",
            "            2_cataract           92\n",
            "            2_glaucoma           89\n",
            "            3_retina_disease     91\n",
            "validation  1_normal             32\n",
            "            2_cataract            8\n",
            "            2_glaucoma           12\n",
            "            3_retina_disease      9\n",
            "dtype: int64 \n",
            "\n"
          ],
          "name": "stdout"
        },
        {
          "output_type": "execute_result",
          "data": {
            "text/html": [
              "<div>\n",
              "<style scoped>\n",
              "    .dataframe tbody tr th:only-of-type {\n",
              "        vertical-align: middle;\n",
              "    }\n",
              "\n",
              "    .dataframe tbody tr th {\n",
              "        vertical-align: top;\n",
              "    }\n",
              "\n",
              "    .dataframe thead th {\n",
              "        text-align: right;\n",
              "    }\n",
              "</style>\n",
              "<table border=\"1\" class=\"dataframe\">\n",
              "  <thead>\n",
              "    <tr style=\"text-align: right;\">\n",
              "      <th></th>\n",
              "      <th>path</th>\n",
              "      <th>tag</th>\n",
              "      <th>set</th>\n",
              "    </tr>\n",
              "  </thead>\n",
              "  <tbody>\n",
              "    <tr>\n",
              "      <th>532</th>\n",
              "      <td>/content/dataset/3_retina_disease/Retina_060.png</td>\n",
              "      <td>3_retina_disease</td>\n",
              "      <td>train</td>\n",
              "    </tr>\n",
              "    <tr>\n",
              "      <th>568</th>\n",
              "      <td>/content/dataset/1_normal/NL_166.png</td>\n",
              "      <td>1_normal</td>\n",
              "      <td>validation</td>\n",
              "    </tr>\n",
              "    <tr>\n",
              "      <th>87</th>\n",
              "      <td>/content/dataset/1_normal/NL_081.png</td>\n",
              "      <td>1_normal</td>\n",
              "      <td>train</td>\n",
              "    </tr>\n",
              "  </tbody>\n",
              "</table>\n",
              "</div>"
            ],
            "text/plain": [
              "                                                 path  ...         set\n",
              "532  /content/dataset/3_retina_disease/Retina_060.png  ...       train\n",
              "568              /content/dataset/1_normal/NL_166.png  ...  validation\n",
              "87               /content/dataset/1_normal/NL_081.png  ...       train\n",
              "\n",
              "[3 rows x 3 columns]"
            ]
          },
          "metadata": {
            "tags": []
          },
          "execution_count": 8
        }
      ]
    },
    {
      "cell_type": "code",
      "metadata": {
        "colab": {
          "base_uri": "https://localhost:8080/",
          "height": 67,
          "referenced_widgets": [
            "316c6190edb641488929e6d0d660414d",
            "e6058f5778b347858c2bf0f930e92bfc",
            "0e07c915ec7b4f5aae9f615d043c70ec",
            "b758775654ee4276b5d7f5336e7735b5",
            "f591af4808db464ab125c5a4473bb219",
            "be29c2e36c71407880dab76e97907fbc",
            "c4683023e86e45bbbf9cf3f83e9d6cf2",
            "0cb88a7c23e042bbace7627865cfb678"
          ]
        },
        "id": "f1F1FczDzmmp",
        "outputId": "95ffabe7-b018-4c19-9098-c769943e52e5"
      },
      "source": [
        "datasource_path = base_dir\n",
        "dataset_path = \"content/dataset/dataset/\"\n",
        "\n",
        "for index, row in tq(df_all.iterrows()):\n",
        "    \n",
        "    # Deteksi path\n",
        "    file_path = row['path']            \n",
        "    if os.path.exists(file_path) == False:\n",
        "            file_path = os.path.join(datasource_path,row['tag'],row['image'].split('.')[0])  \n",
        "    \n",
        "    # Membuat direktori tujuan\n",
        "    if os.path.exists(os.path.join(dataset_path,row['set'],row['tag'])) == False:\n",
        "        os.makedirs(os.path.join(dataset_path,row['set'],row['tag']))\n",
        "    \n",
        "    # Mendefinisikan variable dest\n",
        "    destination_file_name = file_path.split('/')[-1]\n",
        "    file_dest = os.path.join(dataset_path,row['set'],row['tag'],destination_file_name)\n",
        "    \n",
        "    # copy file dari direktori source ke direktori dest\n",
        "    if os.path.exists(file_dest) == False:\n",
        "        shutil.copy2(file_path,file_dest)"
      ],
      "execution_count": 9,
      "outputs": [
        {
          "output_type": "display_data",
          "data": {
            "application/vnd.jupyter.widget-view+json": {
              "model_id": "316c6190edb641488929e6d0d660414d",
              "version_minor": 0,
              "version_major": 2
            },
            "text/plain": [
              "HBox(children=(FloatProgress(value=1.0, bar_style='info', max=1.0), HTML(value='')))"
            ]
          },
          "metadata": {
            "tags": []
          }
        },
        {
          "output_type": "stream",
          "text": [
            "\n"
          ],
          "name": "stdout"
        }
      ]
    },
    {
      "cell_type": "code",
      "metadata": {
        "colab": {
          "base_uri": "https://localhost:8080/"
        },
        "id": "VV2Z-6DrzoeR",
        "outputId": "891612a0-901c-443f-8df0-b891c8dc7ee0"
      },
      "source": [
        "# Image Augmentation\n",
        "train_dir = \"content/dataset/dataset/train\"\n",
        "val_dir = \"content/dataset/dataset/validation\"\n",
        "\n",
        "train_datagen = ImageDataGenerator(\n",
        "                  rescale=1./255,\n",
        "                  rotation_range=40,\n",
        "                  vertical_flip=True,\n",
        "                  shear_range = 0.2,\n",
        "                  zoom_range=0.2,\n",
        "                  fill_mode = 'nearest')\n",
        "\n",
        "val_datagen = ImageDataGenerator(\n",
        "                  rescale=1./255,\n",
        "                  rotation_range=40,\n",
        "                  vertical_flip=True,\n",
        "                  shear_range = 0.2,\n",
        "                  zoom_range=0.2,\n",
        "                  fill_mode = 'nearest')\n",
        "\n",
        "train_generator = train_datagen.flow_from_directory(\n",
        "        train_dir,  # direktori data latih\n",
        "        target_size=(150,150),          \n",
        "        class_mode='categorical')\n",
        " \n",
        "validation_generator = val_datagen.flow_from_directory(\n",
        "        val_dir, # direktori data validasi\n",
        "        target_size=(150, 150), \n",
        "        class_mode='categorical')"
      ],
      "execution_count": 10,
      "outputs": [
        {
          "output_type": "stream",
          "text": [
            "Found 540 images belonging to 4 classes.\n",
            "Found 61 images belonging to 4 classes.\n"
          ],
          "name": "stdout"
        }
      ]
    },
    {
      "cell_type": "code",
      "metadata": {
        "id": "Y9WI8Zg90Bcl",
        "colab": {
          "base_uri": "https://localhost:8080/"
        },
        "outputId": "fec1ecd4-c037-4c6c-c692-4fd73bce7b46"
      },
      "source": [
        "base_model = InceptionV3(input_shape = (150, 150, 3), include_top = False, weights = 'imagenet')"
      ],
      "execution_count": 11,
      "outputs": [
        {
          "output_type": "stream",
          "text": [
            "Downloading data from https://storage.googleapis.com/tensorflow/keras-applications/inception_v3/inception_v3_weights_tf_dim_ordering_tf_kernels_notop.h5\n",
            "87916544/87910968 [==============================] - 1s 0us/step\n"
          ],
          "name": "stdout"
        }
      ]
    },
    {
      "cell_type": "code",
      "metadata": {
        "id": "SkZ8fER40Ewc"
      },
      "source": [
        "for layer in base_model.layers:\n",
        "    layer.trainable = False"
      ],
      "execution_count": 12,
      "outputs": []
    },
    {
      "cell_type": "code",
      "metadata": {
        "id": "JGTSvY7r0HiK"
      },
      "source": [
        "x = layers.Flatten()(base_model.output)\n",
        "x = layers.Dense(1024, activation='relu')(x)\n",
        "x = layers.Dropout(0.2)(x)\n",
        "x = layers.Dense(4, activation='sigmoid')(x)\n",
        "\n",
        "model = tf.keras.models.Model(base_model.input, x)\n",
        "\n",
        "model.compile(optimizer = RMSprop(learning_rate=0.0001), loss = 'categorical_crossentropy', metrics = ['accuracy'])"
      ],
      "execution_count": 13,
      "outputs": []
    },
    {
      "cell_type": "code",
      "metadata": {
        "colab": {
          "base_uri": "https://localhost:8080/"
        },
        "id": "7Bl1toEo0KKh",
        "outputId": "d08a0991-8839-4a9c-d7bf-31e1c80e1b82"
      },
      "source": [
        "history = model.fit(train_generator, validation_data = validation_generator, steps_per_epoch = 15, epochs = 30)"
      ],
      "execution_count": 16,
      "outputs": [
        {
          "output_type": "stream",
          "text": [
            "Epoch 1/30\n",
            "15/15 [==============================] - 77s 5s/step - loss: 2.7211 - accuracy: 0.4055 - val_loss: 1.6717 - val_accuracy: 0.4918\n",
            "Epoch 2/30\n",
            "15/15 [==============================] - 73s 5s/step - loss: 1.8044 - accuracy: 0.5189 - val_loss: 1.6251 - val_accuracy: 0.5574\n",
            "Epoch 3/30\n",
            "15/15 [==============================] - 74s 5s/step - loss: 2.2846 - accuracy: 0.4771 - val_loss: 1.5270 - val_accuracy: 0.4918\n",
            "Epoch 4/30\n",
            "15/15 [==============================] - 73s 5s/step - loss: 2.0445 - accuracy: 0.4454 - val_loss: 1.2347 - val_accuracy: 0.6066\n",
            "Epoch 5/30\n",
            "15/15 [==============================] - 73s 5s/step - loss: 1.7514 - accuracy: 0.4685 - val_loss: 1.0914 - val_accuracy: 0.6230\n",
            "Epoch 6/30\n",
            "15/15 [==============================] - 74s 5s/step - loss: 1.3794 - accuracy: 0.5210 - val_loss: 1.2110 - val_accuracy: 0.6066\n",
            "Epoch 7/30\n",
            "15/15 [==============================] - 74s 5s/step - loss: 1.3768 - accuracy: 0.5208 - val_loss: 1.0716 - val_accuracy: 0.5410\n",
            "Epoch 8/30\n",
            "15/15 [==============================] - 73s 5s/step - loss: 1.2775 - accuracy: 0.4874 - val_loss: 1.0152 - val_accuracy: 0.5738\n",
            "Epoch 9/30\n",
            "15/15 [==============================] - 74s 5s/step - loss: 1.1037 - accuracy: 0.5714 - val_loss: 1.0853 - val_accuracy: 0.5082\n",
            "Epoch 10/30\n",
            "15/15 [==============================] - 73s 5s/step - loss: 1.0752 - accuracy: 0.5840 - val_loss: 0.9683 - val_accuracy: 0.5574\n",
            "Epoch 11/30\n",
            "15/15 [==============================] - 73s 5s/step - loss: 1.0093 - accuracy: 0.5840 - val_loss: 1.0453 - val_accuracy: 0.6230\n",
            "Epoch 12/30\n",
            "15/15 [==============================] - 73s 5s/step - loss: 1.0645 - accuracy: 0.5630 - val_loss: 0.9994 - val_accuracy: 0.5738\n",
            "Epoch 13/30\n",
            "15/15 [==============================] - 74s 5s/step - loss: 1.1344 - accuracy: 0.5525 - val_loss: 1.0605 - val_accuracy: 0.6066\n",
            "Epoch 14/30\n",
            "15/15 [==============================] - 73s 5s/step - loss: 1.0673 - accuracy: 0.5693 - val_loss: 1.0531 - val_accuracy: 0.4590\n",
            "Epoch 15/30\n",
            "15/15 [==============================] - 74s 5s/step - loss: 0.9464 - accuracy: 0.6282 - val_loss: 1.0080 - val_accuracy: 0.6557\n",
            "Epoch 16/30\n",
            "15/15 [==============================] - 74s 5s/step - loss: 1.0208 - accuracy: 0.5840 - val_loss: 1.3434 - val_accuracy: 0.6066\n",
            "Epoch 17/30\n",
            "15/15 [==============================] - 74s 5s/step - loss: 0.9346 - accuracy: 0.6303 - val_loss: 1.2142 - val_accuracy: 0.6393\n",
            "Epoch 18/30\n",
            "15/15 [==============================] - 74s 5s/step - loss: 1.0306 - accuracy: 0.5861 - val_loss: 1.2883 - val_accuracy: 0.3770\n",
            "Epoch 19/30\n",
            "15/15 [==============================] - 73s 5s/step - loss: 0.9308 - accuracy: 0.6092 - val_loss: 1.2409 - val_accuracy: 0.4098\n",
            "Epoch 20/30\n",
            "15/15 [==============================] - 73s 5s/step - loss: 0.9085 - accuracy: 0.6555 - val_loss: 1.2497 - val_accuracy: 0.4918\n",
            "Epoch 21/30\n",
            "15/15 [==============================] - 74s 5s/step - loss: 0.9445 - accuracy: 0.6083 - val_loss: 1.0428 - val_accuracy: 0.5738\n",
            "Epoch 22/30\n",
            "15/15 [==============================] - 74s 5s/step - loss: 0.9415 - accuracy: 0.6218 - val_loss: 1.3134 - val_accuracy: 0.3770\n",
            "Epoch 23/30\n",
            "15/15 [==============================] - 74s 5s/step - loss: 0.9726 - accuracy: 0.6042 - val_loss: 0.8056 - val_accuracy: 0.7213\n",
            "Epoch 24/30\n",
            "15/15 [==============================] - 73s 5s/step - loss: 0.8915 - accuracy: 0.6387 - val_loss: 1.0140 - val_accuracy: 0.6721\n",
            "Epoch 25/30\n",
            "15/15 [==============================] - 74s 5s/step - loss: 0.9718 - accuracy: 0.6176 - val_loss: 0.9711 - val_accuracy: 0.5574\n",
            "Epoch 26/30\n",
            "15/15 [==============================] - 74s 5s/step - loss: 0.9499 - accuracy: 0.6366 - val_loss: 0.9828 - val_accuracy: 0.6557\n",
            "Epoch 27/30\n",
            "15/15 [==============================] - 74s 5s/step - loss: 0.9044 - accuracy: 0.6197 - val_loss: 1.1161 - val_accuracy: 0.5082\n",
            "Epoch 28/30\n",
            "15/15 [==============================] - 74s 5s/step - loss: 0.8826 - accuracy: 0.6660 - val_loss: 0.9788 - val_accuracy: 0.6721\n",
            "Epoch 29/30\n",
            "15/15 [==============================] - 73s 5s/step - loss: 0.9009 - accuracy: 0.6197 - val_loss: 1.2523 - val_accuracy: 0.6393\n",
            "Epoch 30/30\n",
            "15/15 [==============================] - 73s 5s/step - loss: 0.8842 - accuracy: 0.6681 - val_loss: 1.0647 - val_accuracy: 0.4426\n"
          ],
          "name": "stdout"
        }
      ]
    }
  ]
}