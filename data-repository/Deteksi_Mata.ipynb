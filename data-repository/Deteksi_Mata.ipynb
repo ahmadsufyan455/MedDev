{
  "nbformat": 4,
  "nbformat_minor": 0,
  "metadata": {
    "colab": {
      "name": "Deteksi_Mata.ipynb",
      "provenance": [],
      "collapsed_sections": []
    },
    "kernelspec": {
      "display_name": "Python 3",
      "name": "python3"
    },
    "language_info": {
      "name": "python"
    },
    "widgets": {
      "application/vnd.jupyter.widget-state+json": {
        "ed3c6f8588a14738a50025daf4b65f82": {
          "model_module": "@jupyter-widgets/controls",
          "model_name": "HBoxModel",
          "state": {
            "_view_name": "HBoxView",
            "_dom_classes": [],
            "_model_name": "HBoxModel",
            "_view_module": "@jupyter-widgets/controls",
            "_model_module_version": "1.5.0",
            "_view_count": null,
            "_view_module_version": "1.5.0",
            "box_style": "",
            "layout": "IPY_MODEL_7d6a6a3ff4ef427797c46bd4e7c3b496",
            "_model_module": "@jupyter-widgets/controls",
            "children": [
              "IPY_MODEL_b4e5613c7d7545b9a3cd3e76a30b88a7",
              "IPY_MODEL_cde5a576ee86433fb6587e7d97a9f3dc"
            ]
          }
        },
        "7d6a6a3ff4ef427797c46bd4e7c3b496": {
          "model_module": "@jupyter-widgets/base",
          "model_name": "LayoutModel",
          "state": {
            "_view_name": "LayoutView",
            "grid_template_rows": null,
            "right": null,
            "justify_content": null,
            "_view_module": "@jupyter-widgets/base",
            "overflow": null,
            "_model_module_version": "1.2.0",
            "_view_count": null,
            "flex_flow": null,
            "width": null,
            "min_width": null,
            "border": null,
            "align_items": null,
            "bottom": null,
            "_model_module": "@jupyter-widgets/base",
            "top": null,
            "grid_column": null,
            "overflow_y": null,
            "overflow_x": null,
            "grid_auto_flow": null,
            "grid_area": null,
            "grid_template_columns": null,
            "flex": null,
            "_model_name": "LayoutModel",
            "justify_items": null,
            "grid_row": null,
            "max_height": null,
            "align_content": null,
            "visibility": null,
            "align_self": null,
            "height": null,
            "min_height": null,
            "padding": null,
            "grid_auto_rows": null,
            "grid_gap": null,
            "max_width": null,
            "order": null,
            "_view_module_version": "1.2.0",
            "grid_template_areas": null,
            "object_position": null,
            "object_fit": null,
            "grid_auto_columns": null,
            "margin": null,
            "display": null,
            "left": null
          }
        },
        "b4e5613c7d7545b9a3cd3e76a30b88a7": {
          "model_module": "@jupyter-widgets/controls",
          "model_name": "FloatProgressModel",
          "state": {
            "_view_name": "ProgressView",
            "style": "IPY_MODEL_5c1d97510ba44ef6984366293fe55ce2",
            "_dom_classes": [],
            "description": "",
            "_model_name": "FloatProgressModel",
            "bar_style": "success",
            "max": 1,
            "_view_module": "@jupyter-widgets/controls",
            "_model_module_version": "1.5.0",
            "value": 1,
            "_view_count": null,
            "_view_module_version": "1.5.0",
            "orientation": "horizontal",
            "min": 0,
            "description_tooltip": null,
            "_model_module": "@jupyter-widgets/controls",
            "layout": "IPY_MODEL_4f146f352ed1483b9a26efcb73a4864a"
          }
        },
        "cde5a576ee86433fb6587e7d97a9f3dc": {
          "model_module": "@jupyter-widgets/controls",
          "model_name": "HTMLModel",
          "state": {
            "_view_name": "HTMLView",
            "style": "IPY_MODEL_1b1a5088917e4f41b5a9a37833920e97",
            "_dom_classes": [],
            "description": "",
            "_model_name": "HTMLModel",
            "placeholder": "​",
            "_view_module": "@jupyter-widgets/controls",
            "_model_module_version": "1.5.0",
            "value": " 601/? [00:25&lt;00:00, 23.37it/s]",
            "_view_count": null,
            "_view_module_version": "1.5.0",
            "description_tooltip": null,
            "_model_module": "@jupyter-widgets/controls",
            "layout": "IPY_MODEL_feea07da102c4253b52cef6ccf54e126"
          }
        },
        "5c1d97510ba44ef6984366293fe55ce2": {
          "model_module": "@jupyter-widgets/controls",
          "model_name": "ProgressStyleModel",
          "state": {
            "_view_name": "StyleView",
            "_model_name": "ProgressStyleModel",
            "description_width": "initial",
            "_view_module": "@jupyter-widgets/base",
            "_model_module_version": "1.5.0",
            "_view_count": null,
            "_view_module_version": "1.2.0",
            "bar_color": null,
            "_model_module": "@jupyter-widgets/controls"
          }
        },
        "4f146f352ed1483b9a26efcb73a4864a": {
          "model_module": "@jupyter-widgets/base",
          "model_name": "LayoutModel",
          "state": {
            "_view_name": "LayoutView",
            "grid_template_rows": null,
            "right": null,
            "justify_content": null,
            "_view_module": "@jupyter-widgets/base",
            "overflow": null,
            "_model_module_version": "1.2.0",
            "_view_count": null,
            "flex_flow": null,
            "width": null,
            "min_width": null,
            "border": null,
            "align_items": null,
            "bottom": null,
            "_model_module": "@jupyter-widgets/base",
            "top": null,
            "grid_column": null,
            "overflow_y": null,
            "overflow_x": null,
            "grid_auto_flow": null,
            "grid_area": null,
            "grid_template_columns": null,
            "flex": null,
            "_model_name": "LayoutModel",
            "justify_items": null,
            "grid_row": null,
            "max_height": null,
            "align_content": null,
            "visibility": null,
            "align_self": null,
            "height": null,
            "min_height": null,
            "padding": null,
            "grid_auto_rows": null,
            "grid_gap": null,
            "max_width": null,
            "order": null,
            "_view_module_version": "1.2.0",
            "grid_template_areas": null,
            "object_position": null,
            "object_fit": null,
            "grid_auto_columns": null,
            "margin": null,
            "display": null,
            "left": null
          }
        },
        "1b1a5088917e4f41b5a9a37833920e97": {
          "model_module": "@jupyter-widgets/controls",
          "model_name": "DescriptionStyleModel",
          "state": {
            "_view_name": "StyleView",
            "_model_name": "DescriptionStyleModel",
            "description_width": "",
            "_view_module": "@jupyter-widgets/base",
            "_model_module_version": "1.5.0",
            "_view_count": null,
            "_view_module_version": "1.2.0",
            "_model_module": "@jupyter-widgets/controls"
          }
        },
        "feea07da102c4253b52cef6ccf54e126": {
          "model_module": "@jupyter-widgets/base",
          "model_name": "LayoutModel",
          "state": {
            "_view_name": "LayoutView",
            "grid_template_rows": null,
            "right": null,
            "justify_content": null,
            "_view_module": "@jupyter-widgets/base",
            "overflow": null,
            "_model_module_version": "1.2.0",
            "_view_count": null,
            "flex_flow": null,
            "width": null,
            "min_width": null,
            "border": null,
            "align_items": null,
            "bottom": null,
            "_model_module": "@jupyter-widgets/base",
            "top": null,
            "grid_column": null,
            "overflow_y": null,
            "overflow_x": null,
            "grid_auto_flow": null,
            "grid_area": null,
            "grid_template_columns": null,
            "flex": null,
            "_model_name": "LayoutModel",
            "justify_items": null,
            "grid_row": null,
            "max_height": null,
            "align_content": null,
            "visibility": null,
            "align_self": null,
            "height": null,
            "min_height": null,
            "padding": null,
            "grid_auto_rows": null,
            "grid_gap": null,
            "max_width": null,
            "order": null,
            "_view_module_version": "1.2.0",
            "grid_template_areas": null,
            "object_position": null,
            "object_fit": null,
            "grid_auto_columns": null,
            "margin": null,
            "display": null,
            "left": null
          }
        }
      }
    }
  },
  "cells": [
    {
      "cell_type": "code",
      "metadata": {
        "id": "1RCVsxwPBSIn"
      },
      "source": [
        "# Import Semua Fungsi\n",
        "import tensorflow as tf\n",
        "import pandas as pd\n",
        "import zipfile, os, shutil\n",
        "from sklearn.model_selection import train_test_split\n",
        "from tqdm.notebook import tqdm as tq\n",
        "from keras.preprocessing.image import ImageDataGenerator"
      ],
      "execution_count": 1,
      "outputs": []
    },
    {
      "cell_type": "code",
      "metadata": {
        "colab": {
          "base_uri": "https://localhost:8080/"
        },
        "id": "zCphn8iOA5Ru",
        "outputId": "3385f9ae-1e18-4bbc-df97-a584f1d1a01b"
      },
      "source": [
        "# Cek Versi Tensorflow\n",
        "print(tf.__version__)"
      ],
      "execution_count": 2,
      "outputs": [
        {
          "output_type": "stream",
          "text": [
            "2.5.0\n"
          ],
          "name": "stdout"
        }
      ]
    },
    {
      "cell_type": "code",
      "metadata": {
        "colab": {
          "base_uri": "https://localhost:8080/"
        },
        "id": "BwLpG53rA7uW",
        "outputId": "a7746fba-018d-4bd7-9317-53483d17e3dc"
      },
      "source": [
        "# Download Dataset Katarak\n",
        "! KAGGLE_CONFIG_DIR=/content/ kaggle datasets download jr2ngb/cataractdataset\n",
        "! chmod 600 kaggle.json\n",
        "! ls ~/.kaggle 2>/dev/null || mkdir ~/.kaggle\n",
        "! mv kaggle.json ~/.kaggle\n",
        "! kaggle datasets download jr2ngb/cataractdataset"
      ],
      "execution_count": 3,
      "outputs": [
        {
          "output_type": "stream",
          "text": [
            "Warning: Your Kaggle API key is readable by other users on this system! To fix this, you can run 'chmod 600 /content/kaggle.json'\n",
            "Downloading cataractdataset.zip to /content\n",
            "100% 3.34G/3.34G [00:42<00:00, 32.2MB/s]\n",
            "100% 3.34G/3.34G [00:42<00:00, 85.2MB/s]\n",
            "cataractdataset.zip: Skipping, found more recently modified local copy (use --force to force download)\n"
          ],
          "name": "stdout"
        }
      ]
    },
    {
      "cell_type": "code",
      "metadata": {
        "colab": {
          "base_uri": "https://localhost:8080/"
        },
        "id": "xm225cGlA9cw",
        "outputId": "0f59c0d7-9254-4913-eb22-294b38d97fcf"
      },
      "source": [
        "# Proses Ekstrak Dataset\n",
        "with zipfile.ZipFile('cataractdataset.zip','r') as z:\n",
        "  z.extractall('./')\n",
        "\n",
        "os.listdir()"
      ],
      "execution_count": 4,
      "outputs": [
        {
          "output_type": "execute_result",
          "data": {
            "text/plain": [
              "['.config',\n",
              " 'repository',\n",
              " 'cataractdataset.zip',\n",
              " 'README.md',\n",
              " 'dataset',\n",
              " 'sample_data']"
            ]
          },
          "metadata": {
            "tags": []
          },
          "execution_count": 4
        }
      ]
    },
    {
      "cell_type": "code",
      "metadata": {
        "id": "gNafB3bQA_YC"
      },
      "source": [
        "# Hapus Direktori yang Tidak Digunakan\n",
        "dir_path = '/content/repository'\n",
        "\n",
        "shutil.rmtree(dir_path)"
      ],
      "execution_count": 5,
      "outputs": []
    },
    {
      "cell_type": "code",
      "metadata": {
        "id": "C2wSsq7FBBiX"
      },
      "source": [
        "base_dir = '/content/dataset'\n",
        "\n",
        "file_name = []\n",
        "tag = []\n",
        "full_path = []\n",
        "for path, subdirs, files in os.walk(base_dir):\n",
        "    for name in files:\n",
        "        full_path.append(os.path.join(path, name)) \n",
        "        tag.append(path.split('/')[-1])        \n",
        "        file_name.append(name)"
      ],
      "execution_count": 6,
      "outputs": []
    },
    {
      "cell_type": "code",
      "metadata": {
        "id": "v7Ac6AwbBECy"
      },
      "source": [
        "# Menerapkan Fungsi Callback\n",
        "class myCallback(tf.keras.callbacks.Callback):\n",
        "    def on_epoch_end(self, epoch, logs={}):\n",
        "        if(logs.get('accuracy')>0.75 and logs.get('val_accuracy')>0.75):\n",
        "            print(\"\\nAkurasi telah mencapai lebih dari 75%, proses dihentikan!\")\n",
        "            self.model.stop_training = True"
      ],
      "execution_count": 7,
      "outputs": []
    },
    {
      "cell_type": "code",
      "metadata": {
        "colab": {
          "base_uri": "https://localhost:8080/",
          "height": 369
        },
        "id": "gejA7ed8BJvH",
        "outputId": "1a450c8d-c49a-455d-c3d1-00522afc3d26"
      },
      "source": [
        "# Proses Split Dataset\n",
        "df = pd.DataFrame({\"path\":full_path,'file_name':file_name,\"tag\":tag})\n",
        "df.groupby(['tag']).size()\n",
        "\n",
        "X = df['path']\n",
        "y = df['tag']\n",
        "\n",
        "X_train, X_val, y_train, y_val = train_test_split(X, y, test_size=0.1, random_state=300)\n",
        "\n",
        "df_tr = pd.DataFrame({'path':X_train, 'tag':y_train, 'set':'train'})\n",
        "df_val = pd.DataFrame({'path':X_val, 'tag':y_val, 'set':'validation'})\n",
        "\n",
        "print('train size', len(df_tr))\n",
        "print('val size', len(df_val))\n",
        "\n",
        "df_all = df_tr.append([df_val]).reset_index(drop=1)\n",
        "print(df_all.groupby(['set','tag']).size(),'\\n')\n",
        "\n",
        "df_all.sample(3)"
      ],
      "execution_count": 8,
      "outputs": [
        {
          "output_type": "stream",
          "text": [
            "train size 540\n",
            "val size 61\n",
            "set         tag             \n",
            "train       1_normal            268\n",
            "            2_cataract           92\n",
            "            2_glaucoma           89\n",
            "            3_retina_disease     91\n",
            "validation  1_normal             32\n",
            "            2_cataract            8\n",
            "            2_glaucoma           12\n",
            "            3_retina_disease      9\n",
            "dtype: int64 \n",
            "\n"
          ],
          "name": "stdout"
        },
        {
          "output_type": "execute_result",
          "data": {
            "text/html": [
              "<div>\n",
              "<style scoped>\n",
              "    .dataframe tbody tr th:only-of-type {\n",
              "        vertical-align: middle;\n",
              "    }\n",
              "\n",
              "    .dataframe tbody tr th {\n",
              "        vertical-align: top;\n",
              "    }\n",
              "\n",
              "    .dataframe thead th {\n",
              "        text-align: right;\n",
              "    }\n",
              "</style>\n",
              "<table border=\"1\" class=\"dataframe\">\n",
              "  <thead>\n",
              "    <tr style=\"text-align: right;\">\n",
              "      <th></th>\n",
              "      <th>path</th>\n",
              "      <th>tag</th>\n",
              "      <th>set</th>\n",
              "    </tr>\n",
              "  </thead>\n",
              "  <tbody>\n",
              "    <tr>\n",
              "      <th>560</th>\n",
              "      <td>/content/dataset/2_cataract/cataract_044.png</td>\n",
              "      <td>2_cataract</td>\n",
              "      <td>validation</td>\n",
              "    </tr>\n",
              "    <tr>\n",
              "      <th>99</th>\n",
              "      <td>/content/dataset/2_cataract/cataract_004.png</td>\n",
              "      <td>2_cataract</td>\n",
              "      <td>train</td>\n",
              "    </tr>\n",
              "    <tr>\n",
              "      <th>464</th>\n",
              "      <td>/content/dataset/2_glaucoma/Glaucoma_039.png</td>\n",
              "      <td>2_glaucoma</td>\n",
              "      <td>train</td>\n",
              "    </tr>\n",
              "  </tbody>\n",
              "</table>\n",
              "</div>"
            ],
            "text/plain": [
              "                                             path         tag         set\n",
              "560  /content/dataset/2_cataract/cataract_044.png  2_cataract  validation\n",
              "99   /content/dataset/2_cataract/cataract_004.png  2_cataract       train\n",
              "464  /content/dataset/2_glaucoma/Glaucoma_039.png  2_glaucoma       train"
            ]
          },
          "metadata": {
            "tags": []
          },
          "execution_count": 8
        }
      ]
    },
    {
      "cell_type": "code",
      "metadata": {
        "colab": {
          "base_uri": "https://localhost:8080/",
          "height": 67,
          "referenced_widgets": [
            "ed3c6f8588a14738a50025daf4b65f82",
            "7d6a6a3ff4ef427797c46bd4e7c3b496",
            "b4e5613c7d7545b9a3cd3e76a30b88a7",
            "cde5a576ee86433fb6587e7d97a9f3dc",
            "5c1d97510ba44ef6984366293fe55ce2",
            "4f146f352ed1483b9a26efcb73a4864a",
            "1b1a5088917e4f41b5a9a37833920e97",
            "feea07da102c4253b52cef6ccf54e126"
          ]
        },
        "id": "Uhs6p3FVBMY8",
        "outputId": "f101e41e-9326-4369-8dca-325932a49bbb"
      },
      "source": [
        "datasource_path = base_dir\n",
        "dataset_path = \"content/dataset/dataset/\"\n",
        "\n",
        "for index, row in tq(df_all.iterrows()):\n",
        "    \n",
        "    # Deteksi path\n",
        "    file_path = row['path']            \n",
        "    if os.path.exists(file_path) == False:\n",
        "            file_path = os.path.join(datasource_path,row['tag'],row['image'].split('.')[0])  \n",
        "    \n",
        "    # Membuat direktori tujuan\n",
        "    if os.path.exists(os.path.join(dataset_path,row['set'],row['tag'])) == False:\n",
        "        os.makedirs(os.path.join(dataset_path,row['set'],row['tag']))\n",
        "    \n",
        "    # Mendefinisikan variable dest\n",
        "    destination_file_name = file_path.split('/')[-1]\n",
        "    file_dest = os.path.join(dataset_path,row['set'],row['tag'],destination_file_name)\n",
        "    \n",
        "    # copy file dari direktori source ke direktori dest\n",
        "    if os.path.exists(file_dest) == False:\n",
        "        shutil.copy2(file_path,file_dest)"
      ],
      "execution_count": 9,
      "outputs": [
        {
          "output_type": "display_data",
          "data": {
            "application/vnd.jupyter.widget-view+json": {
              "model_id": "ed3c6f8588a14738a50025daf4b65f82",
              "version_minor": 0,
              "version_major": 2
            },
            "text/plain": [
              "HBox(children=(FloatProgress(value=1.0, bar_style='info', max=1.0), HTML(value='')))"
            ]
          },
          "metadata": {
            "tags": []
          }
        },
        {
          "output_type": "stream",
          "text": [
            "\n"
          ],
          "name": "stdout"
        }
      ]
    },
    {
      "cell_type": "code",
      "metadata": {
        "colab": {
          "base_uri": "https://localhost:8080/"
        },
        "id": "2oGuE-OwBM7z",
        "outputId": "bfc4bba1-5274-42f6-bd48-ae2a0df49589"
      },
      "source": [
        "# Image Augmentation\n",
        "train_dir = \"content/dataset/dataset/train\"\n",
        "val_dir = \"content/dataset/dataset/validation\"\n",
        "\n",
        "train_datagen = ImageDataGenerator(\n",
        "                  rescale=1./255,\n",
        "                  rotation_range=40,\n",
        "                  vertical_flip=True,\n",
        "                  shear_range = 0.2,\n",
        "                  zoom_range=0.2,\n",
        "                  fill_mode = 'nearest')\n",
        "\n",
        "val_datagen = ImageDataGenerator(\n",
        "                  rescale=1./255,\n",
        "                  rotation_range=40,\n",
        "                  vertical_flip=True,\n",
        "                  shear_range = 0.2,\n",
        "                  zoom_range=0.2,\n",
        "                  fill_mode = 'nearest')\n",
        "\n",
        "train_generator = train_datagen.flow_from_directory(\n",
        "        train_dir,  # direktori data latih\n",
        "        target_size=(150,150),          \n",
        "        class_mode='categorical')\n",
        " \n",
        "validation_generator = val_datagen.flow_from_directory(\n",
        "        val_dir, # direktori data validasi\n",
        "        target_size=(150, 150), \n",
        "        class_mode='categorical')"
      ],
      "execution_count": 10,
      "outputs": [
        {
          "output_type": "stream",
          "text": [
            "Found 540 images belonging to 4 classes.\n",
            "Found 61 images belonging to 4 classes.\n"
          ],
          "name": "stdout"
        }
      ]
    },
    {
      "cell_type": "code",
      "metadata": {
        "colab": {
          "base_uri": "https://localhost:8080/"
        },
        "id": "4KRbQ0tBBmno",
        "outputId": "fe78ad27-ea49-49f7-8fbb-b5897937bc8a"
      },
      "source": [
        "# Simple Model CNN\n",
        "model = tf.keras.models.Sequential([\n",
        "    tf.keras.layers.Conv2D(32, (3,3), activation='relu', input_shape=(150, 150, 3)),\n",
        "    tf.keras.layers.MaxPooling2D(2, 2),\n",
        "    tf.keras.layers.Conv2D(64, (3,3), activation='relu'),\n",
        "    tf.keras.layers.MaxPooling2D(2,2),\n",
        "    tf.keras.layers.Conv2D(64, (3,3), activation='relu'),\n",
        "    tf.keras.layers.MaxPooling2D(2,2),\n",
        "    tf.keras.layers.Conv2D(128, (3,3), activation='relu'),\n",
        "    tf.keras.layers.MaxPooling2D(2,2),\n",
        "    tf.keras.layers.Conv2D(128, (3,3), activation='relu'),\n",
        "    tf.keras.layers.MaxPooling2D(2,2),\n",
        "    tf.keras.layers.Flatten(),\n",
        "    tf.keras.layers.Dropout(0.5),\n",
        "    tf.keras.layers.Dense(512, activation='relu'),\n",
        "    tf.keras.layers.Dense(4, activation='softmax')\n",
        "])\n",
        "\n",
        "model.compile(loss='categorical_crossentropy',\n",
        "              optimizer='rmsprop',\n",
        "              metrics=['accuracy'])\n",
        "\n",
        "model.summary()"
      ],
      "execution_count": 11,
      "outputs": [
        {
          "output_type": "stream",
          "text": [
            "Model: \"sequential\"\n",
            "_________________________________________________________________\n",
            "Layer (type)                 Output Shape              Param #   \n",
            "=================================================================\n",
            "conv2d (Conv2D)              (None, 148, 148, 32)      896       \n",
            "_________________________________________________________________\n",
            "max_pooling2d (MaxPooling2D) (None, 74, 74, 32)        0         \n",
            "_________________________________________________________________\n",
            "conv2d_1 (Conv2D)            (None, 72, 72, 64)        18496     \n",
            "_________________________________________________________________\n",
            "max_pooling2d_1 (MaxPooling2 (None, 36, 36, 64)        0         \n",
            "_________________________________________________________________\n",
            "conv2d_2 (Conv2D)            (None, 34, 34, 64)        36928     \n",
            "_________________________________________________________________\n",
            "max_pooling2d_2 (MaxPooling2 (None, 17, 17, 64)        0         \n",
            "_________________________________________________________________\n",
            "conv2d_3 (Conv2D)            (None, 15, 15, 128)       73856     \n",
            "_________________________________________________________________\n",
            "max_pooling2d_3 (MaxPooling2 (None, 7, 7, 128)         0         \n",
            "_________________________________________________________________\n",
            "conv2d_4 (Conv2D)            (None, 5, 5, 128)         147584    \n",
            "_________________________________________________________________\n",
            "max_pooling2d_4 (MaxPooling2 (None, 2, 2, 128)         0         \n",
            "_________________________________________________________________\n",
            "flatten (Flatten)            (None, 512)               0         \n",
            "_________________________________________________________________\n",
            "dropout (Dropout)            (None, 512)               0         \n",
            "_________________________________________________________________\n",
            "dense (Dense)                (None, 512)               262656    \n",
            "_________________________________________________________________\n",
            "dense_1 (Dense)              (None, 4)                 2052      \n",
            "=================================================================\n",
            "Total params: 542,468\n",
            "Trainable params: 542,468\n",
            "Non-trainable params: 0\n",
            "_________________________________________________________________\n"
          ],
          "name": "stdout"
        }
      ]
    },
    {
      "cell_type": "code",
      "metadata": {
        "colab": {
          "base_uri": "https://localhost:8080/"
        },
        "id": "vgYGUazTBPf_",
        "outputId": "f42fbfbe-ba10-4e88-ae16-bb13117f1982"
      },
      "source": [
        "callbacks = myCallback()\n",
        "history = model.fit(\n",
        "    train_generator,\n",
        "    steps_per_epoch = 15,\n",
        "    epochs = 100,\n",
        "    validation_data = validation_generator,\n",
        "    validation_steps = 2,\n",
        "    verbose =1,\n",
        "    callbacks=[callbacks]\n",
        ")"
      ],
      "execution_count": 12,
      "outputs": [
        {
          "output_type": "stream",
          "text": [
            "Epoch 1/100\n",
            "15/15 [==============================] - 75s 5s/step - loss: 1.3547 - accuracy: 0.4688 - val_loss: 1.2389 - val_accuracy: 0.5246\n",
            "Epoch 2/100\n",
            "15/15 [==============================] - 69s 5s/step - loss: 1.2675 - accuracy: 0.4937 - val_loss: 1.2244 - val_accuracy: 0.5246\n",
            "Epoch 3/100\n",
            "15/15 [==============================] - 69s 5s/step - loss: 1.2622 - accuracy: 0.5042 - val_loss: 1.2333 - val_accuracy: 0.5246\n",
            "Epoch 4/100\n",
            "15/15 [==============================] - 70s 5s/step - loss: 1.3046 - accuracy: 0.4895 - val_loss: 1.2492 - val_accuracy: 0.5246\n",
            "Epoch 5/100\n",
            "15/15 [==============================] - 69s 5s/step - loss: 1.2584 - accuracy: 0.5000 - val_loss: 1.2253 - val_accuracy: 0.5246\n",
            "Epoch 6/100\n",
            "15/15 [==============================] - 69s 5s/step - loss: 1.2669 - accuracy: 0.4853 - val_loss: 1.2165 - val_accuracy: 0.5246\n",
            "Epoch 7/100\n",
            "15/15 [==============================] - 69s 5s/step - loss: 1.2533 - accuracy: 0.4916 - val_loss: 1.2305 - val_accuracy: 0.5246\n",
            "Epoch 8/100\n",
            "15/15 [==============================] - 69s 5s/step - loss: 1.2634 - accuracy: 0.5021 - val_loss: 1.2133 - val_accuracy: 0.5246\n",
            "Epoch 9/100\n",
            "15/15 [==============================] - 69s 5s/step - loss: 1.2554 - accuracy: 0.4916 - val_loss: 1.2215 - val_accuracy: 0.5410\n",
            "Epoch 10/100\n",
            "15/15 [==============================] - 70s 5s/step - loss: 1.2164 - accuracy: 0.5189 - val_loss: 1.1741 - val_accuracy: 0.5574\n",
            "Epoch 11/100\n",
            "15/15 [==============================] - 70s 5s/step - loss: 1.2371 - accuracy: 0.5147 - val_loss: 1.0832 - val_accuracy: 0.5574\n",
            "Epoch 12/100\n",
            "15/15 [==============================] - 71s 5s/step - loss: 1.1812 - accuracy: 0.5168 - val_loss: 1.0946 - val_accuracy: 0.5574\n",
            "Epoch 13/100\n",
            "15/15 [==============================] - 69s 5s/step - loss: 1.1317 - accuracy: 0.5441 - val_loss: 1.0586 - val_accuracy: 0.6066\n",
            "Epoch 14/100\n",
            "15/15 [==============================] - 69s 5s/step - loss: 1.1631 - accuracy: 0.5231 - val_loss: 1.0362 - val_accuracy: 0.5902\n",
            "Epoch 15/100\n",
            "15/15 [==============================] - 69s 5s/step - loss: 1.1282 - accuracy: 0.5378 - val_loss: 1.0589 - val_accuracy: 0.5574\n",
            "Epoch 16/100\n",
            "15/15 [==============================] - 69s 5s/step - loss: 1.0819 - accuracy: 0.5588 - val_loss: 1.0418 - val_accuracy: 0.5902\n",
            "Epoch 17/100\n",
            "15/15 [==============================] - 69s 5s/step - loss: 1.0758 - accuracy: 0.5714 - val_loss: 0.9165 - val_accuracy: 0.6393\n",
            "Epoch 18/100\n",
            "15/15 [==============================] - 69s 5s/step - loss: 1.0582 - accuracy: 0.5819 - val_loss: 0.9979 - val_accuracy: 0.5902\n",
            "Epoch 19/100\n",
            "15/15 [==============================] - 69s 5s/step - loss: 1.0743 - accuracy: 0.5357 - val_loss: 0.9085 - val_accuracy: 0.6557\n",
            "Epoch 20/100\n",
            "15/15 [==============================] - 71s 5s/step - loss: 1.0669 - accuracy: 0.5819 - val_loss: 1.0384 - val_accuracy: 0.5902\n",
            "Epoch 21/100\n",
            "15/15 [==============================] - 69s 5s/step - loss: 1.1490 - accuracy: 0.5312 - val_loss: 1.0542 - val_accuracy: 0.5902\n",
            "Epoch 22/100\n",
            "15/15 [==============================] - 69s 5s/step - loss: 1.0012 - accuracy: 0.5840 - val_loss: 0.9884 - val_accuracy: 0.6393\n",
            "Epoch 23/100\n",
            "15/15 [==============================] - 69s 5s/step - loss: 1.0169 - accuracy: 0.5667 - val_loss: 0.9424 - val_accuracy: 0.6393\n",
            "Epoch 24/100\n",
            "15/15 [==============================] - 70s 5s/step - loss: 0.9653 - accuracy: 0.5958 - val_loss: 1.1432 - val_accuracy: 0.5574\n",
            "Epoch 25/100\n",
            "15/15 [==============================] - 69s 5s/step - loss: 1.0315 - accuracy: 0.5840 - val_loss: 0.9771 - val_accuracy: 0.5738\n",
            "Epoch 26/100\n",
            "15/15 [==============================] - 69s 5s/step - loss: 1.0220 - accuracy: 0.5777 - val_loss: 1.0028 - val_accuracy: 0.5902\n",
            "Epoch 27/100\n",
            "15/15 [==============================] - 69s 5s/step - loss: 0.9721 - accuracy: 0.5987 - val_loss: 1.0139 - val_accuracy: 0.6230\n",
            "Epoch 28/100\n",
            "15/15 [==============================] - 73s 5s/step - loss: 0.9855 - accuracy: 0.5987 - val_loss: 1.1864 - val_accuracy: 0.5082\n",
            "Epoch 29/100\n",
            "15/15 [==============================] - 69s 5s/step - loss: 1.0856 - accuracy: 0.5504 - val_loss: 1.0128 - val_accuracy: 0.5738\n",
            "Epoch 30/100\n",
            "15/15 [==============================] - 69s 5s/step - loss: 0.9900 - accuracy: 0.5903 - val_loss: 0.9619 - val_accuracy: 0.5902\n",
            "Epoch 31/100\n",
            "15/15 [==============================] - 69s 5s/step - loss: 0.9932 - accuracy: 0.5714 - val_loss: 0.9205 - val_accuracy: 0.6721\n",
            "Epoch 32/100\n",
            "15/15 [==============================] - 70s 5s/step - loss: 1.0624 - accuracy: 0.5500 - val_loss: 0.9231 - val_accuracy: 0.6066\n",
            "Epoch 33/100\n",
            "15/15 [==============================] - 69s 5s/step - loss: 0.9696 - accuracy: 0.5840 - val_loss: 0.9572 - val_accuracy: 0.5902\n",
            "Epoch 34/100\n",
            "15/15 [==============================] - 70s 5s/step - loss: 0.9649 - accuracy: 0.5945 - val_loss: 0.9245 - val_accuracy: 0.6230\n",
            "Epoch 35/100\n",
            "15/15 [==============================] - 70s 5s/step - loss: 1.0077 - accuracy: 0.5798 - val_loss: 1.0235 - val_accuracy: 0.5902\n",
            "Epoch 36/100\n",
            "15/15 [==============================] - 76s 5s/step - loss: 1.0387 - accuracy: 0.5903 - val_loss: 0.9143 - val_accuracy: 0.6721\n",
            "Epoch 37/100\n",
            "15/15 [==============================] - 70s 5s/step - loss: 0.9455 - accuracy: 0.6008 - val_loss: 0.9177 - val_accuracy: 0.6721\n",
            "Epoch 38/100\n",
            "15/15 [==============================] - 70s 5s/step - loss: 1.0148 - accuracy: 0.5651 - val_loss: 0.8873 - val_accuracy: 0.6230\n",
            "Epoch 39/100\n",
            "15/15 [==============================] - 70s 5s/step - loss: 0.9154 - accuracy: 0.6261 - val_loss: 0.8902 - val_accuracy: 0.6393\n",
            "Epoch 40/100\n",
            "15/15 [==============================] - 69s 5s/step - loss: 0.9942 - accuracy: 0.5504 - val_loss: 0.9441 - val_accuracy: 0.6230\n",
            "Epoch 41/100\n",
            "15/15 [==============================] - 70s 5s/step - loss: 0.9526 - accuracy: 0.5882 - val_loss: 0.9142 - val_accuracy: 0.6066\n",
            "Epoch 42/100\n",
            "15/15 [==============================] - 70s 5s/step - loss: 0.9505 - accuracy: 0.6008 - val_loss: 1.0425 - val_accuracy: 0.6066\n",
            "Epoch 43/100\n",
            "15/15 [==============================] - 69s 5s/step - loss: 0.9610 - accuracy: 0.5882 - val_loss: 0.9211 - val_accuracy: 0.6885\n",
            "Epoch 44/100\n",
            "15/15 [==============================] - 69s 5s/step - loss: 0.9130 - accuracy: 0.6408 - val_loss: 0.9702 - val_accuracy: 0.5902\n",
            "Epoch 45/100\n",
            "15/15 [==============================] - 70s 5s/step - loss: 0.9061 - accuracy: 0.6062 - val_loss: 0.8717 - val_accuracy: 0.6393\n",
            "Epoch 46/100\n",
            "15/15 [==============================] - 70s 5s/step - loss: 0.9450 - accuracy: 0.5917 - val_loss: 0.9129 - val_accuracy: 0.6885\n",
            "Epoch 47/100\n",
            "15/15 [==============================] - 69s 5s/step - loss: 0.9401 - accuracy: 0.6029 - val_loss: 0.9457 - val_accuracy: 0.6393\n",
            "Epoch 48/100\n",
            "15/15 [==============================] - 69s 5s/step - loss: 0.9082 - accuracy: 0.5966 - val_loss: 0.8897 - val_accuracy: 0.6721\n",
            "Epoch 49/100\n",
            "15/15 [==============================] - 69s 5s/step - loss: 0.8791 - accuracy: 0.6450 - val_loss: 0.9825 - val_accuracy: 0.6066\n",
            "Epoch 50/100\n",
            "15/15 [==============================] - 69s 5s/step - loss: 0.8936 - accuracy: 0.6324 - val_loss: 0.9229 - val_accuracy: 0.5902\n",
            "Epoch 51/100\n",
            "15/15 [==============================] - 69s 5s/step - loss: 0.9405 - accuracy: 0.5903 - val_loss: 0.8726 - val_accuracy: 0.6557\n",
            "Epoch 52/100\n",
            "15/15 [==============================] - 69s 5s/step - loss: 0.9145 - accuracy: 0.6208 - val_loss: 0.8338 - val_accuracy: 0.6721\n",
            "Epoch 53/100\n",
            "15/15 [==============================] - 69s 5s/step - loss: 0.9050 - accuracy: 0.6134 - val_loss: 0.9051 - val_accuracy: 0.6393\n",
            "Epoch 54/100\n",
            "15/15 [==============================] - 69s 5s/step - loss: 0.9044 - accuracy: 0.6134 - val_loss: 1.0017 - val_accuracy: 0.6066\n",
            "Epoch 55/100\n",
            "15/15 [==============================] - 69s 5s/step - loss: 0.8821 - accuracy: 0.6282 - val_loss: 1.4105 - val_accuracy: 0.4262\n",
            "Epoch 56/100\n",
            "15/15 [==============================] - 69s 5s/step - loss: 0.8807 - accuracy: 0.6155 - val_loss: 0.8736 - val_accuracy: 0.6557\n",
            "Epoch 57/100\n",
            "15/15 [==============================] - 69s 5s/step - loss: 0.9012 - accuracy: 0.5924 - val_loss: 0.9557 - val_accuracy: 0.6557\n",
            "Epoch 58/100\n",
            "15/15 [==============================] - 70s 5s/step - loss: 0.8888 - accuracy: 0.6197 - val_loss: 0.8523 - val_accuracy: 0.6721\n",
            "Epoch 59/100\n",
            "15/15 [==============================] - 69s 5s/step - loss: 0.8738 - accuracy: 0.6387 - val_loss: 0.9165 - val_accuracy: 0.6230\n",
            "Epoch 60/100\n",
            "15/15 [==============================] - 69s 5s/step - loss: 0.8344 - accuracy: 0.6639 - val_loss: 1.0023 - val_accuracy: 0.6557\n",
            "Epoch 61/100\n",
            "15/15 [==============================] - 69s 5s/step - loss: 0.8717 - accuracy: 0.6345 - val_loss: 0.8780 - val_accuracy: 0.6721\n",
            "Epoch 62/100\n",
            "15/15 [==============================] - 69s 5s/step - loss: 0.9061 - accuracy: 0.6324 - val_loss: 0.9231 - val_accuracy: 0.7049\n",
            "Epoch 63/100\n",
            "15/15 [==============================] - 69s 5s/step - loss: 0.8191 - accuracy: 0.6534 - val_loss: 0.9425 - val_accuracy: 0.6885\n",
            "Epoch 64/100\n",
            "15/15 [==============================] - 69s 5s/step - loss: 0.8354 - accuracy: 0.6303 - val_loss: 0.8661 - val_accuracy: 0.6721\n",
            "Epoch 65/100\n",
            "15/15 [==============================] - 69s 5s/step - loss: 0.9856 - accuracy: 0.6387 - val_loss: 0.8805 - val_accuracy: 0.6393\n",
            "Epoch 66/100\n",
            "15/15 [==============================] - 69s 5s/step - loss: 0.8264 - accuracy: 0.6555 - val_loss: 0.9067 - val_accuracy: 0.6885\n",
            "Epoch 67/100\n",
            "15/15 [==============================] - 69s 5s/step - loss: 0.8728 - accuracy: 0.6218 - val_loss: 0.9242 - val_accuracy: 0.6393\n",
            "Epoch 68/100\n",
            "15/15 [==============================] - 69s 5s/step - loss: 0.8780 - accuracy: 0.6303 - val_loss: 0.8654 - val_accuracy: 0.6557\n",
            "Epoch 69/100\n",
            "15/15 [==============================] - 70s 5s/step - loss: 0.8049 - accuracy: 0.6786 - val_loss: 1.0435 - val_accuracy: 0.6393\n",
            "Epoch 70/100\n",
            "15/15 [==============================] - 70s 5s/step - loss: 0.8135 - accuracy: 0.6618 - val_loss: 1.0620 - val_accuracy: 0.6721\n",
            "Epoch 71/100\n",
            "15/15 [==============================] - 70s 5s/step - loss: 0.8510 - accuracy: 0.6562 - val_loss: 0.9046 - val_accuracy: 0.6393\n",
            "Epoch 72/100\n",
            "15/15 [==============================] - 69s 5s/step - loss: 0.8265 - accuracy: 0.6366 - val_loss: 0.9094 - val_accuracy: 0.6885\n",
            "Epoch 73/100\n",
            "15/15 [==============================] - 69s 5s/step - loss: 0.8197 - accuracy: 0.6597 - val_loss: 0.8841 - val_accuracy: 0.6066\n",
            "Epoch 74/100\n",
            "15/15 [==============================] - 70s 5s/step - loss: 0.7981 - accuracy: 0.6534 - val_loss: 0.8326 - val_accuracy: 0.7377\n",
            "Epoch 75/100\n",
            "15/15 [==============================] - 69s 5s/step - loss: 0.7966 - accuracy: 0.6597 - val_loss: 0.9845 - val_accuracy: 0.6066\n",
            "Epoch 76/100\n",
            "15/15 [==============================] - 69s 5s/step - loss: 0.8193 - accuracy: 0.6534 - val_loss: 0.9630 - val_accuracy: 0.6557\n",
            "Epoch 77/100\n",
            "15/15 [==============================] - 69s 5s/step - loss: 0.8746 - accuracy: 0.6450 - val_loss: 0.8975 - val_accuracy: 0.6557\n",
            "Epoch 78/100\n",
            "15/15 [==============================] - 70s 5s/step - loss: 0.8542 - accuracy: 0.6239 - val_loss: 0.9296 - val_accuracy: 0.6721\n",
            "Epoch 79/100\n",
            "15/15 [==============================] - 69s 5s/step - loss: 0.8052 - accuracy: 0.6282 - val_loss: 0.9953 - val_accuracy: 0.6066\n",
            "Epoch 80/100\n",
            "15/15 [==============================] - 69s 5s/step - loss: 0.8203 - accuracy: 0.6492 - val_loss: 0.8709 - val_accuracy: 0.6721\n",
            "Epoch 81/100\n",
            "15/15 [==============================] - 69s 5s/step - loss: 0.7634 - accuracy: 0.6639 - val_loss: 1.2765 - val_accuracy: 0.5574\n",
            "Epoch 82/100\n",
            "15/15 [==============================] - 70s 5s/step - loss: 0.8005 - accuracy: 0.6702 - val_loss: 0.8870 - val_accuracy: 0.6230\n",
            "Epoch 83/100\n",
            "15/15 [==============================] - 69s 5s/step - loss: 0.7796 - accuracy: 0.6723 - val_loss: 1.0156 - val_accuracy: 0.6393\n",
            "Epoch 84/100\n",
            "15/15 [==============================] - 69s 5s/step - loss: 0.7901 - accuracy: 0.6870 - val_loss: 0.8832 - val_accuracy: 0.6230\n",
            "Epoch 85/100\n",
            "15/15 [==============================] - 69s 5s/step - loss: 0.7546 - accuracy: 0.6870 - val_loss: 0.9184 - val_accuracy: 0.6230\n",
            "Epoch 86/100\n",
            "15/15 [==============================] - 69s 5s/step - loss: 0.7737 - accuracy: 0.6792 - val_loss: 1.0421 - val_accuracy: 0.6885\n",
            "Epoch 87/100\n",
            "15/15 [==============================] - 69s 5s/step - loss: 0.7664 - accuracy: 0.6786 - val_loss: 0.8956 - val_accuracy: 0.6393\n",
            "Epoch 88/100\n",
            "15/15 [==============================] - 69s 5s/step - loss: 0.7353 - accuracy: 0.7038 - val_loss: 0.8606 - val_accuracy: 0.6885\n",
            "Epoch 89/100\n",
            "15/15 [==============================] - 69s 5s/step - loss: 0.7533 - accuracy: 0.6723 - val_loss: 1.0801 - val_accuracy: 0.5738\n",
            "Epoch 90/100\n",
            "15/15 [==============================] - 69s 5s/step - loss: 0.7816 - accuracy: 0.6771 - val_loss: 1.0870 - val_accuracy: 0.6557\n",
            "Epoch 91/100\n",
            "15/15 [==============================] - 69s 5s/step - loss: 0.7501 - accuracy: 0.6786 - val_loss: 0.8805 - val_accuracy: 0.7213\n",
            "Epoch 92/100\n",
            "15/15 [==============================] - 72s 5s/step - loss: 0.7551 - accuracy: 0.6954 - val_loss: 0.9999 - val_accuracy: 0.6393\n",
            "Epoch 93/100\n",
            "15/15 [==============================] - 69s 5s/step - loss: 0.7808 - accuracy: 0.6807 - val_loss: 1.0338 - val_accuracy: 0.5574\n",
            "Epoch 94/100\n",
            "15/15 [==============================] - 75s 5s/step - loss: 0.7445 - accuracy: 0.6660 - val_loss: 1.0316 - val_accuracy: 0.5574\n",
            "Epoch 95/100\n",
            "15/15 [==============================] - 69s 5s/step - loss: 0.7958 - accuracy: 0.6660 - val_loss: 0.9640 - val_accuracy: 0.6393\n",
            "Epoch 96/100\n",
            "15/15 [==============================] - 69s 5s/step - loss: 0.7532 - accuracy: 0.7038 - val_loss: 0.9954 - val_accuracy: 0.6230\n",
            "Epoch 97/100\n",
            "15/15 [==============================] - 69s 5s/step - loss: 0.7253 - accuracy: 0.6954 - val_loss: 1.0186 - val_accuracy: 0.6557\n",
            "Epoch 98/100\n",
            "15/15 [==============================] - 69s 5s/step - loss: 0.6989 - accuracy: 0.7017 - val_loss: 0.9390 - val_accuracy: 0.6230\n",
            "Epoch 99/100\n",
            "15/15 [==============================] - 69s 5s/step - loss: 0.7741 - accuracy: 0.6786 - val_loss: 0.9984 - val_accuracy: 0.5902\n",
            "Epoch 100/100\n",
            "15/15 [==============================] - 69s 5s/step - loss: 0.7147 - accuracy: 0.7143 - val_loss: 1.0209 - val_accuracy: 0.5902\n"
          ],
          "name": "stdout"
        }
      ]
    },
    {
      "cell_type": "code",
      "metadata": {
        "id": "gIKJPMhbI1_b",
        "colab": {
          "base_uri": "https://localhost:8080/",
          "height": 295
        },
        "outputId": "2498ea85-ab9d-4483-ee9d-acd62f010ff7"
      },
      "source": [
        "# Grafik untuk Loss Train dan Loss Validation..\n",
        "from matplotlib import pyplot as plt\n",
        "\n",
        "plt.plot(history.history['loss'], label ='Training loss')\n",
        "plt.plot(history.history['val_loss'], label = 'Validation loss')\n",
        "plt.title('Loss Plot')\n",
        "plt.ylabel('Value')\n",
        "plt.xlabel('Epoch')\n",
        "plt.legend(loc='upper right')\n",
        "plt.show()"
      ],
      "execution_count": 15,
      "outputs": [
        {
          "output_type": "display_data",
          "data": {
            "image/png": "[encoded data removed]",
            "text/plain": [
              "<Figure size 432x288 with 1 Axes>"
            ]
          },
          "metadata": {
            "tags": [],
            "needs_background": "light"
          }
        }
      ]
    },
    {
      "cell_type": "code",
      "metadata": {
        "id": "s0yc48RUI2kM",
        "colab": {
          "base_uri": "https://localhost:8080/",
          "height": 295
        },
        "outputId": "9df7ede0-9fc4-4ac8-d8d7-574ab61f08c4"
      },
      "source": [
        "# Grafik untuk Akurasi Train dan Akurasi validation..\n",
        "plt.plot(history.history['accuracy'], label = 'Train Accuracy')\n",
        "plt.plot(history.history['val_accuracy'], label = 'Validation Accuracy')\n",
        "plt.title('Accuracy Plot')\n",
        "plt.ylabel('Value')\n",
        "plt.xlabel('Epoch')\n",
        "plt.legend(loc='lower right')\n",
        "plt.show()"
      ],
      "execution_count": 16,
      "outputs": [
        {
          "output_type": "display_data",
          "data": {
            "image/png": "[encoded data removed]",
            "text/plain": [
              "<Figure size 432x288 with 1 Axes>"
            ]
          },
          "metadata": {
            "tags": [],
            "needs_background": "light"
          }
        }
      ]
    },
    {
      "cell_type": "code",
      "metadata": {
        "id": "3skDAXDd5_KT",
        "colab": {
          "base_uri": "https://localhost:8080/"
        },
        "outputId": "a9ec4d1e-dca2-4963-9684-44c66ff97869"
      },
      "source": [
        "# Konversi model.\n",
        "converter = tf.lite.TFLiteConverter.from_keras_model(model)\n",
        "tflite_model = converter.convert()\n",
        "\n",
        "with tf.io.gfile.GFile('model.tflite', 'wb') as f:\n",
        "  f.write(tflite_model)"
      ],
      "execution_count": 17,
      "outputs": [
        {
          "output_type": "stream",
          "text": [
            "INFO:tensorflow:Assets written to: /tmp/tmpcri1zpvb/assets\n"
          ],
          "name": "stdout"
        }
      ]
    }
  ]
}