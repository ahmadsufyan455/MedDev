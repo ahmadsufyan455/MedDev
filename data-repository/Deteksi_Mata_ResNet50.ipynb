{
  "nbformat": 4,
  "nbformat_minor": 0,
  "metadata": {
    "colab": {
      "name": "Deteksi_Mata_ResNet50.ipynb",
      "provenance": []
    },
    "kernelspec": {
      "display_name": "Python 3",
      "name": "python3"
    },
    "language_info": {
      "name": "python"
    },
    "widgets": {
      "application/vnd.jupyter.widget-state+json": {
        "1b2cab07403e4a29b8150473270d6613": {
          "model_module": "@jupyter-widgets/controls",
          "model_name": "HBoxModel",
          "state": {
            "_view_name": "HBoxView",
            "_dom_classes": [],
            "_model_name": "HBoxModel",
            "_view_module": "@jupyter-widgets/controls",
            "_model_module_version": "1.5.0",
            "_view_count": null,
            "_view_module_version": "1.5.0",
            "box_style": "",
            "layout": "IPY_MODEL_d767c3fe7c7d490d9fe5f8ec7bca7fab",
            "_model_module": "@jupyter-widgets/controls",
            "children": [
              "IPY_MODEL_31ec57935926421093632ea054e86799",
              "IPY_MODEL_10555e6331bc4adf8b03d8cfd3f42c89"
            ]
          }
        },
        "d767c3fe7c7d490d9fe5f8ec7bca7fab": {
          "model_module": "@jupyter-widgets/base",
          "model_name": "LayoutModel",
          "state": {
            "_view_name": "LayoutView",
            "grid_template_rows": null,
            "right": null,
            "justify_content": null,
            "_view_module": "@jupyter-widgets/base",
            "overflow": null,
            "_model_module_version": "1.2.0",
            "_view_count": null,
            "flex_flow": null,
            "width": null,
            "min_width": null,
            "border": null,
            "align_items": null,
            "bottom": null,
            "_model_module": "@jupyter-widgets/base",
            "top": null,
            "grid_column": null,
            "overflow_y": null,
            "overflow_x": null,
            "grid_auto_flow": null,
            "grid_area": null,
            "grid_template_columns": null,
            "flex": null,
            "_model_name": "LayoutModel",
            "justify_items": null,
            "grid_row": null,
            "max_height": null,
            "align_content": null,
            "visibility": null,
            "align_self": null,
            "height": null,
            "min_height": null,
            "padding": null,
            "grid_auto_rows": null,
            "grid_gap": null,
            "max_width": null,
            "order": null,
            "_view_module_version": "1.2.0",
            "grid_template_areas": null,
            "object_position": null,
            "object_fit": null,
            "grid_auto_columns": null,
            "margin": null,
            "display": null,
            "left": null
          }
        },
        "31ec57935926421093632ea054e86799": {
          "model_module": "@jupyter-widgets/controls",
          "model_name": "FloatProgressModel",
          "state": {
            "_view_name": "ProgressView",
            "style": "IPY_MODEL_063cf3354ed6495ba46db97368e1ee2c",
            "_dom_classes": [],
            "description": "",
            "_model_name": "FloatProgressModel",
            "bar_style": "success",
            "max": 1,
            "_view_module": "@jupyter-widgets/controls",
            "_model_module_version": "1.5.0",
            "value": 1,
            "_view_count": null,
            "_view_module_version": "1.5.0",
            "orientation": "horizontal",
            "min": 0,
            "description_tooltip": null,
            "_model_module": "@jupyter-widgets/controls",
            "layout": "IPY_MODEL_f6a15dd731b64e658f60f1c571c7ee99"
          }
        },
        "10555e6331bc4adf8b03d8cfd3f42c89": {
          "model_module": "@jupyter-widgets/controls",
          "model_name": "HTMLModel",
          "state": {
            "_view_name": "HTMLView",
            "style": "IPY_MODEL_32f68b49b21948eeb75ca3ea1f0ed525",
            "_dom_classes": [],
            "description": "",
            "_model_name": "HTMLModel",
            "placeholder": "​",
            "_view_module": "@jupyter-widgets/controls",
            "_model_module_version": "1.5.0",
            "value": " 601/? [00:26&lt;00:00, 23.04it/s]",
            "_view_count": null,
            "_view_module_version": "1.5.0",
            "description_tooltip": null,
            "_model_module": "@jupyter-widgets/controls",
            "layout": "IPY_MODEL_c4d9e96954e24c3b849756dfeb22ae0c"
          }
        },
        "063cf3354ed6495ba46db97368e1ee2c": {
          "model_module": "@jupyter-widgets/controls",
          "model_name": "ProgressStyleModel",
          "state": {
            "_view_name": "StyleView",
            "_model_name": "ProgressStyleModel",
            "description_width": "initial",
            "_view_module": "@jupyter-widgets/base",
            "_model_module_version": "1.5.0",
            "_view_count": null,
            "_view_module_version": "1.2.0",
            "bar_color": null,
            "_model_module": "@jupyter-widgets/controls"
          }
        },
        "f6a15dd731b64e658f60f1c571c7ee99": {
          "model_module": "@jupyter-widgets/base",
          "model_name": "LayoutModel",
          "state": {
            "_view_name": "LayoutView",
            "grid_template_rows": null,
            "right": null,
            "justify_content": null,
            "_view_module": "@jupyter-widgets/base",
            "overflow": null,
            "_model_module_version": "1.2.0",
            "_view_count": null,
            "flex_flow": null,
            "width": null,
            "min_width": null,
            "border": null,
            "align_items": null,
            "bottom": null,
            "_model_module": "@jupyter-widgets/base",
            "top": null,
            "grid_column": null,
            "overflow_y": null,
            "overflow_x": null,
            "grid_auto_flow": null,
            "grid_area": null,
            "grid_template_columns": null,
            "flex": null,
            "_model_name": "LayoutModel",
            "justify_items": null,
            "grid_row": null,
            "max_height": null,
            "align_content": null,
            "visibility": null,
            "align_self": null,
            "height": null,
            "min_height": null,
            "padding": null,
            "grid_auto_rows": null,
            "grid_gap": null,
            "max_width": null,
            "order": null,
            "_view_module_version": "1.2.0",
            "grid_template_areas": null,
            "object_position": null,
            "object_fit": null,
            "grid_auto_columns": null,
            "margin": null,
            "display": null,
            "left": null
          }
        },
        "32f68b49b21948eeb75ca3ea1f0ed525": {
          "model_module": "@jupyter-widgets/controls",
          "model_name": "DescriptionStyleModel",
          "state": {
            "_view_name": "StyleView",
            "_model_name": "DescriptionStyleModel",
            "description_width": "",
            "_view_module": "@jupyter-widgets/base",
            "_model_module_version": "1.5.0",
            "_view_count": null,
            "_view_module_version": "1.2.0",
            "_model_module": "@jupyter-widgets/controls"
          }
        },
        "c4d9e96954e24c3b849756dfeb22ae0c": {
          "model_module": "@jupyter-widgets/base",
          "model_name": "LayoutModel",
          "state": {
            "_view_name": "LayoutView",
            "grid_template_rows": null,
            "right": null,
            "justify_content": null,
            "_view_module": "@jupyter-widgets/base",
            "overflow": null,
            "_model_module_version": "1.2.0",
            "_view_count": null,
            "flex_flow": null,
            "width": null,
            "min_width": null,
            "border": null,
            "align_items": null,
            "bottom": null,
            "_model_module": "@jupyter-widgets/base",
            "top": null,
            "grid_column": null,
            "overflow_y": null,
            "overflow_x": null,
            "grid_auto_flow": null,
            "grid_area": null,
            "grid_template_columns": null,
            "flex": null,
            "_model_name": "LayoutModel",
            "justify_items": null,
            "grid_row": null,
            "max_height": null,
            "align_content": null,
            "visibility": null,
            "align_self": null,
            "height": null,
            "min_height": null,
            "padding": null,
            "grid_auto_rows": null,
            "grid_gap": null,
            "max_width": null,
            "order": null,
            "_view_module_version": "1.2.0",
            "grid_template_areas": null,
            "object_position": null,
            "object_fit": null,
            "grid_auto_columns": null,
            "margin": null,
            "display": null,
            "left": null
          }
        }
      }
    }
  },
  "cells": [
    {
      "cell_type": "code",
      "metadata": {
        "id": "OVC1ZJUqIXjN"
      },
      "source": [
        "import tensorflow as tf\n",
        "import pandas as pd\n",
        "import zipfile, os, shutil\n",
        "from sklearn.model_selection import train_test_split\n",
        "from tqdm.notebook import tqdm as tq\n",
        "from keras.preprocessing.image import ImageDataGenerator"
      ],
      "execution_count": null,
      "outputs": []
    },
    {
      "cell_type": "code",
      "metadata": {
        "colab": {
          "base_uri": "https://localhost:8080/"
        },
        "id": "RFGX6m6xIqLW",
        "outputId": "94c243cb-b14b-4372-d433-ac5253cd1616"
      },
      "source": [
        "# Cek Versi Tensorflow\n",
        "print(tf.__version__)"
      ],
      "execution_count": null,
      "outputs": [
        {
          "output_type": "stream",
          "text": [
            "2.5.0\n"
          ],
          "name": "stdout"
        }
      ]
    },
    {
      "cell_type": "code",
      "metadata": {
        "colab": {
          "base_uri": "https://localhost:8080/"
        },
        "id": "1GL0P7SIIrdP",
        "outputId": "31eba5f7-c9b9-4b63-9117-3f2d1b1474e2"
      },
      "source": [
        "# Download Dataset Katarak\n",
        "! KAGGLE_CONFIG_DIR=/content/ kaggle datasets download jr2ngb/cataractdataset\n",
        "! chmod 600 kaggle.json\n",
        "! ls ~/.kaggle 2>/dev/null || mkdir ~/.kaggle\n",
        "! mv kaggle.json ~/.kaggle\n",
        "! kaggle datasets download jr2ngb/cataractdataset"
      ],
      "execution_count": null,
      "outputs": [
        {
          "output_type": "stream",
          "text": [
            "Warning: Your Kaggle API key is readable by other users on this system! To fix this, you can run 'chmod 600 /content/kaggle.json'\n",
            "Downloading cataractdataset.zip to /content\n",
            "100% 3.34G/3.34G [00:40<00:00, 47.9MB/s]\n",
            "100% 3.34G/3.34G [00:40<00:00, 89.1MB/s]\n",
            "cataractdataset.zip: Skipping, found more recently modified local copy (use --force to force download)\n"
          ],
          "name": "stdout"
        }
      ]
    },
    {
      "cell_type": "code",
      "metadata": {
        "colab": {
          "base_uri": "https://localhost:8080/"
        },
        "id": "r8V6LtEzIsgo",
        "outputId": "32e68fea-c362-41c1-d372-b207a4546b1f"
      },
      "source": [
        "# Proses Ekstrak Dataset\n",
        "with zipfile.ZipFile('cataractdataset.zip','r') as z:\n",
        "  z.extractall('./')\n",
        "\n",
        "os.listdir()"
      ],
      "execution_count": null,
      "outputs": [
        {
          "output_type": "execute_result",
          "data": {
            "text/plain": [
              "['.config',\n",
              " 'repository',\n",
              " 'cataractdataset.zip',\n",
              " 'README.md',\n",
              " 'dataset',\n",
              " 'sample_data']"
            ]
          },
          "metadata": {
            "tags": []
          },
          "execution_count": 4
        }
      ]
    },
    {
      "cell_type": "code",
      "metadata": {
        "id": "adpsBgX7IvE6"
      },
      "source": [
        "# Hapus Direktori yang Tidak Digunakan\n",
        "dir_path = '/content/repository'\n",
        "\n",
        "shutil.rmtree(dir_path)"
      ],
      "execution_count": null,
      "outputs": []
    },
    {
      "cell_type": "code",
      "metadata": {
        "id": "otWXmXszIwTc"
      },
      "source": [
        "base_dir = '/content/dataset'\n",
        "\n",
        "file_name = []\n",
        "tag = []\n",
        "full_path = []\n",
        "for path, subdirs, files in os.walk(base_dir):\n",
        "    for name in files:\n",
        "        full_path.append(os.path.join(path, name)) \n",
        "        tag.append(path.split('/')[-1])        \n",
        "        file_name.append(name)"
      ],
      "execution_count": null,
      "outputs": []
    },
    {
      "cell_type": "code",
      "metadata": {
        "id": "JKE0j86jIynR"
      },
      "source": [
        "# Menerapkan Fungsi Callback\n",
        "class myCallback(tf.keras.callbacks.Callback):\n",
        "    def on_epoch_end(self, epoch, logs={}):\n",
        "        if(logs.get('accuracy')>0.75 and logs.get('val_accuracy')>0.75):\n",
        "            print(\"\\nAkurasi telah mencapai lebih dari 75%, proses dihentikan!\")\n",
        "            self.model.stop_training = True"
      ],
      "execution_count": null,
      "outputs": []
    },
    {
      "cell_type": "code",
      "metadata": {
        "colab": {
          "base_uri": "https://localhost:8080/",
          "height": 366
        },
        "id": "gyYTkRMWI0nk",
        "outputId": "319e3fbd-3ada-446d-90ad-c703216a9499"
      },
      "source": [
        "# Proses Split Dataset\n",
        "df = pd.DataFrame({\"path\":full_path,'file_name':file_name,\"tag\":tag})\n",
        "df.groupby(['tag']).size()\n",
        "\n",
        "X = df['path']\n",
        "y = df['tag']\n",
        "\n",
        "X_train, X_val, y_train, y_val = train_test_split(X, y, test_size=0.1, random_state=300)\n",
        "\n",
        "df_tr = pd.DataFrame({'path':X_train, 'tag':y_train, 'set':'train'})\n",
        "df_val = pd.DataFrame({'path':X_val, 'tag':y_val, 'set':'validation'})\n",
        "\n",
        "print('train size', len(df_tr))\n",
        "print('val size', len(df_val))\n",
        "\n",
        "df_all = df_tr.append([df_val]).reset_index(drop=1)\n",
        "print(df_all.groupby(['set','tag']).size(),'\\n')\n",
        "\n",
        "df_all.sample(3)"
      ],
      "execution_count": null,
      "outputs": [
        {
          "output_type": "stream",
          "text": [
            "train size 540\n",
            "val size 61\n",
            "set         tag             \n",
            "train       1_normal            268\n",
            "            2_cataract           92\n",
            "            2_glaucoma           89\n",
            "            3_retina_disease     91\n",
            "validation  1_normal             32\n",
            "            2_cataract            8\n",
            "            2_glaucoma           12\n",
            "            3_retina_disease      9\n",
            "dtype: int64 \n",
            "\n"
          ],
          "name": "stdout"
        },
        {
          "output_type": "execute_result",
          "data": {
            "text/html": [
              "<div>\n",
              "<style scoped>\n",
              "    .dataframe tbody tr th:only-of-type {\n",
              "        vertical-align: middle;\n",
              "    }\n",
              "\n",
              "    .dataframe tbody tr th {\n",
              "        vertical-align: top;\n",
              "    }\n",
              "\n",
              "    .dataframe thead th {\n",
              "        text-align: right;\n",
              "    }\n",
              "</style>\n",
              "<table border=\"1\" class=\"dataframe\">\n",
              "  <thead>\n",
              "    <tr style=\"text-align: right;\">\n",
              "      <th></th>\n",
              "      <th>path</th>\n",
              "      <th>tag</th>\n",
              "      <th>set</th>\n",
              "    </tr>\n",
              "  </thead>\n",
              "  <tbody>\n",
              "    <tr>\n",
              "      <th>33</th>\n",
              "      <td>/content/dataset/1_normal/NL_245.png</td>\n",
              "      <td>1_normal</td>\n",
              "      <td>train</td>\n",
              "    </tr>\n",
              "    <tr>\n",
              "      <th>271</th>\n",
              "      <td>/content/dataset/3_retina_disease/Retina_031.png</td>\n",
              "      <td>3_retina_disease</td>\n",
              "      <td>train</td>\n",
              "    </tr>\n",
              "    <tr>\n",
              "      <th>61</th>\n",
              "      <td>/content/dataset/1_normal/NL_184.png</td>\n",
              "      <td>1_normal</td>\n",
              "      <td>train</td>\n",
              "    </tr>\n",
              "  </tbody>\n",
              "</table>\n",
              "</div>"
            ],
            "text/plain": [
              "                                                 path               tag    set\n",
              "33               /content/dataset/1_normal/NL_245.png          1_normal  train\n",
              "271  /content/dataset/3_retina_disease/Retina_031.png  3_retina_disease  train\n",
              "61               /content/dataset/1_normal/NL_184.png          1_normal  train"
            ]
          },
          "metadata": {
            "tags": []
          },
          "execution_count": 8
        }
      ]
    },
    {
      "cell_type": "code",
      "metadata": {
        "colab": {
          "base_uri": "https://localhost:8080/",
          "height": 67,
          "referenced_widgets": [
            "1b2cab07403e4a29b8150473270d6613",
            "d767c3fe7c7d490d9fe5f8ec7bca7fab",
            "31ec57935926421093632ea054e86799",
            "10555e6331bc4adf8b03d8cfd3f42c89",
            "063cf3354ed6495ba46db97368e1ee2c",
            "f6a15dd731b64e658f60f1c571c7ee99",
            "32f68b49b21948eeb75ca3ea1f0ed525",
            "c4d9e96954e24c3b849756dfeb22ae0c"
          ]
        },
        "id": "6L25VZ2BI2Ld",
        "outputId": "a9863441-6141-451b-cc11-1bec22225ba3"
      },
      "source": [
        "datasource_path = base_dir\n",
        "dataset_path = \"content/dataset/dataset/\"\n",
        "\n",
        "for index, row in tq(df_all.iterrows()):\n",
        "    \n",
        "    #detect filepath\n",
        "    file_path = row['path']            \n",
        "    if os.path.exists(file_path) == False:\n",
        "            file_path = os.path.join(datasource_path,row['tag'],row['image'].split('.')[0])  \n",
        "    \n",
        "    #make folder destination dirs\n",
        "    if os.path.exists(os.path.join(dataset_path,row['set'],row['tag'])) == False:\n",
        "        os.makedirs(os.path.join(dataset_path,row['set'],row['tag']))\n",
        "    \n",
        "    #define file dest\n",
        "    destination_file_name = file_path.split('/')[-1]\n",
        "    file_dest = os.path.join(dataset_path,row['set'],row['tag'],destination_file_name)\n",
        "    \n",
        "    #copy file from source to dest\n",
        "    if os.path.exists(file_dest) == False:\n",
        "        shutil.copy2(file_path,file_dest)"
      ],
      "execution_count": null,
      "outputs": [
        {
          "output_type": "display_data",
          "data": {
            "application/vnd.jupyter.widget-view+json": {
              "model_id": "1b2cab07403e4a29b8150473270d6613",
              "version_minor": 0,
              "version_major": 2
            },
            "text/plain": [
              "HBox(children=(FloatProgress(value=1.0, bar_style='info', max=1.0), HTML(value='')))"
            ]
          },
          "metadata": {
            "tags": []
          }
        },
        {
          "output_type": "stream",
          "text": [
            "\n"
          ],
          "name": "stdout"
        }
      ]
    },
    {
      "cell_type": "code",
      "metadata": {
        "colab": {
          "base_uri": "https://localhost:8080/"
        },
        "id": "yLPewhEVI5GB",
        "outputId": "56cf452f-5286-49e7-91ea-c5db03b63772"
      },
      "source": [
        "# Image Augmentation\n",
        "train_dir = \"content/dataset/dataset/train\"\n",
        "val_dir = \"content/dataset/dataset/validation\"\n",
        "\n",
        "train_datagen = ImageDataGenerator(\n",
        "                  rescale=1./255,\n",
        "                  rotation_range=40,\n",
        "                  vertical_flip=True,\n",
        "                  shear_range = 0.2,\n",
        "                  zoom_range=0.2,\n",
        "                  fill_mode = 'nearest')\n",
        "\n",
        "val_datagen = ImageDataGenerator(\n",
        "                  rescale=1./255,\n",
        "                  rotation_range=40,\n",
        "                  vertical_flip=True,\n",
        "                  shear_range = 0.2,\n",
        "                  zoom_range=0.2,\n",
        "                  fill_mode = 'nearest')\n",
        "\n",
        "train_generator = train_datagen.flow_from_directory(\n",
        "        train_dir,  # direktori data latih\n",
        "        target_size=(150,150),          \n",
        "        class_mode='categorical')\n",
        " \n",
        "validation_generator = val_datagen.flow_from_directory(\n",
        "        val_dir, # direktori data validasi\n",
        "        target_size=(150, 150), \n",
        "        class_mode='categorical')"
      ],
      "execution_count": null,
      "outputs": [
        {
          "output_type": "stream",
          "text": [
            "Found 540 images belonging to 4 classes.\n",
            "Found 61 images belonging to 4 classes.\n"
          ],
          "name": "stdout"
        }
      ]
    },
    {
      "cell_type": "code",
      "metadata": {
        "colab": {
          "base_uri": "https://localhost:8080/"
        },
        "id": "IMuemtb5I5kT",
        "outputId": "1c5a10ad-cfef-4f64-b460-5f0b4334dd2c"
      },
      "source": [
        "from tensorflow.keras.applications import ResNet50\n",
        "\n",
        "base_model = ResNet50(input_shape=(150, 150,3), include_top=False, weights=\"imagenet\")"
      ],
      "execution_count": null,
      "outputs": [
        {
          "output_type": "stream",
          "text": [
            "Downloading data from https://storage.googleapis.com/tensorflow/keras-applications/resnet/resnet50_weights_tf_dim_ordering_tf_kernels_notop.h5\n",
            "94773248/94765736 [==============================] - 1s 0us/step\n"
          ],
          "name": "stdout"
        }
      ]
    },
    {
      "cell_type": "code",
      "metadata": {
        "id": "Dk5xazmHJBp1"
      },
      "source": [
        "for layer in base_model.layers:\n",
        "    layer.trainable = False"
      ],
      "execution_count": null,
      "outputs": []
    },
    {
      "cell_type": "code",
      "metadata": {
        "id": "0jMKDb9GJDfW"
      },
      "source": [
        "from tensorflow.keras.applications import ResNet50\n",
        "from tensorflow.python.keras.models import Sequential\n",
        "from tensorflow.python.keras.layers import Dense, Flatten, GlobalAveragePooling2D\n",
        "\n",
        "base_model = Sequential()\n",
        "base_model.add(ResNet50(include_top=False, weights='imagenet', pooling='max'))\n",
        "base_model.add(Dense(4, activation='sigmoid'))"
      ],
      "execution_count": null,
      "outputs": []
    },
    {
      "cell_type": "code",
      "metadata": {
        "id": "TEghaiVVJIh3"
      },
      "source": [
        "base_model.compile(optimizer = tf.keras.optimizers.SGD(learning_rate=0.0001), loss = 'categorical_crossentropy', metrics = ['accuracy'])"
      ],
      "execution_count": null,
      "outputs": []
    },
    {
      "cell_type": "code",
      "metadata": {
        "colab": {
          "base_uri": "https://localhost:8080/"
        },
        "id": "NUGROMvzovRy",
        "outputId": "418127d5-af4f-4bb1-a5d2-92a0287a6138"
      },
      "source": [
        "history = base_model.fit(train_generator, validation_data = validation_generator, steps_per_epoch = 10, epochs = 30)"
      ],
      "execution_count": null,
      "outputs": [
        {
          "output_type": "stream",
          "text": [
            "Epoch 1/30\n",
            "10/10 [==============================] - 175s 17s/step - loss: 4.1494 - accuracy: 0.4177 - val_loss: 4.4938 - val_accuracy: 0.1967\n",
            "Epoch 2/30\n",
            "10/10 [==============================] - 164s 16s/step - loss: 3.4159 - accuracy: 0.4114 - val_loss: 4.8323 - val_accuracy: 0.1967\n",
            "Epoch 3/30\n",
            "10/10 [==============================] - 163s 16s/step - loss: 2.8761 - accuracy: 0.4430 - val_loss: 5.3959 - val_accuracy: 0.1967\n",
            "Epoch 4/30\n",
            "10/10 [==============================] - 162s 16s/step - loss: 3.2780 - accuracy: 0.4146 - val_loss: 5.7596 - val_accuracy: 0.1967\n",
            "Epoch 5/30\n",
            "10/10 [==============================] - 163s 16s/step - loss: 2.9105 - accuracy: 0.4525 - val_loss: 6.0984 - val_accuracy: 0.1967\n",
            "Epoch 6/30\n",
            "10/10 [==============================] - 166s 16s/step - loss: 2.7652 - accuracy: 0.4719 - val_loss: 6.7136 - val_accuracy: 0.1967\n",
            "Epoch 7/30\n",
            "10/10 [==============================] - 167s 16s/step - loss: 2.5203 - accuracy: 0.4750 - val_loss: 7.0051 - val_accuracy: 0.1967\n",
            "Epoch 8/30\n",
            "10/10 [==============================] - 162s 16s/step - loss: 2.4886 - accuracy: 0.5000 - val_loss: 6.8920 - val_accuracy: 0.1967\n",
            "Epoch 9/30\n",
            "10/10 [==============================] - 162s 16s/step - loss: 2.4021 - accuracy: 0.5095 - val_loss: 7.7421 - val_accuracy: 0.1967\n",
            "Epoch 10/30\n",
            "10/10 [==============================] - 166s 16s/step - loss: 2.4671 - accuracy: 0.4844 - val_loss: 7.0621 - val_accuracy: 0.1967\n",
            "Epoch 11/30\n",
            "10/10 [==============================] - 167s 17s/step - loss: 2.4648 - accuracy: 0.5000 - val_loss: 6.4467 - val_accuracy: 0.1967\n",
            "Epoch 12/30\n",
            "10/10 [==============================] - 168s 17s/step - loss: 2.1914 - accuracy: 0.5281 - val_loss: 5.6975 - val_accuracy: 0.1967\n",
            "Epoch 13/30\n",
            "10/10 [==============================] - 171s 17s/step - loss: 2.0892 - accuracy: 0.5506 - val_loss: 5.3167 - val_accuracy: 0.1967\n",
            "Epoch 14/30\n",
            "10/10 [==============================] - 172s 17s/step - loss: 1.8390 - accuracy: 0.5601 - val_loss: 4.9908 - val_accuracy: 0.1967\n",
            "Epoch 15/30\n",
            "10/10 [==============================] - 172s 17s/step - loss: 1.8956 - accuracy: 0.5633 - val_loss: 5.0366 - val_accuracy: 0.1967\n",
            "Epoch 16/30\n",
            "10/10 [==============================] - 172s 17s/step - loss: 1.8518 - accuracy: 0.5969 - val_loss: 4.7597 - val_accuracy: 0.1967\n",
            "Epoch 17/30\n",
            "10/10 [==============================] - 171s 17s/step - loss: 2.0771 - accuracy: 0.5222 - val_loss: 4.7390 - val_accuracy: 0.1967\n",
            "Epoch 18/30\n",
            "10/10 [==============================] - 172s 17s/step - loss: 2.2617 - accuracy: 0.4844 - val_loss: 4.6623 - val_accuracy: 0.1967\n",
            "Epoch 19/30\n",
            "10/10 [==============================] - 169s 17s/step - loss: 1.8989 - accuracy: 0.5601 - val_loss: 4.9742 - val_accuracy: 0.1967\n",
            "Epoch 20/30\n",
            "10/10 [==============================] - 169s 17s/step - loss: 1.8836 - accuracy: 0.5633 - val_loss: 4.8999 - val_accuracy: 0.1967\n",
            "Epoch 21/30\n",
            "10/10 [==============================] - 171s 17s/step - loss: 1.8976 - accuracy: 0.5469 - val_loss: 5.1999 - val_accuracy: 0.1967\n",
            "Epoch 22/30\n",
            "10/10 [==============================] - 171s 17s/step - loss: 2.1705 - accuracy: 0.5380 - val_loss: 5.0505 - val_accuracy: 0.1967\n",
            "Epoch 23/30\n",
            "10/10 [==============================] - 173s 17s/step - loss: 1.6916 - accuracy: 0.6361 - val_loss: 4.8685 - val_accuracy: 0.1967\n",
            "Epoch 24/30\n",
            "10/10 [==============================] - 173s 17s/step - loss: 1.8190 - accuracy: 0.5570 - val_loss: 4.8223 - val_accuracy: 0.1967\n",
            "Epoch 25/30\n",
            "10/10 [==============================] - 173s 17s/step - loss: 1.7760 - accuracy: 0.6094 - val_loss: 4.8452 - val_accuracy: 0.1967\n",
            "Epoch 26/30\n",
            "10/10 [==============================] - 172s 17s/step - loss: 1.5996 - accuracy: 0.6250 - val_loss: 4.6025 - val_accuracy: 0.1967\n",
            "Epoch 27/30\n",
            "10/10 [==============================] - 168s 17s/step - loss: 1.8611 - accuracy: 0.5411 - val_loss: 4.5769 - val_accuracy: 0.1967\n",
            "Epoch 28/30\n",
            "10/10 [==============================] - 167s 17s/step - loss: 1.8679 - accuracy: 0.5570 - val_loss: 4.6336 - val_accuracy: 0.1967\n",
            "Epoch 29/30\n",
            "10/10 [==============================] - 163s 16s/step - loss: 1.5803 - accuracy: 0.6203 - val_loss: 4.6610 - val_accuracy: 0.1967\n",
            "Epoch 30/30\n",
            "10/10 [==============================] - 160s 16s/step - loss: 1.9508 - accuracy: 0.5411 - val_loss: 4.5790 - val_accuracy: 0.1967\n"
          ],
          "name": "stdout"
        }
      ]
    },
    {
      "cell_type": "code",
      "metadata": {
        "colab": {
          "base_uri": "https://localhost:8080/"
        },
        "id": "9eArsPGGoEiR",
        "outputId": "8e4d1070-c473-4fcd-d00c-99f3d2c1d0c6"
      },
      "source": [
        "tf.keras.models.save_model(base_model,'my_model.hdf5')"
      ],
      "execution_count": null,
      "outputs": [
        {
          "output_type": "stream",
          "text": [
            "/usr/local/lib/python3.7/dist-packages/tensorflow/python/keras/utils/generic_utils.py:497: CustomMaskWarning: Custom mask layers require a config and must override get_config. When loading, the custom mask layer must be passed to the custom_objects argument.\n",
            "  category=CustomMaskWarning)\n"
          ],
          "name": "stderr"
        }
      ]
    },
    {
      "cell_type": "code",
      "metadata": {
        "colab": {
          "base_uri": "https://localhost:8080/"
        },
        "id": "RhtNsFOdoLHn",
        "outputId": "087930fc-e4c3-4052-a539-f0cba48dc1d9"
      },
      "source": [
        "# Konversi model.\n",
        "converter = tf.lite.TFLiteConverter.from_keras_model(base_model)\n",
        "tflite_model = converter.convert()\n",
        "\n",
        "with tf.io.gfile.GFile('model.tflite', 'wb') as f:\n",
        "  f.write(tflite_model)"
      ],
      "execution_count": null,
      "outputs": [
        {
          "output_type": "stream",
          "text": [
            "/usr/local/lib/python3.7/dist-packages/tensorflow/python/keras/utils/generic_utils.py:497: CustomMaskWarning: Custom mask layers require a config and must override get_config. When loading, the custom mask layer must be passed to the custom_objects argument.\n",
            "  category=CustomMaskWarning)\n"
          ],
          "name": "stderr"
        },
        {
          "output_type": "stream",
          "text": [
            "INFO:tensorflow:Assets written to: /tmp/tmpwkytctel/assets\n"
          ],
          "name": "stdout"
        }
      ]
    }
  ]
}